{
  "cells": [
    {
      "cell_type": "markdown",
      "metadata": {
        "id": "view-in-github",
        "colab_type": "text"
      },
      "source": [
        "<a href=\"https://colab.research.google.com/github/Rishabh5752/Text_Attack_Exp/blob/main/BERT_base_uncased_AGNews.ipynb\" target=\"_parent\"><img src=\"https://colab.research.google.com/assets/colab-badge.svg\" alt=\"Open In Colab\"/></a>"
      ]
    },
    {
      "cell_type": "code",
      "execution_count": null,
      "metadata": {
        "id": "Vk9bKvZb2NE-",
        "colab": {
          "base_uri": "https://localhost:8080/"
        },
        "outputId": "63752054-6f79-405e-c06c-571c68919780"
      },
      "outputs": [
        {
          "output_type": "stream",
          "name": "stdout",
          "text": [
            "Looking in indexes: https://pypi.org/simple, https://us-python.pkg.dev/colab-wheels/public/simple/\n",
            "Collecting textattack\n",
            "  Downloading textattack-0.3.8-py3-none-any.whl (418 kB)\n",
            "\u001b[2K     \u001b[90m━━━━━━━━━━━━━━━━━━━━━━━━━━━━━━━━━━━━━━\u001b[0m \u001b[32m418.7/418.7 kB\u001b[0m \u001b[31m12.8 MB/s\u001b[0m eta \u001b[36m0:00:00\u001b[0m\n",
            "\u001b[?25hCollecting bert-score>=0.3.5 (from textattack)\n",
            "  Downloading bert_score-0.3.13-py3-none-any.whl (61 kB)\n",
            "\u001b[2K     \u001b[90m━━━━━━━━━━━━━━━━━━━━━━━━━━━━━━━━━━━━━━━━\u001b[0m \u001b[32m61.1/61.1 kB\u001b[0m \u001b[31m8.8 MB/s\u001b[0m eta \u001b[36m0:00:00\u001b[0m\n",
            "\u001b[?25hRequirement already satisfied: editdistance in /usr/local/lib/python3.10/dist-packages (from textattack) (0.6.2)\n",
            "Collecting flair (from textattack)\n",
            "  Downloading flair-0.12.2-py3-none-any.whl (373 kB)\n",
            "\u001b[2K     \u001b[90m━━━━━━━━━━━━━━━━━━━━━━━━━━━━━━━━━━━━━━\u001b[0m \u001b[32m373.1/373.1 kB\u001b[0m \u001b[31m42.4 MB/s\u001b[0m eta \u001b[36m0:00:00\u001b[0m\n",
            "\u001b[?25hRequirement already satisfied: filelock in /usr/local/lib/python3.10/dist-packages (from textattack) (3.12.0)\n",
            "Collecting language-tool-python (from textattack)\n",
            "  Downloading language_tool_python-2.7.1-py3-none-any.whl (34 kB)\n",
            "Collecting lemminflect (from textattack)\n",
            "  Downloading lemminflect-0.2.3-py3-none-any.whl (769 kB)\n",
            "\u001b[2K     \u001b[90m━━━━━━━━━━━━━━━━━━━━━━━━━━━━━━━━━━━━━━\u001b[0m \u001b[32m769.7/769.7 kB\u001b[0m \u001b[31m50.6 MB/s\u001b[0m eta \u001b[36m0:00:00\u001b[0m\n",
            "\u001b[?25hCollecting lru-dict (from textattack)\n",
            "  Downloading lru_dict-1.2.0-cp310-cp310-manylinux_2_5_x86_64.manylinux1_x86_64.manylinux_2_17_x86_64.manylinux2014_x86_64.whl (28 kB)\n",
            "Collecting datasets==2.4.0 (from textattack)\n",
            "  Downloading datasets-2.4.0-py3-none-any.whl (365 kB)\n",
            "\u001b[2K     \u001b[90m━━━━━━━━━━━━━━━━━━━━━━━━━━━━━━━━━━━━━━\u001b[0m \u001b[32m365.7/365.7 kB\u001b[0m \u001b[31m26.2 MB/s\u001b[0m eta \u001b[36m0:00:00\u001b[0m\n",
            "\u001b[?25hRequirement already satisfied: nltk in /usr/local/lib/python3.10/dist-packages (from textattack) (3.8.1)\n",
            "Requirement already satisfied: numpy>=1.21.0 in /usr/local/lib/python3.10/dist-packages (from textattack) (1.22.4)\n",
            "Requirement already satisfied: pandas>=1.0.1 in /usr/local/lib/python3.10/dist-packages (from textattack) (1.5.3)\n",
            "Requirement already satisfied: scipy>=1.4.1 in /usr/local/lib/python3.10/dist-packages (from textattack) (1.10.1)\n",
            "Requirement already satisfied: torch!=1.8,>=1.7.0 in /usr/local/lib/python3.10/dist-packages (from textattack) (2.0.1+cu118)\n",
            "Collecting transformers>=4.21.0 (from textattack)\n",
            "  Downloading transformers-4.30.2-py3-none-any.whl (7.2 MB)\n",
            "\u001b[2K     \u001b[90m━━━━━━━━━━━━━━━━━━━━━━━━━━━━━━━━━━━━━━━━\u001b[0m \u001b[32m7.2/7.2 MB\u001b[0m \u001b[31m113.3 MB/s\u001b[0m eta \u001b[36m0:00:00\u001b[0m\n",
            "\u001b[?25hCollecting terminaltables (from textattack)\n",
            "  Downloading terminaltables-3.1.10-py2.py3-none-any.whl (15 kB)\n",
            "Requirement already satisfied: tqdm in /usr/local/lib/python3.10/dist-packages (from textattack) (4.65.0)\n",
            "Collecting word2number (from textattack)\n",
            "  Downloading word2number-1.1.zip (9.7 kB)\n",
            "  Preparing metadata (setup.py) ... \u001b[?25l\u001b[?25hdone\n",
            "Collecting num2words (from textattack)\n",
            "  Downloading num2words-0.5.12-py3-none-any.whl (125 kB)\n",
            "\u001b[2K     \u001b[90m━━━━━━━━━━━━━━━━━━━━━━━━━━━━━━━━━━━━━━\u001b[0m \u001b[32m125.2/125.2 kB\u001b[0m \u001b[31m19.0 MB/s\u001b[0m eta \u001b[36m0:00:00\u001b[0m\n",
            "\u001b[?25hRequirement already satisfied: more-itertools in /usr/local/lib/python3.10/dist-packages (from textattack) (9.1.0)\n",
            "Requirement already satisfied: PySocks!=1.5.7,>=1.5.6 in /usr/local/lib/python3.10/dist-packages (from textattack) (1.7.1)\n",
            "Collecting pinyin==0.4.0 (from textattack)\n",
            "  Downloading pinyin-0.4.0.tar.gz (3.6 MB)\n",
            "\u001b[2K     \u001b[90m━━━━━━━━━━━━━━━━━━━━━━━━━━━━━━━━━━━━━━━━\u001b[0m \u001b[32m3.6/3.6 MB\u001b[0m \u001b[31m99.3 MB/s\u001b[0m eta \u001b[36m0:00:00\u001b[0m\n",
            "\u001b[?25h  Preparing metadata (setup.py) ... \u001b[?25l\u001b[?25hdone\n",
            "Requirement already satisfied: jieba in /usr/local/lib/python3.10/dist-packages (from textattack) (0.42.1)\n",
            "Collecting OpenHowNet (from textattack)\n",
            "  Downloading OpenHowNet-2.0-py3-none-any.whl (18 kB)\n",
            "Collecting pycld2 (from textattack)\n",
            "  Downloading pycld2-0.41.tar.gz (41.4 MB)\n",
            "\u001b[2K     \u001b[90m━━━━━━━━━━━━━━━━━━━━━━━━━━━━━━━━━━━━━━━━\u001b[0m \u001b[32m41.4/41.4 MB\u001b[0m \u001b[31m19.0 MB/s\u001b[0m eta \u001b[36m0:00:00\u001b[0m\n",
            "\u001b[?25h  Preparing metadata (setup.py) ... \u001b[?25l\u001b[?25hdone\n",
            "Collecting click<8.1.0 (from textattack)\n",
            "  Downloading click-8.0.4-py3-none-any.whl (97 kB)\n",
            "\u001b[2K     \u001b[90m━━━━━━━━━━━━━━━━━━━━━━━━━━━━━━━━━━━━━━━━\u001b[0m \u001b[32m97.5/97.5 kB\u001b[0m \u001b[31m12.8 MB/s\u001b[0m eta \u001b[36m0:00:00\u001b[0m\n",
            "\u001b[?25hRequirement already satisfied: pyarrow>=6.0.0 in /usr/local/lib/python3.10/dist-packages (from datasets==2.4.0->textattack) (9.0.0)\n",
            "Collecting dill<0.3.6 (from datasets==2.4.0->textattack)\n",
            "  Downloading dill-0.3.5.1-py2.py3-none-any.whl (95 kB)\n",
            "\u001b[2K     \u001b[90m━━━━━━━━━━━━━━━━━━━━━━━━━━━━━━━━━━━━━━━━\u001b[0m \u001b[32m95.8/95.8 kB\u001b[0m \u001b[31m14.7 MB/s\u001b[0m eta \u001b[36m0:00:00\u001b[0m\n",
            "\u001b[?25hRequirement already satisfied: requests>=2.19.0 in /usr/local/lib/python3.10/dist-packages (from datasets==2.4.0->textattack) (2.27.1)\n",
            "Collecting xxhash (from datasets==2.4.0->textattack)\n",
            "  Downloading xxhash-3.2.0-cp310-cp310-manylinux_2_17_x86_64.manylinux2014_x86_64.whl (212 kB)\n",
            "\u001b[2K     \u001b[90m━━━━━━━━━━━━━━━━━━━━━━━━━━━━━━━━━━━━━━━\u001b[0m \u001b[32m212.5/212.5 kB\u001b[0m \u001b[31m1.0 MB/s\u001b[0m eta \u001b[36m0:00:00\u001b[0m\n",
            "\u001b[?25hCollecting multiprocess (from datasets==2.4.0->textattack)\n",
            "  Downloading multiprocess-0.70.14-py310-none-any.whl (134 kB)\n",
            "\u001b[2K     \u001b[90m━━━━━━━━━━━━━━━━━━━━━━━━━━━━━━━━━━━━━━\u001b[0m \u001b[32m134.3/134.3 kB\u001b[0m \u001b[31m19.3 MB/s\u001b[0m eta \u001b[36m0:00:00\u001b[0m\n",
            "\u001b[?25hRequirement already satisfied: fsspec[http]>=2021.11.1 in /usr/local/lib/python3.10/dist-packages (from datasets==2.4.0->textattack) (2023.4.0)\n",
            "Collecting aiohttp (from datasets==2.4.0->textattack)\n",
            "  Downloading aiohttp-3.8.4-cp310-cp310-manylinux_2_17_x86_64.manylinux2014_x86_64.whl (1.0 MB)\n",
            "\u001b[2K     \u001b[90m━━━━━━━━━━━━━━━━━━━━━━━━━━━━━━━━━━━━━━━━\u001b[0m \u001b[32m1.0/1.0 MB\u001b[0m \u001b[31m84.6 MB/s\u001b[0m eta \u001b[36m0:00:00\u001b[0m\n",
            "\u001b[?25hCollecting huggingface-hub<1.0.0,>=0.1.0 (from datasets==2.4.0->textattack)\n",
            "  Downloading huggingface_hub-0.15.1-py3-none-any.whl (236 kB)\n",
            "\u001b[2K     \u001b[90m━━━━━━━━━━━━━━━━━━━━━━━━━━━━━━━━━━━━━━\u001b[0m \u001b[32m236.8/236.8 kB\u001b[0m \u001b[31m31.7 MB/s\u001b[0m eta \u001b[36m0:00:00\u001b[0m\n",
            "\u001b[?25hRequirement already satisfied: packaging in /usr/local/lib/python3.10/dist-packages (from datasets==2.4.0->textattack) (23.1)\n",
            "Collecting responses<0.19 (from datasets==2.4.0->textattack)\n",
            "  Downloading responses-0.18.0-py3-none-any.whl (38 kB)\n",
            "Requirement already satisfied: matplotlib in /usr/local/lib/python3.10/dist-packages (from bert-score>=0.3.5->textattack) (3.7.1)\n",
            "Requirement already satisfied: python-dateutil>=2.8.1 in /usr/local/lib/python3.10/dist-packages (from pandas>=1.0.1->textattack) (2.8.2)\n",
            "Requirement already satisfied: pytz>=2020.1 in /usr/local/lib/python3.10/dist-packages (from pandas>=1.0.1->textattack) (2022.7.1)\n",
            "Requirement already satisfied: typing-extensions in /usr/local/lib/python3.10/dist-packages (from torch!=1.8,>=1.7.0->textattack) (4.5.0)\n",
            "Requirement already satisfied: sympy in /usr/local/lib/python3.10/dist-packages (from torch!=1.8,>=1.7.0->textattack) (1.11.1)\n",
            "Requirement already satisfied: networkx in /usr/local/lib/python3.10/dist-packages (from torch!=1.8,>=1.7.0->textattack) (3.1)\n",
            "Requirement already satisfied: jinja2 in /usr/local/lib/python3.10/dist-packages (from torch!=1.8,>=1.7.0->textattack) (3.1.2)\n",
            "Requirement already satisfied: triton==2.0.0 in /usr/local/lib/python3.10/dist-packages (from torch!=1.8,>=1.7.0->textattack) (2.0.0)\n",
            "Requirement already satisfied: cmake in /usr/local/lib/python3.10/dist-packages (from triton==2.0.0->torch!=1.8,>=1.7.0->textattack) (3.25.2)\n",
            "Requirement already satisfied: lit in /usr/local/lib/python3.10/dist-packages (from triton==2.0.0->torch!=1.8,>=1.7.0->textattack) (16.0.5)\n",
            "Requirement already satisfied: pyyaml>=5.1 in /usr/local/lib/python3.10/dist-packages (from transformers>=4.21.0->textattack) (6.0)\n",
            "Requirement already satisfied: regex!=2019.12.17 in /usr/local/lib/python3.10/dist-packages (from transformers>=4.21.0->textattack) (2022.10.31)\n",
            "Collecting tokenizers!=0.11.3,<0.14,>=0.11.1 (from transformers>=4.21.0->textattack)\n",
            "  Downloading tokenizers-0.13.3-cp310-cp310-manylinux_2_17_x86_64.manylinux2014_x86_64.whl (7.8 MB)\n",
            "\u001b[2K     \u001b[90m━━━━━━━━━━━━━━━━━━━━━━━━━━━━━━━━━━━━━━━━\u001b[0m \u001b[32m7.8/7.8 MB\u001b[0m \u001b[31m115.6 MB/s\u001b[0m eta \u001b[36m0:00:00\u001b[0m\n",
            "\u001b[?25hCollecting safetensors>=0.3.1 (from transformers>=4.21.0->textattack)\n",
            "  Downloading safetensors-0.3.1-cp310-cp310-manylinux_2_17_x86_64.manylinux2014_x86_64.whl (1.3 MB)\n",
            "\u001b[2K     \u001b[90m━━━━━━━━━━━━━━━━━━━━━━━━━━━━━━━━━━━━━━━━\u001b[0m \u001b[32m1.3/1.3 MB\u001b[0m \u001b[31m53.6 MB/s\u001b[0m eta \u001b[36m0:00:00\u001b[0m\n",
            "\u001b[?25hRequirement already satisfied: gensim>=3.8.0 in /usr/local/lib/python3.10/dist-packages (from flair->textattack) (4.3.1)\n",
            "Collecting segtok>=1.5.7 (from flair->textattack)\n",
            "  Downloading segtok-1.5.11-py3-none-any.whl (24 kB)\n",
            "Collecting mpld3==0.3 (from flair->textattack)\n",
            "  Downloading mpld3-0.3.tar.gz (788 kB)\n",
            "\u001b[2K     \u001b[90m━━━━━━━━━━━━━━━━━━━━━━━━━━━━━━━━━━━━━━\u001b[0m \u001b[32m788.5/788.5 kB\u001b[0m \u001b[31m71.7 MB/s\u001b[0m eta \u001b[36m0:00:00\u001b[0m\n",
            "\u001b[?25h  Preparing metadata (setup.py) ... \u001b[?25l\u001b[?25hdone\n",
            "Requirement already satisfied: scikit-learn>=0.21.3 in /usr/local/lib/python3.10/dist-packages (from flair->textattack) (1.2.2)\n",
            "Collecting sqlitedict>=1.6.0 (from flair->textattack)\n",
            "  Downloading sqlitedict-2.1.0.tar.gz (21 kB)\n",
            "  Preparing metadata (setup.py) ... \u001b[?25l\u001b[?25hdone\n",
            "Collecting deprecated>=1.2.4 (from flair->textattack)\n",
            "  Downloading Deprecated-1.2.14-py2.py3-none-any.whl (9.6 kB)\n",
            "Requirement already satisfied: hyperopt>=0.2.7 in /usr/local/lib/python3.10/dist-packages (from flair->textattack) (0.2.7)\n",
            "Collecting boto3 (from flair->textattack)\n",
            "  Downloading boto3-1.26.157-py3-none-any.whl (135 kB)\n",
            "\u001b[2K     \u001b[90m━━━━━━━━━━━━━━━━━━━━━━━━━━━━━━━━━━━━━━━\u001b[0m \u001b[32m135.9/135.9 kB\u001b[0m \u001b[31m7.9 MB/s\u001b[0m eta \u001b[36m0:00:00\u001b[0m\n",
            "\u001b[?25hCollecting bpemb>=0.3.2 (from flair->textattack)\n",
            "  Downloading bpemb-0.3.4-py3-none-any.whl (19 kB)\n",
            "Requirement already satisfied: tabulate in /usr/local/lib/python3.10/dist-packages (from flair->textattack) (0.8.10)\n",
            "Collecting langdetect (from flair->textattack)\n",
            "  Downloading langdetect-1.0.9.tar.gz (981 kB)\n",
            "\u001b[2K     \u001b[90m━━━━━━━━━━━━━━━━━━━━━━━━━━━━━━━━━━━━━━\u001b[0m \u001b[32m981.5/981.5 kB\u001b[0m \u001b[31m80.0 MB/s\u001b[0m eta \u001b[36m0:00:00\u001b[0m\n",
            "\u001b[?25h  Preparing metadata (setup.py) ... \u001b[?25l\u001b[?25hdone\n",
            "Requirement already satisfied: lxml in /usr/local/lib/python3.10/dist-packages (from flair->textattack) (4.9.2)\n",
            "Collecting ftfy (from flair->textattack)\n",
            "  Downloading ftfy-6.1.1-py3-none-any.whl (53 kB)\n",
            "\u001b[2K     \u001b[90m━━━━━━━━━━━━━━━━━━━━━━━━━━━━━━━━━━━━━━━━\u001b[0m \u001b[32m53.1/53.1 kB\u001b[0m \u001b[31m7.5 MB/s\u001b[0m eta \u001b[36m0:00:00\u001b[0m\n",
            "\u001b[?25hCollecting janome (from flair->textattack)\n",
            "  Downloading Janome-0.4.2-py2.py3-none-any.whl (19.7 MB)\n",
            "\u001b[2K     \u001b[90m━━━━━━━━━━━━━━━━━━━━━━━━━━━━━━━━━━━━━━━━\u001b[0m \u001b[32m19.7/19.7 MB\u001b[0m \u001b[31m90.9 MB/s\u001b[0m eta \u001b[36m0:00:00\u001b[0m\n",
            "\u001b[?25hCollecting gdown==4.4.0 (from flair->textattack)\n",
            "  Downloading gdown-4.4.0.tar.gz (14 kB)\n",
            "  Installing build dependencies ... \u001b[?25l\u001b[?25hdone\n",
            "  Getting requirements to build wheel ... \u001b[?25l\u001b[?25hdone\n",
            "  Preparing metadata (pyproject.toml) ... \u001b[?25l\u001b[?25hdone\n",
            "Collecting conllu>=4.0 (from flair->textattack)\n",
            "  Downloading conllu-4.5.3-py2.py3-none-any.whl (16 kB)\n",
            "Collecting wikipedia-api (from flair->textattack)\n",
            "  Downloading Wikipedia_API-0.5.8-py3-none-any.whl (13 kB)\n",
            "Collecting pptree (from flair->textattack)\n",
            "  Downloading pptree-3.1.tar.gz (3.0 kB)\n",
            "  Preparing metadata (setup.py) ... \u001b[?25l\u001b[?25hdone\n",
            "Collecting pytorch-revgrad (from flair->textattack)\n",
            "  Downloading pytorch_revgrad-0.2.0-py3-none-any.whl (4.6 kB)\n",
            "Collecting transformer-smaller-training-vocab>=0.2.1 (from flair->textattack)\n",
            "  Downloading transformer_smaller_training_vocab-0.2.4-py3-none-any.whl (13 kB)\n",
            "Requirement already satisfied: six in /usr/local/lib/python3.10/dist-packages (from gdown==4.4.0->flair->textattack) (1.16.0)\n",
            "Requirement already satisfied: beautifulsoup4 in /usr/local/lib/python3.10/dist-packages (from gdown==4.4.0->flair->textattack) (4.11.2)\n",
            "Requirement already satisfied: joblib in /usr/local/lib/python3.10/dist-packages (from nltk->textattack) (1.2.0)\n",
            "Collecting docopt>=0.6.2 (from num2words->textattack)\n",
            "  Downloading docopt-0.6.2.tar.gz (25 kB)\n",
            "  Preparing metadata (setup.py) ... \u001b[?25l\u001b[?25hdone\n",
            "Collecting anytree (from OpenHowNet->textattack)\n",
            "  Downloading anytree-2.8.0-py2.py3-none-any.whl (41 kB)\n",
            "\u001b[2K     \u001b[90m━━━━━━━━━━━━━━━━━━━━━━━━━━━━━━━━━━━━━━━━\u001b[0m \u001b[32m41.7/41.7 kB\u001b[0m \u001b[31m5.8 MB/s\u001b[0m eta \u001b[36m0:00:00\u001b[0m\n",
            "\u001b[?25hRequirement already satisfied: setuptools in /usr/local/lib/python3.10/dist-packages (from OpenHowNet->textattack) (67.7.2)\n",
            "Collecting sentencepiece (from bpemb>=0.3.2->flair->textattack)\n",
            "  Downloading sentencepiece-0.1.99-cp310-cp310-manylinux_2_17_x86_64.manylinux2014_x86_64.whl (1.3 MB)\n",
            "\u001b[2K     \u001b[90m━━━━━━━━━━━━━━━━━━━━━━━━━━━━━━━━━━━━━━━━\u001b[0m \u001b[32m1.3/1.3 MB\u001b[0m \u001b[31m92.8 MB/s\u001b[0m eta \u001b[36m0:00:00\u001b[0m\n",
            "\u001b[?25hRequirement already satisfied: wrapt<2,>=1.10 in /usr/local/lib/python3.10/dist-packages (from deprecated>=1.2.4->flair->textattack) (1.14.1)\n",
            "Requirement already satisfied: attrs>=17.3.0 in /usr/local/lib/python3.10/dist-packages (from aiohttp->datasets==2.4.0->textattack) (23.1.0)\n",
            "Requirement already satisfied: charset-normalizer<4.0,>=2.0 in /usr/local/lib/python3.10/dist-packages (from aiohttp->datasets==2.4.0->textattack) (2.0.12)\n",
            "Collecting multidict<7.0,>=4.5 (from aiohttp->datasets==2.4.0->textattack)\n",
            "  Downloading multidict-6.0.4-cp310-cp310-manylinux_2_17_x86_64.manylinux2014_x86_64.whl (114 kB)\n",
            "\u001b[2K     \u001b[90m━━━━━━━━━━━━━━━━━━━━━━━━━━━━━━━━━━━━━━\u001b[0m \u001b[32m114.5/114.5 kB\u001b[0m \u001b[31m17.2 MB/s\u001b[0m eta \u001b[36m0:00:00\u001b[0m\n",
            "\u001b[?25hCollecting async-timeout<5.0,>=4.0.0a3 (from aiohttp->datasets==2.4.0->textattack)\n",
            "  Downloading async_timeout-4.0.2-py3-none-any.whl (5.8 kB)\n",
            "Collecting yarl<2.0,>=1.0 (from aiohttp->datasets==2.4.0->textattack)\n",
            "  Downloading yarl-1.9.2-cp310-cp310-manylinux_2_17_x86_64.manylinux2014_x86_64.whl (268 kB)\n",
            "\u001b[2K     \u001b[90m━━━━━━━━━━━━━━━━━━━━━━━━━━━━━━━━━━━━━━\u001b[0m \u001b[32m268.8/268.8 kB\u001b[0m \u001b[31m33.8 MB/s\u001b[0m eta \u001b[36m0:00:00\u001b[0m\n",
            "\u001b[?25hCollecting frozenlist>=1.1.1 (from aiohttp->datasets==2.4.0->textattack)\n",
            "  Downloading frozenlist-1.3.3-cp310-cp310-manylinux_2_5_x86_64.manylinux1_x86_64.manylinux_2_17_x86_64.manylinux2014_x86_64.whl (149 kB)\n",
            "\u001b[2K     \u001b[90m━━━━━━━━━━━━━━━━━━━━━━━━━━━━━━━━━━━━━━\u001b[0m \u001b[32m149.6/149.6 kB\u001b[0m \u001b[31m23.2 MB/s\u001b[0m eta \u001b[36m0:00:00\u001b[0m\n",
            "\u001b[?25hCollecting aiosignal>=1.1.2 (from aiohttp->datasets==2.4.0->textattack)\n",
            "  Downloading aiosignal-1.3.1-py3-none-any.whl (7.6 kB)\n",
            "Requirement already satisfied: smart-open>=1.8.1 in /usr/local/lib/python3.10/dist-packages (from gensim>=3.8.0->flair->textattack) (6.3.0)\n",
            "Requirement already satisfied: future in /usr/local/lib/python3.10/dist-packages (from hyperopt>=0.2.7->flair->textattack) (0.18.3)\n",
            "Requirement already satisfied: cloudpickle in /usr/local/lib/python3.10/dist-packages (from hyperopt>=0.2.7->flair->textattack) (2.2.1)\n",
            "Requirement already satisfied: py4j in /usr/local/lib/python3.10/dist-packages (from hyperopt>=0.2.7->flair->textattack) (0.10.9.7)\n",
            "Requirement already satisfied: contourpy>=1.0.1 in /usr/local/lib/python3.10/dist-packages (from matplotlib->bert-score>=0.3.5->textattack) (1.0.7)\n",
            "Requirement already satisfied: cycler>=0.10 in /usr/local/lib/python3.10/dist-packages (from matplotlib->bert-score>=0.3.5->textattack) (0.11.0)\n",
            "Requirement already satisfied: fonttools>=4.22.0 in /usr/local/lib/python3.10/dist-packages (from matplotlib->bert-score>=0.3.5->textattack) (4.39.3)\n",
            "Requirement already satisfied: kiwisolver>=1.0.1 in /usr/local/lib/python3.10/dist-packages (from matplotlib->bert-score>=0.3.5->textattack) (1.4.4)\n",
            "Requirement already satisfied: pillow>=6.2.0 in /usr/local/lib/python3.10/dist-packages (from matplotlib->bert-score>=0.3.5->textattack) (8.4.0)\n",
            "Requirement already satisfied: pyparsing>=2.3.1 in /usr/local/lib/python3.10/dist-packages (from matplotlib->bert-score>=0.3.5->textattack) (3.0.9)\n",
            "Requirement already satisfied: urllib3<1.27,>=1.21.1 in /usr/local/lib/python3.10/dist-packages (from requests>=2.19.0->datasets==2.4.0->textattack) (1.26.15)\n",
            "Requirement already satisfied: certifi>=2017.4.17 in /usr/local/lib/python3.10/dist-packages (from requests>=2.19.0->datasets==2.4.0->textattack) (2022.12.7)\n",
            "Requirement already satisfied: idna<4,>=2.5 in /usr/local/lib/python3.10/dist-packages (from requests>=2.19.0->datasets==2.4.0->textattack) (3.4)\n",
            "Requirement already satisfied: threadpoolctl>=2.0.0 in /usr/local/lib/python3.10/dist-packages (from scikit-learn>=0.21.3->flair->textattack) (3.1.0)\n",
            "Requirement already satisfied: protobuf<=3.20.3 in /usr/local/lib/python3.10/dist-packages (from transformers>=4.21.0->textattack) (3.20.3)\n",
            "Collecting botocore<1.30.0,>=1.29.157 (from boto3->flair->textattack)\n",
            "  Downloading botocore-1.29.157-py3-none-any.whl (10.9 MB)\n",
            "\u001b[2K     \u001b[90m━━━━━━━━━━━━━━━━━━━━━━━━━━━━━━━━━━━━━━━\u001b[0m \u001b[32m10.9/10.9 MB\u001b[0m \u001b[31m115.5 MB/s\u001b[0m eta \u001b[36m0:00:00\u001b[0m\n",
            "\u001b[?25hCollecting jmespath<2.0.0,>=0.7.1 (from boto3->flair->textattack)\n",
            "  Downloading jmespath-1.0.1-py3-none-any.whl (20 kB)\n",
            "Collecting s3transfer<0.7.0,>=0.6.0 (from boto3->flair->textattack)\n",
            "  Downloading s3transfer-0.6.1-py3-none-any.whl (79 kB)\n",
            "\u001b[2K     \u001b[90m━━━━━━━━━━━━━━━━━━━━━━━━━━━━━━━━━━━━━━━━\u001b[0m \u001b[32m79.8/79.8 kB\u001b[0m \u001b[31m12.2 MB/s\u001b[0m eta \u001b[36m0:00:00\u001b[0m\n",
            "\u001b[?25hRequirement already satisfied: wcwidth>=0.2.5 in /usr/local/lib/python3.10/dist-packages (from ftfy->flair->textattack) (0.2.6)\n",
            "Requirement already satisfied: MarkupSafe>=2.0 in /usr/local/lib/python3.10/dist-packages (from jinja2->torch!=1.8,>=1.7.0->textattack) (2.1.2)\n",
            "INFO: pip is looking at multiple versions of multiprocess to determine which version is compatible with other requirements. This could take a while.\n",
            "Collecting multiprocess (from datasets==2.4.0->textattack)\n",
            "  Downloading multiprocess-0.70.13-py310-none-any.whl (133 kB)\n",
            "\u001b[2K     \u001b[90m━━━━━━━━━━━━━━━━━━━━━━━━━━━━━━━━━━━━━━\u001b[0m \u001b[32m133.1/133.1 kB\u001b[0m \u001b[31m18.4 MB/s\u001b[0m eta \u001b[36m0:00:00\u001b[0m\n",
            "\u001b[?25hRequirement already satisfied: mpmath>=0.19 in /usr/local/lib/python3.10/dist-packages (from sympy->torch!=1.8,>=1.7.0->textattack) (1.3.0)\n",
            "Collecting accelerate>=0.20.2 (from transformers>=4.21.0->textattack)\n",
            "  Downloading accelerate-0.20.3-py3-none-any.whl (227 kB)\n",
            "\u001b[2K     \u001b[90m━━━━━━━━━━━━━━━━━━━━━━━━━━━━━━━━━━━━━━\u001b[0m \u001b[32m227.6/227.6 kB\u001b[0m \u001b[31m30.9 MB/s\u001b[0m eta \u001b[36m0:00:00\u001b[0m\n",
            "\u001b[?25hRequirement already satisfied: soupsieve>1.2 in /usr/local/lib/python3.10/dist-packages (from beautifulsoup4->gdown==4.4.0->flair->textattack) (2.4.1)\n",
            "Requirement already satisfied: psutil in /usr/local/lib/python3.10/dist-packages (from accelerate>=0.20.2->transformers>=4.21.0->textattack) (5.9.5)\n",
            "Building wheels for collected packages: pinyin, gdown, mpld3, pycld2, word2number, docopt, sqlitedict, langdetect, pptree\n",
            "  Building wheel for pinyin (setup.py) ... \u001b[?25l\u001b[?25hdone\n",
            "  Created wheel for pinyin: filename=pinyin-0.4.0-py3-none-any.whl size=3630476 sha256=25634390b2d04d7fa3aa558aa1cd3d54ca5be6ab0926e7dbc589a35399b91f59\n",
            "  Stored in directory: /root/.cache/pip/wheels/33/38/af/616fc6f154aa5bae65a1da12b22d79943434269f0468ff9b3f\n",
            "  Building wheel for gdown (pyproject.toml) ... \u001b[?25l\u001b[?25hdone\n",
            "  Created wheel for gdown: filename=gdown-4.4.0-py3-none-any.whl size=14759 sha256=e019ce8e88bd5b861bcb9ceda59513e1c73920b3306562ae25f9ae0d6d396122\n",
            "  Stored in directory: /root/.cache/pip/wheels/03/0b/3f/6ddf67a417a5b400b213b0bb772a50276c199a386b12c06bfc\n",
            "  Building wheel for mpld3 (setup.py) ... \u001b[?25l\u001b[?25hdone\n",
            "  Created wheel for mpld3: filename=mpld3-0.3-py3-none-any.whl size=116685 sha256=c5d2431174420f9ca1745d352d0031936411b3f0d4a723a8fa845fbce129577d\n",
            "  Stored in directory: /root/.cache/pip/wheels/9c/92/f7/45d9aac5dcfb1c2a1761a272365599cc7ba1050ce211a3fd9a\n",
            "  Building wheel for pycld2 (setup.py) ... \u001b[?25l\u001b[?25hdone\n",
            "  Created wheel for pycld2: filename=pycld2-0.41-cp310-cp310-linux_x86_64.whl size=9915821 sha256=7c5a62ca6657a62f7b552502c88651cbb6c6df5e1780a526c1849160ba255d97\n",
            "  Stored in directory: /root/.cache/pip/wheels/be/81/31/240c89c845e008a93d98542325270007de595bfd356eb0b06c\n",
            "  Building wheel for word2number (setup.py) ... \u001b[?25l\u001b[?25hdone\n",
            "  Created wheel for word2number: filename=word2number-1.1-py3-none-any.whl size=5569 sha256=4d37db72b723d1e06a6628a7463054bf178b408ee2af502514d867e32bcdef25\n",
            "  Stored in directory: /root/.cache/pip/wheels/84/ff/26/d3cfbd971e96c5aa3737ecfced81628830d7359b55fbb8ca3b\n",
            "  Building wheel for docopt (setup.py) ... \u001b[?25l\u001b[?25hdone\n",
            "  Created wheel for docopt: filename=docopt-0.6.2-py2.py3-none-any.whl size=13707 sha256=45227e878ca6f01cad75a0ee5edbc666060e0e368c24afd3d294d62361d53a50\n",
            "  Stored in directory: /root/.cache/pip/wheels/fc/ab/d4/5da2067ac95b36618c629a5f93f809425700506f72c9732fac\n",
            "  Building wheel for sqlitedict (setup.py) ... \u001b[?25l\u001b[?25hdone\n",
            "  Created wheel for sqlitedict: filename=sqlitedict-2.1.0-py3-none-any.whl size=16863 sha256=c0bc17e6d6945b97e2354c6941c4fd054ad3fae44b665bfd6c5ccdeddea858a8\n",
            "  Stored in directory: /root/.cache/pip/wheels/79/d6/e7/304e0e6cb2221022c26d8161f7c23cd4f259a9e41e8bbcfabd\n",
            "  Building wheel for langdetect (setup.py) ... \u001b[?25l\u001b[?25hdone\n",
            "  Created wheel for langdetect: filename=langdetect-1.0.9-py3-none-any.whl size=993224 sha256=fc37950d5c4509a0e40b79b01354a32a44639bb4cf0a58ee5a05ca37775a0170\n",
            "  Stored in directory: /root/.cache/pip/wheels/95/03/7d/59ea870c70ce4e5a370638b5462a7711ab78fba2f655d05106\n",
            "  Building wheel for pptree (setup.py) ... \u001b[?25l\u001b[?25hdone\n",
            "  Created wheel for pptree: filename=pptree-3.1-py3-none-any.whl size=4609 sha256=67d83799616775f900f4ea250e0eb8f6d29fd2113b0c9d72dae6c77f6e74dac7\n",
            "  Stored in directory: /root/.cache/pip/wheels/9f/b6/0e/6f26eb9e6eb53ff2107a7888d72b5a6a597593956113037828\n",
            "Successfully built pinyin gdown mpld3 pycld2 word2number docopt sqlitedict langdetect pptree\n",
            "Installing collected packages: word2number, tokenizers, sqlitedict, sentencepiece, safetensors, pycld2, pptree, pinyin, mpld3, lru-dict, janome, docopt, xxhash, terminaltables, segtok, num2words, multidict, lemminflect, langdetect, jmespath, ftfy, frozenlist, dill, deprecated, conllu, click, async-timeout, anytree, yarl, wikipedia-api, responses, OpenHowNet, multiprocess, language-tool-python, huggingface-hub, botocore, aiosignal, transformers, s3transfer, gdown, bpemb, aiohttp, boto3, datasets, accelerate, transformer-smaller-training-vocab, pytorch-revgrad, flair, bert-score, textattack\n",
            "  Attempting uninstall: click\n",
            "    Found existing installation: click 8.1.3\n",
            "    Uninstalling click-8.1.3:\n",
            "      Successfully uninstalled click-8.1.3\n",
            "  Attempting uninstall: gdown\n",
            "    Found existing installation: gdown 4.6.6\n",
            "    Uninstalling gdown-4.6.6:\n",
            "      Successfully uninstalled gdown-4.6.6\n",
            "Successfully installed OpenHowNet-2.0 accelerate-0.20.3 aiohttp-3.8.4 aiosignal-1.3.1 anytree-2.8.0 async-timeout-4.0.2 bert-score-0.3.13 boto3-1.26.157 botocore-1.29.157 bpemb-0.3.4 click-8.0.4 conllu-4.5.3 datasets-2.4.0 deprecated-1.2.14 dill-0.3.5.1 docopt-0.6.2 flair-0.12.2 frozenlist-1.3.3 ftfy-6.1.1 gdown-4.4.0 huggingface-hub-0.15.1 janome-0.4.2 jmespath-1.0.1 langdetect-1.0.9 language-tool-python-2.7.1 lemminflect-0.2.3 lru-dict-1.2.0 mpld3-0.3 multidict-6.0.4 multiprocess-0.70.13 num2words-0.5.12 pinyin-0.4.0 pptree-3.1 pycld2-0.41 pytorch-revgrad-0.2.0 responses-0.18.0 s3transfer-0.6.1 safetensors-0.3.1 segtok-1.5.11 sentencepiece-0.1.99 sqlitedict-2.1.0 terminaltables-3.1.10 textattack-0.3.8 tokenizers-0.13.3 transformer-smaller-training-vocab-0.2.4 transformers-4.30.2 wikipedia-api-0.5.8 word2number-1.1 xxhash-3.2.0 yarl-1.9.2\n"
          ]
        }
      ],
      "source": [
        "!pip install textattack"
      ]
    },
    {
      "cell_type": "code",
      "execution_count": null,
      "metadata": {
        "id": "1PVaSw-G2X8L",
        "colab": {
          "base_uri": "https://localhost:8080/"
        },
        "outputId": "5e36f059-fc3c-49b7-fff1-ca6824c39400"
      },
      "outputs": [
        {
          "output_type": "stream",
          "name": "stdout",
          "text": [
            "Looking in indexes: https://pypi.org/simple, https://us-python.pkg.dev/colab-wheels/public/simple/\n",
            "Collecting tensorflow-text\n",
            "  Downloading tensorflow_text-2.12.1-cp310-cp310-manylinux_2_17_x86_64.manylinux2014_x86_64.whl (6.0 MB)\n",
            "\u001b[2K     \u001b[90m━━━━━━━━━━━━━━━━━━━━━━━━━━━━━━━━━━━━━━━━\u001b[0m \u001b[32m6.0/6.0 MB\u001b[0m \u001b[31m48.2 MB/s\u001b[0m eta \u001b[36m0:00:00\u001b[0m\n",
            "\u001b[?25hRequirement already satisfied: tensorflow-hub>=0.8.0 in /usr/local/lib/python3.10/dist-packages (from tensorflow-text) (0.13.0)\n",
            "Requirement already satisfied: tensorflow<2.13,>=2.12.0 in /usr/local/lib/python3.10/dist-packages (from tensorflow-text) (2.12.0)\n",
            "Requirement already satisfied: absl-py>=1.0.0 in /usr/local/lib/python3.10/dist-packages (from tensorflow<2.13,>=2.12.0->tensorflow-text) (1.4.0)\n",
            "Requirement already satisfied: astunparse>=1.6.0 in /usr/local/lib/python3.10/dist-packages (from tensorflow<2.13,>=2.12.0->tensorflow-text) (1.6.3)\n",
            "Requirement already satisfied: flatbuffers>=2.0 in /usr/local/lib/python3.10/dist-packages (from tensorflow<2.13,>=2.12.0->tensorflow-text) (23.3.3)\n",
            "Requirement already satisfied: gast<=0.4.0,>=0.2.1 in /usr/local/lib/python3.10/dist-packages (from tensorflow<2.13,>=2.12.0->tensorflow-text) (0.4.0)\n",
            "Requirement already satisfied: google-pasta>=0.1.1 in /usr/local/lib/python3.10/dist-packages (from tensorflow<2.13,>=2.12.0->tensorflow-text) (0.2.0)\n",
            "Requirement already satisfied: grpcio<2.0,>=1.24.3 in /usr/local/lib/python3.10/dist-packages (from tensorflow<2.13,>=2.12.0->tensorflow-text) (1.54.0)\n",
            "Requirement already satisfied: h5py>=2.9.0 in /usr/local/lib/python3.10/dist-packages (from tensorflow<2.13,>=2.12.0->tensorflow-text) (3.8.0)\n",
            "Requirement already satisfied: jax>=0.3.15 in /usr/local/lib/python3.10/dist-packages (from tensorflow<2.13,>=2.12.0->tensorflow-text) (0.4.10)\n",
            "Requirement already satisfied: keras<2.13,>=2.12.0 in /usr/local/lib/python3.10/dist-packages (from tensorflow<2.13,>=2.12.0->tensorflow-text) (2.12.0)\n",
            "Requirement already satisfied: libclang>=13.0.0 in /usr/local/lib/python3.10/dist-packages (from tensorflow<2.13,>=2.12.0->tensorflow-text) (16.0.0)\n",
            "Requirement already satisfied: numpy<1.24,>=1.22 in /usr/local/lib/python3.10/dist-packages (from tensorflow<2.13,>=2.12.0->tensorflow-text) (1.22.4)\n",
            "Requirement already satisfied: opt-einsum>=2.3.2 in /usr/local/lib/python3.10/dist-packages (from tensorflow<2.13,>=2.12.0->tensorflow-text) (3.3.0)\n",
            "Requirement already satisfied: packaging in /usr/local/lib/python3.10/dist-packages (from tensorflow<2.13,>=2.12.0->tensorflow-text) (23.1)\n",
            "Requirement already satisfied: protobuf!=4.21.0,!=4.21.1,!=4.21.2,!=4.21.3,!=4.21.4,!=4.21.5,<5.0.0dev,>=3.20.3 in /usr/local/lib/python3.10/dist-packages (from tensorflow<2.13,>=2.12.0->tensorflow-text) (3.20.3)\n",
            "Requirement already satisfied: setuptools in /usr/local/lib/python3.10/dist-packages (from tensorflow<2.13,>=2.12.0->tensorflow-text) (67.7.2)\n",
            "Requirement already satisfied: six>=1.12.0 in /usr/local/lib/python3.10/dist-packages (from tensorflow<2.13,>=2.12.0->tensorflow-text) (1.16.0)\n",
            "Requirement already satisfied: tensorboard<2.13,>=2.12 in /usr/local/lib/python3.10/dist-packages (from tensorflow<2.13,>=2.12.0->tensorflow-text) (2.12.2)\n",
            "Requirement already satisfied: tensorflow-estimator<2.13,>=2.12.0 in /usr/local/lib/python3.10/dist-packages (from tensorflow<2.13,>=2.12.0->tensorflow-text) (2.12.0)\n",
            "Requirement already satisfied: termcolor>=1.1.0 in /usr/local/lib/python3.10/dist-packages (from tensorflow<2.13,>=2.12.0->tensorflow-text) (2.3.0)\n",
            "Requirement already satisfied: typing-extensions>=3.6.6 in /usr/local/lib/python3.10/dist-packages (from tensorflow<2.13,>=2.12.0->tensorflow-text) (4.5.0)\n",
            "Requirement already satisfied: wrapt<1.15,>=1.11.0 in /usr/local/lib/python3.10/dist-packages (from tensorflow<2.13,>=2.12.0->tensorflow-text) (1.14.1)\n",
            "Requirement already satisfied: tensorflow-io-gcs-filesystem>=0.23.1 in /usr/local/lib/python3.10/dist-packages (from tensorflow<2.13,>=2.12.0->tensorflow-text) (0.32.0)\n",
            "Requirement already satisfied: wheel<1.0,>=0.23.0 in /usr/local/lib/python3.10/dist-packages (from astunparse>=1.6.0->tensorflow<2.13,>=2.12.0->tensorflow-text) (0.40.0)\n",
            "Requirement already satisfied: ml-dtypes>=0.1.0 in /usr/local/lib/python3.10/dist-packages (from jax>=0.3.15->tensorflow<2.13,>=2.12.0->tensorflow-text) (0.1.0)\n",
            "Requirement already satisfied: scipy>=1.7 in /usr/local/lib/python3.10/dist-packages (from jax>=0.3.15->tensorflow<2.13,>=2.12.0->tensorflow-text) (1.10.1)\n",
            "Requirement already satisfied: google-auth<3,>=1.6.3 in /usr/local/lib/python3.10/dist-packages (from tensorboard<2.13,>=2.12->tensorflow<2.13,>=2.12.0->tensorflow-text) (2.17.3)\n",
            "Requirement already satisfied: google-auth-oauthlib<1.1,>=0.5 in /usr/local/lib/python3.10/dist-packages (from tensorboard<2.13,>=2.12->tensorflow<2.13,>=2.12.0->tensorflow-text) (1.0.0)\n",
            "Requirement already satisfied: markdown>=2.6.8 in /usr/local/lib/python3.10/dist-packages (from tensorboard<2.13,>=2.12->tensorflow<2.13,>=2.12.0->tensorflow-text) (3.4.3)\n",
            "Requirement already satisfied: requests<3,>=2.21.0 in /usr/local/lib/python3.10/dist-packages (from tensorboard<2.13,>=2.12->tensorflow<2.13,>=2.12.0->tensorflow-text) (2.27.1)\n",
            "Requirement already satisfied: tensorboard-data-server<0.8.0,>=0.7.0 in /usr/local/lib/python3.10/dist-packages (from tensorboard<2.13,>=2.12->tensorflow<2.13,>=2.12.0->tensorflow-text) (0.7.0)\n",
            "Requirement already satisfied: tensorboard-plugin-wit>=1.6.0 in /usr/local/lib/python3.10/dist-packages (from tensorboard<2.13,>=2.12->tensorflow<2.13,>=2.12.0->tensorflow-text) (1.8.1)\n",
            "Requirement already satisfied: werkzeug>=1.0.1 in /usr/local/lib/python3.10/dist-packages (from tensorboard<2.13,>=2.12->tensorflow<2.13,>=2.12.0->tensorflow-text) (2.3.0)\n",
            "Requirement already satisfied: cachetools<6.0,>=2.0.0 in /usr/local/lib/python3.10/dist-packages (from google-auth<3,>=1.6.3->tensorboard<2.13,>=2.12->tensorflow<2.13,>=2.12.0->tensorflow-text) (5.3.0)\n",
            "Requirement already satisfied: pyasn1-modules>=0.2.1 in /usr/local/lib/python3.10/dist-packages (from google-auth<3,>=1.6.3->tensorboard<2.13,>=2.12->tensorflow<2.13,>=2.12.0->tensorflow-text) (0.3.0)\n",
            "Requirement already satisfied: rsa<5,>=3.1.4 in /usr/local/lib/python3.10/dist-packages (from google-auth<3,>=1.6.3->tensorboard<2.13,>=2.12->tensorflow<2.13,>=2.12.0->tensorflow-text) (4.9)\n",
            "Requirement already satisfied: requests-oauthlib>=0.7.0 in /usr/local/lib/python3.10/dist-packages (from google-auth-oauthlib<1.1,>=0.5->tensorboard<2.13,>=2.12->tensorflow<2.13,>=2.12.0->tensorflow-text) (1.3.1)\n",
            "Requirement already satisfied: urllib3<1.27,>=1.21.1 in /usr/local/lib/python3.10/dist-packages (from requests<3,>=2.21.0->tensorboard<2.13,>=2.12->tensorflow<2.13,>=2.12.0->tensorflow-text) (1.26.15)\n",
            "Requirement already satisfied: certifi>=2017.4.17 in /usr/local/lib/python3.10/dist-packages (from requests<3,>=2.21.0->tensorboard<2.13,>=2.12->tensorflow<2.13,>=2.12.0->tensorflow-text) (2022.12.7)\n",
            "Requirement already satisfied: charset-normalizer~=2.0.0 in /usr/local/lib/python3.10/dist-packages (from requests<3,>=2.21.0->tensorboard<2.13,>=2.12->tensorflow<2.13,>=2.12.0->tensorflow-text) (2.0.12)\n",
            "Requirement already satisfied: idna<4,>=2.5 in /usr/local/lib/python3.10/dist-packages (from requests<3,>=2.21.0->tensorboard<2.13,>=2.12->tensorflow<2.13,>=2.12.0->tensorflow-text) (3.4)\n",
            "Requirement already satisfied: MarkupSafe>=2.1.1 in /usr/local/lib/python3.10/dist-packages (from werkzeug>=1.0.1->tensorboard<2.13,>=2.12->tensorflow<2.13,>=2.12.0->tensorflow-text) (2.1.2)\n",
            "Requirement already satisfied: pyasn1<0.6.0,>=0.4.6 in /usr/local/lib/python3.10/dist-packages (from pyasn1-modules>=0.2.1->google-auth<3,>=1.6.3->tensorboard<2.13,>=2.12->tensorflow<2.13,>=2.12.0->tensorflow-text) (0.5.0)\n",
            "Requirement already satisfied: oauthlib>=3.0.0 in /usr/local/lib/python3.10/dist-packages (from requests-oauthlib>=0.7.0->google-auth-oauthlib<1.1,>=0.5->tensorboard<2.13,>=2.12->tensorflow<2.13,>=2.12.0->tensorflow-text) (3.2.2)\n",
            "Installing collected packages: tensorflow-text\n",
            "Successfully installed tensorflow-text-2.12.1\n"
          ]
        }
      ],
      "source": [
        "!pip install tensorflow-text"
      ]
    },
    {
      "cell_type": "code",
      "execution_count": null,
      "metadata": {
        "id": "mtAp-mp42YAb",
        "colab": {
          "base_uri": "https://localhost:8080/"
        },
        "outputId": "5e7da75b-d6ac-493f-bf2a-950dbe7a9bad"
      },
      "outputs": [
        {
          "output_type": "stream",
          "name": "stderr",
          "text": [
            "textattack: Updating TextAttack package dependencies.\n",
            "textattack: Downloading NLTK required packages.\n",
            "[nltk_data] Downloading package averaged_perceptron_tagger to\n",
            "[nltk_data]     /root/nltk_data...\n",
            "[nltk_data]   Unzipping taggers/averaged_perceptron_tagger.zip.\n",
            "[nltk_data] Downloading package stopwords to /root/nltk_data...\n",
            "[nltk_data]   Unzipping corpora/stopwords.zip.\n",
            "[nltk_data] Downloading package omw to /root/nltk_data...\n",
            "[nltk_data] Downloading package universal_tagset to /root/nltk_data...\n",
            "[nltk_data]   Unzipping taggers/universal_tagset.zip.\n",
            "[nltk_data] Downloading package wordnet to /root/nltk_data...\n",
            "[nltk_data] Downloading package punkt to /root/nltk_data...\n",
            "[nltk_data]   Unzipping tokenizers/punkt.zip.\n"
          ]
        }
      ],
      "source": [
        "import textattack\n",
        "import transformers"
      ]
    },
    {
      "cell_type": "code",
      "execution_count": null,
      "metadata": {
        "id": "x-xvwcre2YE9",
        "colab": {
          "base_uri": "https://localhost:8080/",
          "height": 81,
          "referenced_widgets": [
            "78d21ddbaf0e45c48a707fa40a4388cb",
            "691dbf5ce5a2406bbd83b256afeeca51",
            "cb72345bbc984e9280163dfa10e777fd",
            "ee3dc7aabcc0496c81ff53f4849b5b50",
            "e7e12b81974c4080b39cc2c7153847c5",
            "3b6fed0097474c58b818a9b755494095",
            "c3d3b76fe56d4635a9e2d4843d38d9c9",
            "7713c899006c40ab97634ac5fac6fa4b",
            "6f8d7cfeb9f2452d8f9a89155b151f97",
            "da53d5b1aeb54889ad03858fbf6cf54e",
            "f1d3f841d47244ea956db59436c38940",
            "a88410b8673044ae92e24f223b710177",
            "ade820888f934fe9b2d2bc183d04a4de",
            "55a1a34d6ad74b8b94ef0fb5a25bcca7",
            "48a040a9791e46edaf796a7a5d654332",
            "311fdc977d4944f9a76f613a8f65abc6",
            "15c2238ad72f4d06ac4f027dcc52be02",
            "9a4018acce3543f3b293fd1250e8c10f",
            "fdfb9924f5b54b2896e444513d98347e",
            "7e61b63614c94c2189869ee326dce32c",
            "7f611322fb844c91b84c417763821ea7",
            "0d2ec0687f5c44108a068004f8b53aac"
          ]
        },
        "outputId": "06948a5e-cfda-44b0-db4b-c70eb017d3d3"
      },
      "outputs": [
        {
          "output_type": "display_data",
          "data": {
            "text/plain": [
              "Downloading (…)solve/main/vocab.txt:   0%|          | 0.00/232k [00:00<?, ?B/s]"
            ],
            "application/vnd.jupyter.widget-view+json": {
              "version_major": 2,
              "version_minor": 0,
              "model_id": "78d21ddbaf0e45c48a707fa40a4388cb"
            }
          },
          "metadata": {}
        },
        {
          "output_type": "display_data",
          "data": {
            "text/plain": [
              "Downloading (…)cial_tokens_map.json:   0%|          | 0.00/112 [00:00<?, ?B/s]"
            ],
            "application/vnd.jupyter.widget-view+json": {
              "version_major": 2,
              "version_minor": 0,
              "model_id": "a88410b8673044ae92e24f223b710177"
            }
          },
          "metadata": {}
        }
      ],
      "source": [
        "model = transformers.AutoModelForSequenceClassification.from_pretrained(\"textattack/bert-base-uncased-ag-news\")\n",
        "tokenizer = transformers.AutoTokenizer.from_pretrained(\"textattack/bert-base-uncased-ag-news\")\n",
        "model_wrapper = textattack.models.wrappers.HuggingFaceModelWrapper(model, tokenizer)"
      ]
    },
    {
      "cell_type": "code",
      "execution_count": null,
      "metadata": {
        "id": "yRYN1KuK5__O"
      },
      "outputs": [],
      "source": [
        "# Construct our four components for `Attack`\n",
        "\n",
        "from textattack.constraints.pre_transformation import RepeatModification, StopwordModification\n",
        "\n",
        "from textattack.constraints.semantics import WordEmbeddingDistance"
      ]
    },
    {
      "cell_type": "code",
      "execution_count": null,
      "metadata": {
        "id": "-U9vVmD65_6c",
        "colab": {
          "base_uri": "https://localhost:8080/"
        },
        "outputId": "8359e094-aa83-4bb7-c823-611071ad7950"
      },
      "outputs": [
        {
          "output_type": "stream",
          "name": "stderr",
          "text": [
            "textattack: Unknown if model of class <class 'transformers.models.bert.modeling_bert.BertForSequenceClassification'> compatible with goal function <class 'textattack.goal_functions.classification.untargeted_classification.UntargetedClassification'>.\n",
            "textattack: Downloading https://textattack.s3.amazonaws.com/word_embeddings/paragramcf.\n",
            "100%|██████████| 481M/481M [00:14<00:00, 33.7MB/s]\n",
            "textattack: Unzipping file /root/.cache/textattack/tmpcy93u35e.zip to /root/.cache/textattack/word_embeddings/paragramcf.\n",
            "textattack: Successfully saved word_embeddings/paragramcf to cache.\n"
          ]
        }
      ],
      "source": [
        "goal_function = textattack.goal_functions.UntargetedClassification(model_wrapper)\n",
        "\n",
        "constraints = [\n",
        "\n",
        "    RepeatModification(),\n",
        "    StopwordModification(),\n",
        "    WordEmbeddingDistance(min_cos_sim=0.7)\n",
        "\n",
        "]"
      ]
    },
    {
      "cell_type": "code",
      "execution_count": null,
      "metadata": {
        "id": "vVNhsC_85_29"
      },
      "outputs": [],
      "source": [
        "transformation = textattack.transformations.word_swaps.word_swap_homoglyph_swap.WordSwapHomoglyphSwap()\n",
        "search_method = textattack.search_methods.BeamSearch(beam_width=8)"
      ]
    },
    {
      "cell_type": "code",
      "execution_count": null,
      "metadata": {
        "id": "It2CeCzH2j59",
        "colab": {
          "base_uri": "https://localhost:8080/",
          "height": 268,
          "referenced_widgets": [
            "b9a296425f194a1aaade95caf30f2a2a",
            "ad0bbe4c3d6e424085378e0be924b73f",
            "5928cc7752464375babff379a1703d9c",
            "ef88022a2e7843fd870f1d5772f2bf44",
            "57bdd13e4454403583b1799d35e17ab4",
            "363c0ece7ad1481cb48d4fe84cefbeba",
            "40e258f296754fa6aedf439dbabd3ee7",
            "75ef3930efac49aabd976c6296832593",
            "3a12fc9909d748dca2097d6c934a5df6",
            "4a6ecee58b634869a8eecb2379cc80b2",
            "f0bb6672021f409fb66f24999582deda",
            "201f1907d7474ba0b10bcb15c960ddc9",
            "ba3842c181704167bb50db9d873fa18b",
            "ab674b274cb5456eb04d3165bb5d3096",
            "57d690a58646480ea193eca448195a84",
            "6053ebec02ad464ba9f77180b80af722",
            "0d2ffb9c93fd43098d4fe06cf7e95c6f",
            "0c825a29e80c499aa764016e516ac95d",
            "1676e7fc49624a51aa647c378fea6f8d",
            "48c8b99c6fa84714b6dad62df41a33af",
            "ce91b329044947c2a9dc99f24b2728a2",
            "25dd7419bc74441895aeb18859fea883",
            "d69828772a2e441c8920c3102d791952",
            "27802f38d9c24268bc610548b4d8b9d6",
            "349948f79eea4d6da1841909b972322f",
            "623b169666f847d4965760430567fe47",
            "4d9d0ded8a1a4f5c9872d348b8aa65e7",
            "478ae1cf12c944659388995c7226a1f3",
            "62958fab88ed4745a49f31f8010b8771",
            "fecdb566d94e4be898afbd75eca6d127",
            "2c5a1102767c405083b7b52d334ec903",
            "4679fbe5a057495fab3099bc154c0e0c",
            "28841dfdacfb443b819c267c412257b0",
            "4cb9cd19b9d74b2f9bcfd2e4c8952ece",
            "549b867070bf492dbae92b37132e170d",
            "0a43ec45c8574734bb976cabf760a380",
            "d23d94cc9247424eb72cbc36bab78140",
            "17f667ce5cb54c98997001fcdd6c0b6b",
            "f81ade64aa574222834e965a2336356d",
            "d6358e402c9e47c2b467c34a38af689e",
            "c838484f3840495c81b660f7893ec512",
            "bb86f1c58e6f47ab906cab5c5f78ed3b",
            "f4dd77a77cdc42468353ca8982870b02",
            "5c27b82a35bf4be2911ffdb490f80297",
            "2d68d3d9fe224388adb54d643067077d",
            "77e6da88951e42489944f6724d15f91b",
            "9b21b7f07623467abb5995972e52571a",
            "93d464fc81c1456a8d2473c6ae61eb9f",
            "f2486618b01e4d55a14b911b85d958a7",
            "c3b463b19dce42ac8024a52936800557",
            "46e0cb69b6cd413d97878992a5c154fc",
            "06075e1972044f369d8ddf6b382c214b",
            "2e583d7c8546421ea8cf06cb1239cbca",
            "78e6639590c84d369f8897c7ee16504f",
            "9b43443c13a34ef39b7745d671aee554",
            "94af9a1b8bd14f25b95977d6b54a4987",
            "2e09dd5163514d07886218da8168f820",
            "cf0aeb915ef14bd5ad398241a85e81f8",
            "fab4affe1b5c4882bcef7c374e10428a",
            "ebe2e5ec38424004b4e6840aacd4fc19",
            "c76869604e7040dd8f52f8959683b5ae",
            "76d0137b77a64318959014c562186229",
            "1945233ebec7402bac18abb4ca3b8b93",
            "6b9a95f5bdb44500a566cbb1727cd95a",
            "689ea0190e4047b3af37b4d80ef437b5",
            "ebbbf652bc0448f998e7fb3355bfe9b0",
            "c2c1eb711ff447858da0bbfd665947f9",
            "b9af4fce591a43329fab0402b285bfde",
            "c6892be8f53b4566bf8ce574750b3673",
            "add0ee1653eb4d65b400ee88109615d1",
            "a55c62e28f8449e0858c939723d3aaeb",
            "23a1df2e23aa42f48d8bb216fe5fdb34",
            "f28a919a8de24091a5699e374e64f02e",
            "8f9fb7bda2954685a69be47edfc9712b",
            "0bea24cda39c4a328f3333e3552424d2",
            "61e4c4950d59428c963efaaac90c22f5",
            "af0c0b93650340bb9b33075c7075303a"
          ]
        },
        "outputId": "41bfab55-38a4-45b3-be17-8b0b98c3ecf9"
      },
      "outputs": [
        {
          "output_type": "display_data",
          "data": {
            "text/plain": [
              "Downloading builder script:   0%|          | 0.00/1.83k [00:00<?, ?B/s]"
            ],
            "application/vnd.jupyter.widget-view+json": {
              "version_major": 2,
              "version_minor": 0,
              "model_id": "b9a296425f194a1aaade95caf30f2a2a"
            }
          },
          "metadata": {}
        },
        {
          "output_type": "display_data",
          "data": {
            "text/plain": [
              "Downloading metadata:   0%|          | 0.00/1.28k [00:00<?, ?B/s]"
            ],
            "application/vnd.jupyter.widget-view+json": {
              "version_major": 2,
              "version_minor": 0,
              "model_id": "201f1907d7474ba0b10bcb15c960ddc9"
            }
          },
          "metadata": {}
        },
        {
          "output_type": "stream",
          "name": "stderr",
          "text": [
            "WARNING:datasets.builder:Using custom data configuration default\n"
          ]
        },
        {
          "output_type": "stream",
          "name": "stdout",
          "text": [
            "Downloading and preparing dataset ag_news/default (download: 29.88 MiB, generated: 30.23 MiB, post-processed: Unknown size, total: 60.10 MiB) to /root/.cache/huggingface/datasets/ag_news/default/0.0.0/bc2bcb40336ace1a0374767fc29bb0296cdaf8a6da7298436239c54d79180548...\n"
          ]
        },
        {
          "output_type": "display_data",
          "data": {
            "text/plain": [
              "Downloading data:   0%|          | 0.00/11.0M [00:00<?, ?B/s]"
            ],
            "application/vnd.jupyter.widget-view+json": {
              "version_major": 2,
              "version_minor": 0,
              "model_id": "d69828772a2e441c8920c3102d791952"
            }
          },
          "metadata": {}
        },
        {
          "output_type": "display_data",
          "data": {
            "text/plain": [
              "Downloading data:   0%|          | 0.00/751k [00:00<?, ?B/s]"
            ],
            "application/vnd.jupyter.widget-view+json": {
              "version_major": 2,
              "version_minor": 0,
              "model_id": "4cb9cd19b9d74b2f9bcfd2e4c8952ece"
            }
          },
          "metadata": {}
        },
        {
          "output_type": "display_data",
          "data": {
            "text/plain": [
              "Generating train split:   0%|          | 0/120000 [00:00<?, ? examples/s]"
            ],
            "application/vnd.jupyter.widget-view+json": {
              "version_major": 2,
              "version_minor": 0,
              "model_id": "2d68d3d9fe224388adb54d643067077d"
            }
          },
          "metadata": {}
        },
        {
          "output_type": "display_data",
          "data": {
            "text/plain": [
              "Generating test split:   0%|          | 0/7600 [00:00<?, ? examples/s]"
            ],
            "application/vnd.jupyter.widget-view+json": {
              "version_major": 2,
              "version_minor": 0,
              "model_id": "94af9a1b8bd14f25b95977d6b54a4987"
            }
          },
          "metadata": {}
        },
        {
          "output_type": "stream",
          "name": "stdout",
          "text": [
            "Dataset ag_news downloaded and prepared to /root/.cache/huggingface/datasets/ag_news/default/0.0.0/bc2bcb40336ace1a0374767fc29bb0296cdaf8a6da7298436239c54d79180548. Subsequent calls will reuse this data.\n"
          ]
        },
        {
          "output_type": "display_data",
          "data": {
            "text/plain": [
              "  0%|          | 0/2 [00:00<?, ?it/s]"
            ],
            "application/vnd.jupyter.widget-view+json": {
              "version_major": 2,
              "version_minor": 0,
              "model_id": "c2c1eb711ff447858da0bbfd665947f9"
            }
          },
          "metadata": {}
        },
        {
          "output_type": "stream",
          "name": "stderr",
          "text": [
            "textattack: Loading \u001b[94mdatasets\u001b[0m dataset \u001b[94mag_news\u001b[0m, split \u001b[94mtrain\u001b[0m.\n"
          ]
        }
      ],
      "source": [
        "#attack = textattack.attack_recipes.deepwordbug_gao_2018.DeepWordBugGao2018.build(model_wrapper)\n",
        "attack =  textattack.Attack(goal_function, constraints, transformation, search_method)\n",
        "\n",
        "#datasets.load_dataset('emotion', split =['test'])\n",
        "#dataset=datasets.load_dataset('sms_spam', split =['test'])\n",
        "dataset = textattack.datasets.HuggingFaceDataset(\"ag_news\", dataset_columns=([\"text\"],'label'))\n",
        "#attack =  textattack.Attack(goal_function, constraints, transformation, search_method)"
      ]
    },
    {
      "cell_type": "code",
      "execution_count": 14,
      "metadata": {
        "colab": {
          "base_uri": "https://localhost:8080/"
        },
        "id": "GrGaOPAwXE2V",
        "outputId": "81b4ed85-6c98-4e32-9126-3ce8a7ec3463"
      },
      "outputs": [
        {
          "metadata": {
            "tags": null
          },
          "name": "stderr",
          "output_type": "stream",
          "text": [
            "textattack: Logging to CSV at path TAagnews.csv\n"
          ]
        },
        {
          "metadata": {
            "tags": null
          },
          "name": "stdout",
          "output_type": "stream",
          "text": [
            "Attack(\n",
            "  (search_method): BeamSearch(\n",
            "    (beam_width):  8\n",
            "  )\n",
            "  (goal_function):  UntargetedClassification\n",
            "  (transformation):  WordSwapHomoglyphSwap\n",
            "  (constraints): \n",
            "    (0): WordEmbeddingDistance(\n",
            "        (embedding):  WordEmbedding\n",
            "        (min_cos_sim):  0.7\n",
            "        (cased):  False\n",
            "        (include_unknown_words):  True\n",
            "        (compare_against_original):  True\n",
            "      )\n",
            "    (1): RepeatModification\n",
            "    (2): StopwordModification\n",
            "  (is_black_box):  True\n",
            ") \n",
            "\n"
          ]
        },
        {
          "metadata": {
            "tags": null
          },
          "name": "stderr",
          "output_type": "stream",
          "text": [
            "\n",
            "\n",
            "\n",
            "  0%|          | 0/100 [00:00<?, ?it/s]\u001b[A\u001b[A\u001b[A\n",
            "\n",
            "\n",
            "  1%|          | 1/100 [00:25<41:54, 25.40s/it]\u001b[A\u001b[A\u001b[A\n",
            "\n",
            "\n",
            "[Succeeded / Failed / Skipped / Total] 1 / 0 / 0 / 1:   1%|          | 1/100 [00:25<41:56, 25.42s/it]\u001b[A\u001b[A\u001b[A\n",
            "\n",
            "\n",
            "[Succeeded / Failed / Skipped / Total] 1 / 0 / 0 / 1:   2%|▏         | 2/100 [04:08<3:22:43, 124.12s/it]\u001b[A\u001b[A\u001b[A\n",
            "\n",
            "\n",
            "[Succeeded / Failed / Skipped / Total] 2 / 0 / 0 / 2:   2%|▏         | 2/100 [04:08<3:22:44, 124.13s/it]\u001b[A\u001b[A\u001b[Atextattack: Saving checkpoint under \"checkpoints/1687335736463.ta.chkpt\" at 2023-06-21 08:22:16 after 2 attacks.\n"
          ]
        },
        {
          "metadata": {
            "tags": null
          },
          "name": "stdout",
          "output_type": "stream",
          "text": [
            "\n",
            "\n",
            "=============================================================================================================================\n",
            "=============================================================================================================================\n",
            "\n"
          ]
        },
        {
          "metadata": {
            "tags": null
          },
          "name": "stderr",
          "output_type": "stream",
          "text": [
            "\n",
            "\n",
            "\n",
            "[Succeeded / Failed / Skipped / Total] 2 / 0 / 0 / 2:   3%|▎         | 3/100 [05:56<3:12:09, 118.86s/it]\u001b[A\u001b[A\u001b[A\n",
            "\n",
            "\n",
            "[Succeeded / Failed / Skipped / Total] 3 / 0 / 0 / 3:   3%|▎         | 3/100 [05:56<3:12:10, 118.87s/it]\u001b[A\u001b[A\u001b[A\n",
            "\n",
            "\n",
            "[Succeeded / Failed / Skipped / Total] 3 / 0 / 0 / 3:   4%|▍         | 4/100 [06:50<2:44:05, 102.56s/it]\u001b[A\u001b[A\u001b[A\n",
            "\n",
            "\n",
            "[Succeeded / Failed / Skipped / Total] 4 / 0 / 0 / 4:   4%|▍         | 4/100 [06:50<2:44:06, 102.56s/it]\u001b[A\u001b[A\u001b[Atextattack: Saving checkpoint under \"checkpoints/1687335898461.ta.chkpt\" at 2023-06-21 08:24:58 after 4 attacks.\n"
          ]
        },
        {
          "metadata": {
            "tags": null
          },
          "name": "stdout",
          "output_type": "stream",
          "text": [
            "\n",
            "\n",
            "=============================================================================================================================\n",
            "=============================================================================================================================\n",
            "\n"
          ]
        },
        {
          "metadata": {
            "tags": null
          },
          "name": "stderr",
          "output_type": "stream",
          "text": [
            "\n",
            "\n",
            "\n",
            "[Succeeded / Failed / Skipped / Total] 4 / 0 / 0 / 4:   5%|▌         | 5/100 [07:38<2:25:18, 91.78s/it] \u001b[A\u001b[A\u001b[A\n",
            "\n",
            "\n",
            "[Succeeded / Failed / Skipped / Total] 5 / 0 / 0 / 5:   5%|▌         | 5/100 [07:38<2:25:18, 91.78s/it]\u001b[A\u001b[A\u001b[A\n",
            "\n",
            "\n",
            "[Succeeded / Failed / Skipped / Total] 5 / 0 / 0 / 5:   6%|▌         | 6/100 [10:17<2:41:19, 102.97s/it]\u001b[A\u001b[A\u001b[A\n",
            "\n",
            "\n",
            "[Succeeded / Failed / Skipped / Total] 6 / 0 / 0 / 6:   6%|▌         | 6/100 [10:17<2:41:19, 102.98s/it]\u001b[A\u001b[A\u001b[Atextattack: Saving checkpoint under \"checkpoints/1687336106067.ta.chkpt\" at 2023-06-21 08:28:26 after 6 attacks.\n"
          ]
        },
        {
          "metadata": {
            "tags": null
          },
          "name": "stdout",
          "output_type": "stream",
          "text": [
            "\n",
            "\n",
            "=============================================================================================================================\n",
            "=============================================================================================================================\n",
            "\n"
          ]
        },
        {
          "metadata": {
            "tags": null
          },
          "name": "stderr",
          "output_type": "stream",
          "text": [
            "[Succeeded / Failed / Skipped / Total] 5 / 0 / 0 / 5:   5%|▌         | 5/100 [21:05<6:40:42, 253.08s/it]\n",
            "textattack: CSVLogger exiting without calling flush().\n",
            "[Succeeded / Failed / Skipped / Total] 1 / 0 / 0 / 1:  20%|██        | 1/5 [23:40<1:34:41, 1420.30s/it]\n",
            "textattack: CSVLogger exiting without calling flush().\n",
            "\n",
            "\n",
            "\n",
            "[Succeeded / Failed / Skipped / Total] 6 / 0 / 0 / 6:   7%|▋         | 7/100 [12:04<2:40:27, 103.52s/it]\u001b[A\u001b[A\u001b[A\n",
            "\n",
            "\n",
            "[Succeeded / Failed / Skipped / Total] 7 / 0 / 0 / 7:   7%|▋         | 7/100 [12:04<2:40:27, 103.52s/it]\u001b[A\u001b[A\u001b[A\n",
            "\n",
            "\n",
            "[Succeeded / Failed / Skipped / Total] 7 / 0 / 0 / 7:   8%|▊         | 8/100 [14:14<2:43:51, 106.87s/it]\u001b[A\u001b[A\u001b[A\n",
            "\n",
            "\n",
            "[Succeeded / Failed / Skipped / Total] 8 / 0 / 0 / 8:   8%|▊         | 8/100 [14:14<2:43:52, 106.87s/it]\u001b[A\u001b[A\u001b[Atextattack: Saving checkpoint under \"checkpoints/1687336343175.ta.chkpt\" at 2023-06-21 08:32:23 after 8 attacks.\n"
          ]
        },
        {
          "metadata": {
            "tags": null
          },
          "name": "stdout",
          "output_type": "stream",
          "text": [
            "\n",
            "\n",
            "=============================================================================================================================\n",
            "=============================================================================================================================\n",
            "\n"
          ]
        },
        {
          "metadata": {
            "tags": null
          },
          "name": "stderr",
          "output_type": "stream",
          "text": [
            "\n",
            "\n",
            "\n",
            "[Succeeded / Failed / Skipped / Total] 8 / 0 / 0 / 8:   9%|▉         | 9/100 [15:32<2:37:08, 103.61s/it]\u001b[A\u001b[A\u001b[A\n",
            "\n",
            "\n",
            "[Succeeded / Failed / Skipped / Total] 9 / 0 / 0 / 9:   9%|▉         | 9/100 [15:32<2:37:08, 103.61s/it]\u001b[A\u001b[A\u001b[A\n",
            "\n",
            "\n",
            "[Succeeded / Failed / Skipped / Total] 9 / 0 / 0 / 9:  10%|█         | 10/100 [16:14<2:26:07, 97.42s/it]\u001b[A\u001b[A\u001b[A\n",
            "\n",
            "\n",
            "[Succeeded / Failed / Skipped / Total] 10 / 0 / 0 / 10:  10%|█         | 10/100 [16:14<2:26:07, 97.42s/it]\u001b[A\u001b[A\u001b[Atextattack: Saving checkpoint under \"checkpoints/1687336462430.ta.chkpt\" at 2023-06-21 08:34:22 after 10 attacks.\n"
          ]
        },
        {
          "metadata": {
            "tags": null
          },
          "name": "stdout",
          "output_type": "stream",
          "text": [
            "\n",
            "\n",
            "=============================================================================================================================\n",
            "=============================================================================================================================\n",
            "\n"
          ]
        },
        {
          "metadata": {
            "tags": null
          },
          "name": "stderr",
          "output_type": "stream",
          "text": [
            "\n",
            "\n",
            "\n",
            "[Succeeded / Failed / Skipped / Total] 10 / 0 / 0 / 10:  11%|█         | 11/100 [18:57<2:33:24, 103.42s/it]\u001b[A\u001b[A\u001b[A\n",
            "\n",
            "\n",
            "[Succeeded / Failed / Skipped / Total] 11 / 0 / 0 / 11:  11%|█         | 11/100 [18:57<2:33:24, 103.42s/it]\u001b[A\u001b[A\u001b[A\n",
            "\n",
            "\n",
            "[Succeeded / Failed / Skipped / Total] 11 / 0 / 0 / 11:  12%|█▏        | 12/100 [25:35<3:07:37, 127.93s/it]\u001b[A\u001b[A\u001b[A\n",
            "\n",
            "\n",
            "[Succeeded / Failed / Skipped / Total] 12 / 0 / 0 / 12:  12%|█▏        | 12/100 [25:35<3:07:37, 127.93s/it]\u001b[A\u001b[A\u001b[Atextattack: Saving checkpoint under \"checkpoints/1687337023346.ta.chkpt\" at 2023-06-21 08:43:43 after 12 attacks.\n"
          ]
        },
        {
          "metadata": {
            "tags": null
          },
          "name": "stdout",
          "output_type": "stream",
          "text": [
            "\n",
            "\n",
            "=============================================================================================================================\n",
            "=============================================================================================================================\n",
            "\n"
          ]
        },
        {
          "metadata": {
            "tags": null
          },
          "name": "stderr",
          "output_type": "stream",
          "text": [
            "\n",
            "\n",
            "\n",
            "[Succeeded / Failed / Skipped / Total] 12 / 0 / 0 / 12:  13%|█▎        | 13/100 [30:49<3:26:14, 142.24s/it]\u001b[A\u001b[A\u001b[A\n",
            "\n",
            "\n",
            "[Succeeded / Failed / Skipped / Total] 13 / 0 / 0 / 13:  13%|█▎        | 13/100 [30:49<3:26:14, 142.24s/it]\u001b[A\u001b[A\u001b[A\n",
            "\n",
            "\n",
            "[Succeeded / Failed / Skipped / Total] 13 / 0 / 0 / 13:  14%|█▍        | 14/100 [31:34<3:13:58, 135.33s/it]\u001b[A\u001b[A\u001b[A\n",
            "\n",
            "\n",
            "[Succeeded / Failed / Skipped / Total] 14 / 0 / 0 / 14:  14%|█▍        | 14/100 [31:34<3:13:58, 135.33s/it]\u001b[A\u001b[A\u001b[Atextattack: Saving checkpoint under \"checkpoints/1687337382869.ta.chkpt\" at 2023-06-21 08:49:42 after 14 attacks.\n"
          ]
        },
        {
          "metadata": {
            "tags": null
          },
          "name": "stdout",
          "output_type": "stream",
          "text": [
            "\n",
            "\n",
            "=============================================================================================================================\n",
            "=============================================================================================================================\n",
            "\n"
          ]
        },
        {
          "metadata": {
            "tags": null
          },
          "name": "stderr",
          "output_type": "stream",
          "text": [
            "\n",
            "\n",
            "\n",
            "[Succeeded / Failed / Skipped / Total] 14 / 0 / 0 / 14:  15%|█▌        | 15/100 [38:48<3:39:54, 155.23s/it]\u001b[A\u001b[A\u001b[A\n",
            "\n",
            "\n",
            "[Succeeded / Failed / Skipped / Total] 15 / 0 / 0 / 15:  15%|█▌        | 15/100 [38:48<3:39:54, 155.23s/it]\u001b[A\u001b[A\u001b[A\n",
            "\n",
            "\n",
            "[Succeeded / Failed / Skipped / Total] 15 / 0 / 0 / 15:  16%|█▌        | 16/100 [39:08<3:25:31, 146.81s/it]\u001b[A\u001b[A\u001b[A\n",
            "\n",
            "\n",
            "[Succeeded / Failed / Skipped / Total] 16 / 0 / 0 / 16:  16%|█▌        | 16/100 [39:08<3:25:31, 146.81s/it]\u001b[A\u001b[A\u001b[Atextattack: Saving checkpoint under \"checkpoints/1687337837115.ta.chkpt\" at 2023-06-21 08:57:17 after 16 attacks.\n"
          ]
        },
        {
          "metadata": {
            "tags": null
          },
          "name": "stdout",
          "output_type": "stream",
          "text": [
            "\n",
            "\n",
            "=============================================================================================================================\n",
            "=============================================================================================================================\n",
            "\n"
          ]
        },
        {
          "metadata": {
            "tags": null
          },
          "name": "stderr",
          "output_type": "stream",
          "text": [
            "\n",
            "\n",
            "\n",
            "[Succeeded / Failed / Skipped / Total] 16 / 0 / 0 / 16:  17%|█▋        | 17/100 [39:35<3:13:19, 139.75s/it]\u001b[A\u001b[A\u001b[A\n",
            "\n",
            "\n",
            "[Succeeded / Failed / Skipped / Total] 17 / 0 / 0 / 17:  17%|█▋        | 17/100 [39:35<3:13:19, 139.75s/it]\u001b[A\u001b[A\u001b[A\n",
            "\n",
            "\n",
            "[Succeeded / Failed / Skipped / Total] 17 / 0 / 0 / 17:  18%|█▊        | 18/100 [43:13<3:16:56, 144.10s/it]\u001b[A\u001b[A\u001b[A\n",
            "\n",
            "\n",
            "[Succeeded / Failed / Skipped / Total] 18 / 0 / 0 / 18:  18%|█▊        | 18/100 [43:13<3:16:56, 144.10s/it]\u001b[A\u001b[A\u001b[Atextattack: Saving checkpoint under \"checkpoints/1687338082092.ta.chkpt\" at 2023-06-21 09:01:22 after 18 attacks.\n"
          ]
        },
        {
          "metadata": {
            "tags": null
          },
          "name": "stdout",
          "output_type": "stream",
          "text": [
            "\n",
            "\n",
            "=============================================================================================================================\n",
            "=============================================================================================================================\n",
            "\n"
          ]
        },
        {
          "metadata": {
            "tags": null
          },
          "name": "stderr",
          "output_type": "stream",
          "text": [
            "\n",
            "\n",
            "\n",
            "[Succeeded / Failed / Skipped / Total] 18 / 0 / 0 / 18:  19%|█▉        | 19/100 [45:58<3:16:00, 145.19s/it]\u001b[A\u001b[A\u001b[A\n",
            "\n",
            "\n",
            "[Succeeded / Failed / Skipped / Total] 19 / 0 / 0 / 19:  19%|█▉        | 19/100 [45:58<3:16:00, 145.19s/it]\u001b[A\u001b[A\u001b[A\n",
            "\n",
            "\n",
            "[Succeeded / Failed / Skipped / Total] 19 / 0 / 0 / 19:  20%|██        | 20/100 [46:02<3:04:08, 138.10s/it]\u001b[A\u001b[A\u001b[A\n",
            "\n",
            "\n",
            "[Succeeded / Failed / Skipped / Total] 20 / 0 / 0 / 20:  20%|██        | 20/100 [46:02<3:04:08, 138.10s/it]\u001b[A\u001b[A\u001b[Atextattack: Saving checkpoint under \"checkpoints/1687338250254.ta.chkpt\" at 2023-06-21 09:04:10 after 20 attacks.\n"
          ]
        },
        {
          "metadata": {
            "tags": null
          },
          "name": "stdout",
          "output_type": "stream",
          "text": [
            "\n",
            "\n",
            "=============================================================================================================================\n",
            "=============================================================================================================================\n",
            "\n"
          ]
        },
        {
          "metadata": {
            "tags": null
          },
          "name": "stderr",
          "output_type": "stream",
          "text": [
            "\n",
            "\n",
            "\n",
            "[Succeeded / Failed / Skipped / Total] 20 / 0 / 0 / 20:  21%|██        | 21/100 [46:37<2:55:23, 133.21s/it]\u001b[A\u001b[A\u001b[A\n",
            "\n",
            "\n",
            "[Succeeded / Failed / Skipped / Total] 21 / 0 / 0 / 21:  21%|██        | 21/100 [46:37<2:55:23, 133.21s/it]\u001b[A\u001b[A\u001b[A\n",
            "\n",
            "\n",
            "[Succeeded / Failed / Skipped / Total] 21 / 0 / 0 / 21:  22%|██▏       | 22/100 [47:32<2:48:35, 129.68s/it]\u001b[A\u001b[A\u001b[A\n",
            "\n",
            "\n",
            "[Succeeded / Failed / Skipped / Total] 22 / 0 / 0 / 22:  22%|██▏       | 22/100 [47:32<2:48:35, 129.68s/it]\u001b[A\u001b[A\u001b[Atextattack: Saving checkpoint under \"checkpoints/1687338341206.ta.chkpt\" at 2023-06-21 09:05:41 after 22 attacks.\n"
          ]
        },
        {
          "metadata": {
            "tags": null
          },
          "name": "stdout",
          "output_type": "stream",
          "text": [
            "\n",
            "\n",
            "=============================================================================================================================\n",
            "=============================================================================================================================\n",
            "\n"
          ]
        },
        {
          "metadata": {
            "tags": null
          },
          "name": "stderr",
          "output_type": "stream",
          "text": [
            "\n",
            "\n",
            "\n",
            "[Succeeded / Failed / Skipped / Total] 22 / 0 / 0 / 22:  23%|██▎       | 23/100 [47:36<2:39:21, 124.17s/it]\u001b[A\u001b[A\u001b[A\n",
            "\n",
            "\n",
            "[Succeeded / Failed / Skipped / Total] 23 / 0 / 0 / 23:  23%|██▎       | 23/100 [47:36<2:39:21, 124.18s/it]\u001b[A\u001b[A\u001b[A\n",
            "\n",
            "\n",
            "[Succeeded / Failed / Skipped / Total] 23 / 0 / 0 / 23:  24%|██▍       | 24/100 [51:10<2:42:04, 127.95s/it]\u001b[A\u001b[A\u001b[A\n",
            "\n",
            "\n",
            "[Succeeded / Failed / Skipped / Total] 24 / 0 / 0 / 24:  24%|██▍       | 24/100 [51:10<2:42:04, 127.95s/it]\u001b[A\u001b[A\u001b[Atextattack: Saving checkpoint under \"checkpoints/1687338559000.ta.chkpt\" at 2023-06-21 09:09:19 after 24 attacks.\n"
          ]
        },
        {
          "metadata": {
            "tags": null
          },
          "name": "stdout",
          "output_type": "stream",
          "text": [
            "\n",
            "\n",
            "=============================================================================================================================\n",
            "=============================================================================================================================\n",
            "\n"
          ]
        },
        {
          "metadata": {
            "tags": null
          },
          "name": "stderr",
          "output_type": "stream",
          "text": [
            "\n",
            "\n",
            "\n",
            "[Succeeded / Failed / Skipped / Total] 24 / 0 / 0 / 24:  25%|██▌       | 25/100 [51:57<2:35:52, 124.70s/it]\u001b[A\u001b[A\u001b[A\n",
            "\n",
            "\n",
            "[Succeeded / Failed / Skipped / Total] 25 / 0 / 0 / 25:  25%|██▌       | 25/100 [51:57<2:35:52, 124.70s/it]\u001b[A\u001b[A\u001b[A\n",
            "\n",
            "\n",
            "[Succeeded / Failed / Skipped / Total] 25 / 0 / 0 / 25:  26%|██▌       | 26/100 [52:29<2:29:25, 121.15s/it]\u001b[A\u001b[A\u001b[A\n",
            "\n",
            "\n",
            "[Succeeded / Failed / Skipped / Total] 26 / 0 / 0 / 26:  26%|██▌       | 26/100 [52:29<2:29:25, 121.15s/it]\u001b[A\u001b[A\u001b[Atextattack: Saving checkpoint under \"checkpoints/1687338638167.ta.chkpt\" at 2023-06-21 09:10:38 after 26 attacks.\n"
          ]
        },
        {
          "metadata": {
            "tags": null
          },
          "name": "stdout",
          "output_type": "stream",
          "text": [
            "\n",
            "\n",
            "=============================================================================================================================\n",
            "=============================================================================================================================\n",
            "\n"
          ]
        },
        {
          "metadata": {
            "tags": null
          },
          "name": "stderr",
          "output_type": "stream",
          "text": [
            "\n",
            "\n",
            "\n",
            "[Succeeded / Failed / Skipped / Total] 26 / 0 / 0 / 26:  27%|██▋       | 27/100 [52:56<2:23:09, 117.67s/it]\u001b[A\u001b[A\u001b[A\n",
            "\n",
            "\n",
            "[Succeeded / Failed / Skipped / Total] 27 / 0 / 0 / 27:  27%|██▋       | 27/100 [52:57<2:23:09, 117.67s/it]\u001b[A\u001b[A\u001b[A\n",
            "\n",
            "\n",
            "[Succeeded / Failed / Skipped / Total] 27 / 0 / 0 / 27:  28%|██▊       | 28/100 [54:04<2:19:02, 115.86s/it]\u001b[A\u001b[A\u001b[A\n",
            "\n",
            "\n",
            "[Succeeded / Failed / Skipped / Total] 28 / 0 / 0 / 28:  28%|██▊       | 28/100 [54:04<2:19:02, 115.86s/it]\u001b[A\u001b[A\u001b[Atextattack: Saving checkpoint under \"checkpoints/1687338732351.ta.chkpt\" at 2023-06-21 09:12:12 after 28 attacks.\n"
          ]
        },
        {
          "metadata": {
            "tags": null
          },
          "name": "stdout",
          "output_type": "stream",
          "text": [
            "\n",
            "\n",
            "=============================================================================================================================\n",
            "=============================================================================================================================\n",
            "\n"
          ]
        },
        {
          "metadata": {
            "tags": null
          },
          "name": "stderr",
          "output_type": "stream",
          "text": [
            "\n",
            "\n",
            "\n",
            "[Succeeded / Failed / Skipped / Total] 28 / 0 / 0 / 28:  29%|██▉       | 29/100 [55:28<2:15:48, 114.77s/it]\u001b[A\u001b[A\u001b[A\n",
            "\n",
            "\n",
            "[Succeeded / Failed / Skipped / Total] 29 / 0 / 0 / 29:  29%|██▉       | 29/100 [55:28<2:15:48, 114.77s/it]\u001b[A\u001b[A\u001b[A\n",
            "\n",
            "\n",
            "[Succeeded / Failed / Skipped / Total] 29 / 0 / 0 / 29:  30%|███       | 30/100 [56:26<2:11:41, 112.88s/it]\u001b[A\u001b[A\u001b[A\n",
            "\n",
            "\n",
            "[Succeeded / Failed / Skipped / Total] 30 / 0 / 0 / 30:  30%|███       | 30/100 [56:26<2:11:41, 112.88s/it]\u001b[A\u001b[A\u001b[Atextattack: Saving checkpoint under \"checkpoints/1687338874578.ta.chkpt\" at 2023-06-21 09:14:34 after 30 attacks.\n"
          ]
        },
        {
          "metadata": {
            "tags": null
          },
          "name": "stdout",
          "output_type": "stream",
          "text": [
            "\n",
            "\n",
            "=============================================================================================================================\n",
            "=============================================================================================================================\n",
            "\n"
          ]
        },
        {
          "metadata": {
            "tags": null
          },
          "name": "stderr",
          "output_type": "stream",
          "text": [
            "\n",
            "\n",
            "\n",
            "[Succeeded / Failed / Skipped / Total] 30 / 0 / 0 / 30:  31%|███       | 31/100 [56:56<2:06:43, 110.20s/it]\u001b[A\u001b[A\u001b[A\n",
            "\n",
            "\n",
            "[Succeeded / Failed / Skipped / Total] 31 / 0 / 0 / 31:  31%|███       | 31/100 [56:56<2:06:43, 110.20s/it]\u001b[A\u001b[A\u001b[A\n",
            "\n",
            "\n",
            "[Succeeded / Failed / Skipped / Total] 31 / 0 / 0 / 31:  32%|███▏      | 32/100 [57:59<2:03:14, 108.74s/it]\u001b[A\u001b[A\u001b[A\n",
            "\n",
            "\n",
            "[Succeeded / Failed / Skipped / Total] 32 / 0 / 0 / 32:  32%|███▏      | 32/100 [57:59<2:03:14, 108.74s/it]\u001b[A\u001b[A\u001b[Atextattack: Saving checkpoint under \"checkpoints/1687338967781.ta.chkpt\" at 2023-06-21 09:16:07 after 32 attacks.\n"
          ]
        },
        {
          "metadata": {
            "tags": null
          },
          "name": "stdout",
          "output_type": "stream",
          "text": [
            "\n",
            "\n",
            "=============================================================================================================================\n",
            "=============================================================================================================================\n",
            "\n"
          ]
        },
        {
          "metadata": {
            "tags": null
          },
          "name": "stderr",
          "output_type": "stream",
          "text": [
            "\n",
            "\n",
            "\n",
            "[Succeeded / Failed / Skipped / Total] 32 / 0 / 0 / 32:  33%|███▎      | 33/100 [58:53<1:59:33, 107.07s/it]\u001b[A\u001b[A\u001b[A\n",
            "\n",
            "\n",
            "[Succeeded / Failed / Skipped / Total] 33 / 0 / 0 / 33:  33%|███▎      | 33/100 [58:53<1:59:33, 107.07s/it]\u001b[A\u001b[A\u001b[A\n",
            "\n",
            "\n",
            "[Succeeded / Failed / Skipped / Total] 33 / 0 / 0 / 33:  34%|███▍      | 34/100 [59:50<1:56:10, 105.62s/it]\u001b[A\u001b[A\u001b[A\n",
            "\n",
            "\n",
            "[Succeeded / Failed / Skipped / Total] 34 / 0 / 0 / 34:  34%|███▍      | 34/100 [59:51<1:56:10, 105.62s/it]\u001b[A\u001b[A\u001b[Atextattack: Saving checkpoint under \"checkpoints/1687339079223.ta.chkpt\" at 2023-06-21 09:17:59 after 34 attacks.\n"
          ]
        },
        {
          "metadata": {
            "tags": null
          },
          "name": "stdout",
          "output_type": "stream",
          "text": [
            "\n",
            "\n",
            "=============================================================================================================================\n",
            "=============================================================================================================================\n",
            "\n"
          ]
        },
        {
          "metadata": {
            "tags": null
          },
          "name": "stderr",
          "output_type": "stream",
          "text": [
            "\n",
            "\n",
            "\n",
            "[Succeeded / Failed / Skipped / Total] 34 / 0 / 0 / 34:  35%|███▌      | 35/100 [1:00:19<1:52:02, 103.42s/it]\u001b[A\u001b[A\u001b[A\n",
            "\n",
            "\n",
            "[Succeeded / Failed / Skipped / Total] 35 / 0 / 0 / 35:  35%|███▌      | 35/100 [1:00:19<1:52:02, 103.42s/it]\u001b[A\u001b[A\u001b[A\n",
            "\n",
            "\n",
            "[Succeeded / Failed / Skipped / Total] 35 / 0 / 0 / 35:  36%|███▌      | 36/100 [1:00:47<1:48:05, 101.33s/it]\u001b[A\u001b[A\u001b[A\n",
            "\n",
            "\n",
            "[Succeeded / Failed / Skipped / Total] 36 / 0 / 0 / 36:  36%|███▌      | 36/100 [1:00:47<1:48:05, 101.33s/it]\u001b[A\u001b[A\u001b[Atextattack: Saving checkpoint under \"checkpoints/1687339136183.ta.chkpt\" at 2023-06-21 09:18:56 after 36 attacks.\n"
          ]
        },
        {
          "metadata": {
            "tags": null
          },
          "name": "stdout",
          "output_type": "stream",
          "text": [
            "\n",
            "\n",
            "=============================================================================================================================\n",
            "=============================================================================================================================\n",
            "\n"
          ]
        },
        {
          "metadata": {
            "tags": null
          },
          "name": "stderr",
          "output_type": "stream",
          "text": [
            "\n",
            "\n",
            "\n",
            "[Succeeded / Failed / Skipped / Total] 36 / 0 / 0 / 36:  37%|███▋      | 37/100 [1:00:53<1:43:40, 98.73s/it] \u001b[A\u001b[A\u001b[A\n",
            "\n",
            "\n",
            "[Succeeded / Failed / Skipped / Total] 37 / 0 / 0 / 37:  37%|███▋      | 37/100 [1:00:53<1:43:40, 98.73s/it]\u001b[A\u001b[A\u001b[A\n",
            "\n",
            "\n",
            "[Succeeded / Failed / Skipped / Total] 37 / 0 / 0 / 37:  38%|███▊      | 38/100 [1:01:51<1:40:54, 97.66s/it]\u001b[A\u001b[A\u001b[A\n",
            "\n",
            "\n",
            "[Succeeded / Failed / Skipped / Total] 38 / 0 / 0 / 38:  38%|███▊      | 38/100 [1:01:51<1:40:55, 97.66s/it]\u001b[A\u001b[A\u001b[Atextattack: Saving checkpoint under \"checkpoints/1687339199338.ta.chkpt\" at 2023-06-21 09:19:59 after 38 attacks.\n"
          ]
        },
        {
          "metadata": {
            "tags": null
          },
          "name": "stdout",
          "output_type": "stream",
          "text": [
            "\n",
            "\n",
            "=============================================================================================================================\n",
            "=============================================================================================================================\n",
            "\n"
          ]
        },
        {
          "metadata": {
            "tags": null
          },
          "name": "stderr",
          "output_type": "stream",
          "text": [
            "\n",
            "\n",
            "\n",
            "[Succeeded / Failed / Skipped / Total] 38 / 0 / 0 / 38:  39%|███▉      | 39/100 [1:01:58<1:36:56, 95.35s/it]\u001b[A\u001b[A\u001b[A\n",
            "\n",
            "\n",
            "[Succeeded / Failed / Skipped / Total] 39 / 0 / 0 / 39:  39%|███▉      | 39/100 [1:01:58<1:36:56, 95.35s/it]\u001b[A\u001b[A\u001b[A\n",
            "\n",
            "\n",
            "[Succeeded / Failed / Skipped / Total] 39 / 0 / 0 / 39:  40%|████      | 40/100 [1:02:07<1:33:11, 93.20s/it]\u001b[A\u001b[A\u001b[A\n",
            "\n",
            "\n",
            "[Succeeded / Failed / Skipped / Total] 40 / 0 / 0 / 40:  40%|████      | 40/100 [1:02:07<1:33:11, 93.20s/it]\u001b[A\u001b[A\u001b[Atextattack: Saving checkpoint under \"checkpoints/1687339216049.ta.chkpt\" at 2023-06-21 09:20:16 after 40 attacks.\n"
          ]
        },
        {
          "metadata": {
            "tags": null
          },
          "name": "stdout",
          "output_type": "stream",
          "text": [
            "\n",
            "\n",
            "=============================================================================================================================\n",
            "=============================================================================================================================\n",
            "\n"
          ]
        },
        {
          "metadata": {
            "tags": null
          },
          "name": "stderr",
          "output_type": "stream",
          "text": [
            "\n",
            "\n",
            "\n",
            "[Succeeded / Failed / Skipped / Total] 40 / 0 / 0 / 40:  41%|████      | 41/100 [1:03:20<1:31:08, 92.69s/it]\u001b[A\u001b[A\u001b[A\n",
            "\n",
            "\n",
            "[Succeeded / Failed / Skipped / Total] 41 / 0 / 0 / 41:  41%|████      | 41/100 [1:03:20<1:31:08, 92.69s/it]\u001b[A\u001b[A\u001b[A\n",
            "\n",
            "\n",
            "[Succeeded / Failed / Skipped / Total] 41 / 0 / 0 / 41:  42%|████▏     | 42/100 [1:04:02<1:28:26, 91.50s/it]\u001b[A\u001b[A\u001b[A\n",
            "\n",
            "\n",
            "[Succeeded / Failed / Skipped / Total] 42 / 0 / 0 / 42:  42%|████▏     | 42/100 [1:04:02<1:28:26, 91.50s/it]\u001b[A\u001b[A\u001b[Atextattack: Saving checkpoint under \"checkpoints/1687339331128.ta.chkpt\" at 2023-06-21 09:22:11 after 42 attacks.\n"
          ]
        },
        {
          "metadata": {
            "tags": null
          },
          "name": "stdout",
          "output_type": "stream",
          "text": [
            "\n",
            "\n",
            "=============================================================================================================================\n",
            "=============================================================================================================================\n",
            "\n"
          ]
        },
        {
          "metadata": {
            "tags": null
          },
          "name": "stderr",
          "output_type": "stream",
          "text": [
            "\n",
            "\n",
            "\n",
            "[Succeeded / Failed / Skipped / Total] 42 / 0 / 0 / 42:  43%|████▎     | 43/100 [1:04:55<1:26:03, 90.58s/it]\u001b[A\u001b[A\u001b[A\n",
            "\n",
            "\n",
            "[Succeeded / Failed / Skipped / Total] 43 / 0 / 0 / 43:  43%|████▎     | 43/100 [1:04:55<1:26:03, 90.58s/it]\u001b[A\u001b[A\u001b[A\n",
            "\n",
            "\n",
            "[Succeeded / Failed / Skipped / Total] 43 / 0 / 0 / 43:  44%|████▍     | 44/100 [1:06:38<1:24:48, 90.87s/it]\u001b[A\u001b[A\u001b[A\n",
            "\n",
            "\n",
            "[Succeeded / Failed / Skipped / Total] 44 / 0 / 0 / 44:  44%|████▍     | 44/100 [1:06:38<1:24:48, 90.87s/it]\u001b[A\u001b[A\u001b[Atextattack: Saving checkpoint under \"checkpoints/1687339486471.ta.chkpt\" at 2023-06-21 09:24:46 after 44 attacks.\n"
          ]
        },
        {
          "metadata": {
            "tags": null
          },
          "name": "stdout",
          "output_type": "stream",
          "text": [
            "\n",
            "\n",
            "=============================================================================================================================\n",
            "=============================================================================================================================\n",
            "\n"
          ]
        },
        {
          "metadata": {
            "tags": null
          },
          "name": "stderr",
          "output_type": "stream",
          "text": [
            "\n",
            "\n",
            "\n",
            "[Succeeded / Failed / Skipped / Total] 44 / 0 / 0 / 44:  45%|████▌     | 45/100 [1:08:28<1:23:40, 91.29s/it]\u001b[A\u001b[A\u001b[A\n",
            "\n",
            "\n",
            "[Succeeded / Failed / Skipped / Total] 45 / 0 / 0 / 45:  45%|████▌     | 45/100 [1:08:28<1:23:40, 91.29s/it]\u001b[A\u001b[A\u001b[A\n",
            "\n",
            "\n",
            "[Succeeded / Failed / Skipped / Total] 45 / 0 / 0 / 45:  46%|████▌     | 46/100 [1:09:30<1:21:35, 90.66s/it]\u001b[A\u001b[A\u001b[A\n",
            "\n",
            "\n",
            "[Succeeded / Failed / Skipped / Total] 46 / 0 / 0 / 46:  46%|████▌     | 46/100 [1:09:30<1:21:35, 90.66s/it]\u001b[A\u001b[A\u001b[Atextattack: Saving checkpoint under \"checkpoints/1687339658432.ta.chkpt\" at 2023-06-21 09:27:38 after 46 attacks.\n"
          ]
        },
        {
          "metadata": {
            "tags": null
          },
          "name": "stdout",
          "output_type": "stream",
          "text": [
            "\n",
            "\n",
            "=============================================================================================================================\n",
            "=============================================================================================================================\n",
            "\n"
          ]
        },
        {
          "metadata": {
            "tags": null
          },
          "name": "stderr",
          "output_type": "stream",
          "text": [
            "\n",
            "\n",
            "\n",
            "[Succeeded / Failed / Skipped / Total] 46 / 0 / 0 / 46:  47%|████▋     | 47/100 [1:09:32<1:18:25, 88.79s/it]\u001b[A\u001b[A\u001b[A\n",
            "\n",
            "\n",
            "[Succeeded / Failed / Skipped / Total] 47 / 0 / 0 / 47:  47%|████▋     | 47/100 [1:09:33<1:18:25, 88.79s/it]\u001b[A\u001b[A\u001b[A\n",
            "\n",
            "\n",
            "[Succeeded / Failed / Skipped / Total] 47 / 0 / 0 / 47:  48%|████▊     | 48/100 [1:09:37<1:15:25, 87.03s/it]\u001b[A\u001b[A\u001b[A\n",
            "\n",
            "\n",
            "[Succeeded / Failed / Skipped / Total] 48 / 0 / 0 / 48:  48%|████▊     | 48/100 [1:09:37<1:15:25, 87.03s/it]\u001b[A\u001b[A\u001b[Atextattack: Saving checkpoint under \"checkpoints/1687339665776.ta.chkpt\" at 2023-06-21 09:27:45 after 48 attacks.\n"
          ]
        },
        {
          "metadata": {
            "tags": null
          },
          "name": "stdout",
          "output_type": "stream",
          "text": [
            "\n",
            "\n",
            "=============================================================================================================================\n",
            "=============================================================================================================================\n",
            "\n"
          ]
        },
        {
          "metadata": {
            "tags": null
          },
          "name": "stderr",
          "output_type": "stream",
          "text": [
            "\n",
            "\n",
            "\n",
            "[Succeeded / Failed / Skipped / Total] 48 / 0 / 0 / 48:  49%|████▉     | 49/100 [1:09:41<1:12:32, 85.34s/it]\u001b[A\u001b[A\u001b[A\n",
            "\n",
            "\n",
            "[Succeeded / Failed / Skipped / Total] 49 / 0 / 0 / 49:  49%|████▉     | 49/100 [1:09:41<1:12:32, 85.34s/it]\u001b[A\u001b[A\u001b[A\n",
            "\n",
            "\n",
            "[Succeeded / Failed / Skipped / Total] 49 / 0 / 0 / 49:  50%|█████     | 50/100 [1:09:44<1:09:44, 83.69s/it]\u001b[A\u001b[A\u001b[A\n",
            "\n",
            "\n",
            "[Succeeded / Failed / Skipped / Total] 50 / 0 / 0 / 50:  50%|█████     | 50/100 [1:09:44<1:09:44, 83.69s/it]\u001b[A\u001b[A\u001b[Atextattack: Saving checkpoint under \"checkpoints/1687339672570.ta.chkpt\" at 2023-06-21 09:27:52 after 50 attacks.\n"
          ]
        },
        {
          "metadata": {
            "tags": null
          },
          "name": "stdout",
          "output_type": "stream",
          "text": [
            "\n",
            "\n",
            "=============================================================================================================================\n",
            "=============================================================================================================================\n",
            "\n"
          ]
        },
        {
          "metadata": {
            "tags": null
          },
          "name": "stderr",
          "output_type": "stream",
          "text": [
            "\n",
            "\n",
            "\n",
            "[Succeeded / Failed / Skipped / Total] 50 / 0 / 0 / 50:  51%|█████     | 51/100 [1:10:15<1:07:30, 82.67s/it]\u001b[A\u001b[A\u001b[A\n",
            "\n",
            "\n",
            "[Succeeded / Failed / Skipped / Total] 51 / 0 / 0 / 51:  51%|█████     | 51/100 [1:10:16<1:07:30, 82.67s/it]\u001b[A\u001b[A\u001b[A\n",
            "\n",
            "\n",
            "[Succeeded / Failed / Skipped / Total] 51 / 0 / 0 / 51:  52%|█████▏    | 52/100 [1:10:17<1:04:53, 81.11s/it]\u001b[A\u001b[A\u001b[A\n",
            "\n",
            "\n",
            "[Succeeded / Failed / Skipped / Total] 52 / 0 / 0 / 52:  52%|█████▏    | 52/100 [1:10:17<1:04:53, 81.11s/it]\u001b[A\u001b[A\u001b[Atextattack: Saving checkpoint under \"checkpoints/1687339706102.ta.chkpt\" at 2023-06-21 09:28:26 after 52 attacks.\n"
          ]
        },
        {
          "metadata": {
            "tags": null
          },
          "name": "stdout",
          "output_type": "stream",
          "text": [
            "\n",
            "\n",
            "=============================================================================================================================\n",
            "=============================================================================================================================\n",
            "\n"
          ]
        },
        {
          "metadata": {
            "tags": null
          },
          "name": "stderr",
          "output_type": "stream",
          "text": [
            "\n",
            "\n",
            "\n",
            "[Succeeded / Failed / Skipped / Total] 52 / 0 / 0 / 52:  53%|█████▎    | 53/100 [1:10:21<1:02:23, 79.65s/it]\u001b[A\u001b[A\u001b[A\n",
            "\n",
            "\n",
            "[Succeeded / Failed / Skipped / Total] 53 / 0 / 0 / 53:  53%|█████▎    | 53/100 [1:10:21<1:02:23, 79.65s/it]\u001b[A\u001b[A\u001b[A\n",
            "\n",
            "\n",
            "[Succeeded / Failed / Skipped / Total] 53 / 0 / 0 / 53:  54%|█████▍    | 54/100 [1:10:24<59:58, 78.23s/it]  \u001b[A\u001b[A\u001b[A\n",
            "\n",
            "\n",
            "[Succeeded / Failed / Skipped / Total] 54 / 0 / 0 / 54:  54%|█████▍    | 54/100 [1:10:24<59:58, 78.23s/it]\u001b[A\u001b[A\u001b[Atextattack: Saving checkpoint under \"checkpoints/1687339712553.ta.chkpt\" at 2023-06-21 09:28:32 after 54 attacks.\n"
          ]
        },
        {
          "metadata": {
            "tags": null
          },
          "name": "stdout",
          "output_type": "stream",
          "text": [
            "\n",
            "\n",
            "=============================================================================================================================\n",
            "=============================================================================================================================\n",
            "\n"
          ]
        },
        {
          "metadata": {
            "tags": null
          },
          "name": "stderr",
          "output_type": "stream",
          "text": [
            "\n",
            "\n",
            "\n",
            "[Succeeded / Failed / Skipped / Total] 54 / 0 / 0 / 54:  55%|█████▌    | 55/100 [1:10:43<57:51, 77.15s/it]\u001b[A\u001b[A\u001b[A\n",
            "\n",
            "\n",
            "[Succeeded / Failed / Skipped / Total] 55 / 0 / 0 / 55:  55%|█████▌    | 55/100 [1:10:43<57:51, 77.15s/it]\u001b[A\u001b[A\u001b[A\n",
            "\n",
            "\n",
            "[Succeeded / Failed / Skipped / Total] 55 / 0 / 0 / 55:  56%|█████▌    | 56/100 [1:10:45<55:35, 75.82s/it]\u001b[A\u001b[A\u001b[A\n",
            "\n",
            "\n",
            "[Succeeded / Failed / Skipped / Total] 56 / 0 / 0 / 56:  56%|█████▌    | 56/100 [1:10:45<55:35, 75.82s/it]\u001b[A\u001b[A\u001b[Atextattack: Saving checkpoint under \"checkpoints/1687339734010.ta.chkpt\" at 2023-06-21 09:28:54 after 56 attacks.\n"
          ]
        },
        {
          "metadata": {
            "tags": null
          },
          "name": "stdout",
          "output_type": "stream",
          "text": [
            "\n",
            "\n",
            "=============================================================================================================================\n",
            "=============================================================================================================================\n",
            "\n"
          ]
        },
        {
          "metadata": {
            "tags": null
          },
          "name": "stderr",
          "output_type": "stream",
          "text": [
            "\n",
            "\n",
            "\n",
            "[Succeeded / Failed / Skipped / Total] 56 / 0 / 0 / 56:  57%|█████▋    | 57/100 [1:10:49<53:25, 74.55s/it]\u001b[A\u001b[A\u001b[A\n",
            "\n",
            "\n",
            "[Succeeded / Failed / Skipped / Total] 57 / 0 / 0 / 57:  57%|█████▋    | 57/100 [1:10:49<53:25, 74.55s/it]\u001b[A\u001b[A\u001b[A\n",
            "\n",
            "\n",
            "[Succeeded / Failed / Skipped / Total] 57 / 0 / 0 / 57:  58%|█████▊    | 58/100 [1:11:09<51:31, 73.62s/it]\u001b[A\u001b[A\u001b[A\n",
            "\n",
            "\n",
            "[Succeeded / Failed / Skipped / Total] 58 / 0 / 0 / 58:  58%|█████▊    | 58/100 [1:11:09<51:31, 73.62s/it]\u001b[A\u001b[A\u001b[Atextattack: Saving checkpoint under \"checkpoints/1687339758024.ta.chkpt\" at 2023-06-21 09:29:18 after 58 attacks.\n"
          ]
        },
        {
          "metadata": {
            "tags": null
          },
          "name": "stdout",
          "output_type": "stream",
          "text": [
            "\n",
            "\n",
            "=============================================================================================================================\n",
            "=============================================================================================================================\n",
            "\n"
          ]
        },
        {
          "metadata": {
            "tags": null
          },
          "name": "stderr",
          "output_type": "stream",
          "text": [
            "\n",
            "\n",
            "\n",
            "[Succeeded / Failed / Skipped / Total] 58 / 0 / 0 / 58:  59%|█████▉    | 59/100 [1:12:08<50:08, 73.37s/it]\u001b[A\u001b[A\u001b[A\n",
            "\n",
            "\n",
            "[Succeeded / Failed / Skipped / Total] 59 / 0 / 0 / 59:  59%|█████▉    | 59/100 [1:12:08<50:08, 73.37s/it]\u001b[A\u001b[A\u001b[A\n",
            "\n",
            "\n",
            "[Succeeded / Failed / Skipped / Total] 59 / 0 / 0 / 59:  60%|██████    | 60/100 [1:13:39<49:06, 73.66s/it]\u001b[A\u001b[A\u001b[A\n",
            "\n",
            "\n",
            "[Succeeded / Failed / Skipped / Total] 60 / 0 / 0 / 60:  60%|██████    | 60/100 [1:13:39<49:06, 73.66s/it]\u001b[A\u001b[A\u001b[Atextattack: Saving checkpoint under \"checkpoints/1687339907668.ta.chkpt\" at 2023-06-21 09:31:47 after 60 attacks.\n"
          ]
        },
        {
          "metadata": {
            "tags": null
          },
          "name": "stdout",
          "output_type": "stream",
          "text": [
            "\n",
            "\n",
            "=============================================================================================================================\n",
            "=============================================================================================================================\n",
            "\n"
          ]
        },
        {
          "metadata": {
            "tags": null
          },
          "name": "stderr",
          "output_type": "stream",
          "text": [
            "\n",
            "\n",
            "\n",
            "[Succeeded / Failed / Skipped / Total] 60 / 0 / 0 / 60:  61%|██████    | 61/100 [1:19:08<50:36, 77.85s/it]\u001b[A\u001b[A\u001b[A\n",
            "\n",
            "\n",
            "[Succeeded / Failed / Skipped / Total] 61 / 0 / 0 / 61:  61%|██████    | 61/100 [1:19:08<50:36, 77.85s/it]\u001b[A\u001b[A\u001b[A\n",
            "\n",
            "\n",
            "[Succeeded / Failed / Skipped / Total] 61 / 0 / 0 / 61:  62%|██████▏   | 62/100 [1:19:20<48:37, 76.78s/it]\u001b[A\u001b[A\u001b[A\n",
            "\n",
            "\n",
            "[Succeeded / Failed / Skipped / Total] 62 / 0 / 0 / 62:  62%|██████▏   | 62/100 [1:19:20<48:37, 76.78s/it]\u001b[A\u001b[A\u001b[Atextattack: Saving checkpoint under \"checkpoints/1687340248833.ta.chkpt\" at 2023-06-21 09:37:28 after 62 attacks.\n"
          ]
        },
        {
          "metadata": {
            "tags": null
          },
          "name": "stdout",
          "output_type": "stream",
          "text": [
            "\n",
            "\n",
            "=============================================================================================================================\n",
            "=============================================================================================================================\n",
            "\n"
          ]
        },
        {
          "metadata": {
            "tags": null
          },
          "name": "stderr",
          "output_type": "stream",
          "text": [
            "\n",
            "\n",
            "\n",
            "[Succeeded / Failed / Skipped / Total] 62 / 0 / 0 / 62:  63%|██████▎   | 63/100 [1:21:05<47:37, 77.24s/it]\u001b[A\u001b[A\u001b[A\n",
            "\n",
            "\n",
            "[Succeeded / Failed / Skipped / Total] 63 / 0 / 0 / 63:  63%|██████▎   | 63/100 [1:21:05<47:37, 77.24s/it]\u001b[A\u001b[A\u001b[A\n",
            "\n",
            "\n",
            "[Succeeded / Failed / Skipped / Total] 63 / 0 / 0 / 63:  64%|██████▍   | 64/100 [1:21:11<45:40, 76.12s/it]\u001b[A\u001b[A\u001b[A\n",
            "\n",
            "\n",
            "[Succeeded / Failed / Skipped / Total] 64 / 0 / 0 / 64:  64%|██████▍   | 64/100 [1:21:11<45:40, 76.12s/it]\u001b[A\u001b[A\u001b[Atextattack: Saving checkpoint under \"checkpoints/1687340359911.ta.chkpt\" at 2023-06-21 09:39:19 after 64 attacks.\n"
          ]
        },
        {
          "metadata": {
            "tags": null
          },
          "name": "stdout",
          "output_type": "stream",
          "text": [
            "\n",
            "\n",
            "=============================================================================================================================\n",
            "=============================================================================================================================\n",
            "\n"
          ]
        },
        {
          "metadata": {
            "tags": null
          },
          "name": "stderr",
          "output_type": "stream",
          "text": [
            "\n",
            "\n",
            "\n",
            "[Succeeded / Failed / Skipped / Total] 64 / 0 / 0 / 64:  65%|██████▌   | 65/100 [1:22:06<44:12, 75.79s/it]\u001b[A\u001b[A\u001b[A\n",
            "\n",
            "\n",
            "[Succeeded / Failed / Skipped / Total] 65 / 0 / 0 / 65:  65%|██████▌   | 65/100 [1:22:06<44:12, 75.79s/it]\u001b[A\u001b[A\u001b[A\n",
            "\n",
            "\n",
            "[Succeeded / Failed / Skipped / Total] 65 / 0 / 0 / 65:  66%|██████▌   | 66/100 [1:23:15<42:53, 75.69s/it]\u001b[A\u001b[A\u001b[A\n",
            "\n",
            "\n",
            "[Succeeded / Failed / Skipped / Total] 66 / 0 / 0 / 66:  66%|██████▌   | 66/100 [1:23:15<42:53, 75.69s/it]\u001b[A\u001b[A\u001b[Atextattack: Saving checkpoint under \"checkpoints/1687340483738.ta.chkpt\" at 2023-06-21 09:41:23 after 66 attacks.\n"
          ]
        },
        {
          "metadata": {
            "tags": null
          },
          "name": "stdout",
          "output_type": "stream",
          "text": [
            "\n",
            "\n",
            "=============================================================================================================================\n",
            "=============================================================================================================================\n",
            "\n"
          ]
        },
        {
          "metadata": {
            "tags": null
          },
          "name": "stderr",
          "output_type": "stream",
          "text": [
            "\n",
            "\n",
            "\n",
            "[Succeeded / Failed / Skipped / Total] 66 / 0 / 0 / 66:  67%|██████▋   | 67/100 [1:25:27<42:05, 76.54s/it]\u001b[A\u001b[A\u001b[A\n",
            "\n",
            "\n",
            "[Succeeded / Failed / Skipped / Total] 67 / 0 / 0 / 67:  67%|██████▋   | 67/100 [1:25:27<42:05, 76.54s/it]\u001b[A\u001b[A\u001b[A\n",
            "\n",
            "\n",
            "[Succeeded / Failed / Skipped / Total] 67 / 0 / 0 / 67:  68%|██████▊   | 68/100 [1:27:20<41:06, 77.07s/it]\u001b[A\u001b[A\u001b[A\n",
            "\n",
            "\n",
            "[Succeeded / Failed / Skipped / Total] 68 / 0 / 0 / 68:  68%|██████▊   | 68/100 [1:27:20<41:06, 77.07s/it]\u001b[A\u001b[A\u001b[Atextattack: Saving checkpoint under \"checkpoints/1687340729113.ta.chkpt\" at 2023-06-21 09:45:29 after 68 attacks.\n",
            "\n",
            "\n",
            "\n",
            "[Succeeded / Failed / Skipped / Total] 68 / 0 / 1 / 69:  69%|██████▉   | 69/100 [1:27:20<39:14, 75.96s/it]\u001b[A\u001b[A\u001b[A"
          ]
        },
        {
          "metadata": {
            "tags": null
          },
          "name": "stdout",
          "output_type": "stream",
          "text": [
            "\n",
            "\n",
            "=============================================================================================================================\n",
            "=============================================================================================================================\n",
            "\n"
          ]
        },
        {
          "metadata": {
            "tags": null
          },
          "name": "stderr",
          "output_type": "stream",
          "text": [
            "\n",
            "\n",
            "\n",
            "[Succeeded / Failed / Skipped / Total] 68 / 0 / 1 / 69:  70%|███████   | 70/100 [1:31:58<39:25, 78.84s/it]\u001b[A\u001b[A\u001b[A\n",
            "\n",
            "\n",
            "[Succeeded / Failed / Skipped / Total] 69 / 0 / 1 / 70:  70%|███████   | 70/100 [1:31:58<39:25, 78.84s/it]\u001b[A\u001b[A\u001b[Atextattack: Saving checkpoint under \"checkpoints/1687341007095.ta.chkpt\" at 2023-06-21 09:50:07 after 70 attacks.\n"
          ]
        },
        {
          "metadata": {
            "tags": null
          },
          "name": "stdout",
          "output_type": "stream",
          "text": [
            "\n",
            "\n",
            "=============================================================================================================================\n",
            "=============================================================================================================================\n",
            "\n"
          ]
        },
        {
          "metadata": {
            "tags": null
          },
          "name": "stderr",
          "output_type": "stream",
          "text": [
            "\n",
            "\n",
            "\n",
            "[Succeeded / Failed / Skipped / Total] 69 / 0 / 1 / 70:  71%|███████   | 71/100 [1:33:00<37:59, 78.60s/it]\u001b[A\u001b[A\u001b[A\n",
            "\n",
            "\n",
            "[Succeeded / Failed / Skipped / Total] 70 / 0 / 1 / 71:  71%|███████   | 71/100 [1:33:00<37:59, 78.61s/it]\u001b[A\u001b[A\u001b[A\n",
            "\n",
            "\n",
            "[Succeeded / Failed / Skipped / Total] 70 / 0 / 1 / 71:  72%|███████▏  | 72/100 [1:33:06<36:12, 77.58s/it]\u001b[A\u001b[A\u001b[A\n",
            "\n",
            "\n",
            "[Succeeded / Failed / Skipped / Total] 71 / 0 / 1 / 72:  72%|███████▏  | 72/100 [1:33:06<36:12, 77.59s/it]\u001b[A\u001b[A\u001b[Atextattack: Saving checkpoint under \"checkpoints/1687341074332.ta.chkpt\" at 2023-06-21 09:51:14 after 72 attacks.\n"
          ]
        },
        {
          "metadata": {
            "tags": null
          },
          "name": "stdout",
          "output_type": "stream",
          "text": [
            "\n",
            "\n",
            "=============================================================================================================================\n",
            "=============================================================================================================================\n",
            "\n"
          ]
        },
        {
          "metadata": {
            "tags": null
          },
          "name": "stderr",
          "output_type": "stream",
          "text": [
            "\n",
            "\n",
            "\n",
            "[Succeeded / Failed / Skipped / Total] 71 / 0 / 1 / 72:  73%|███████▎  | 73/100 [1:33:50<34:42, 77.13s/it]\u001b[A\u001b[A\u001b[A\n",
            "\n",
            "\n",
            "[Succeeded / Failed / Skipped / Total] 72 / 0 / 1 / 73:  73%|███████▎  | 73/100 [1:33:50<34:42, 77.13s/it]\u001b[A\u001b[A\u001b[A\n",
            "\n",
            "\n",
            "[Succeeded / Failed / Skipped / Total] 72 / 0 / 1 / 73:  74%|███████▍  | 74/100 [1:34:45<33:17, 76.83s/it]\u001b[A\u001b[A\u001b[A\n",
            "\n",
            "\n",
            "[Succeeded / Failed / Skipped / Total] 73 / 0 / 1 / 74:  74%|███████▍  | 74/100 [1:34:45<33:17, 76.83s/it]\u001b[A\u001b[A\u001b[Atextattack: Saving checkpoint under \"checkpoints/1687341173772.ta.chkpt\" at 2023-06-21 09:52:53 after 74 attacks.\n"
          ]
        },
        {
          "metadata": {
            "tags": null
          },
          "name": "stdout",
          "output_type": "stream",
          "text": [
            "\n",
            "\n",
            "=============================================================================================================================\n",
            "=============================================================================================================================\n",
            "\n"
          ]
        },
        {
          "metadata": {
            "tags": null
          },
          "name": "stderr",
          "output_type": "stream",
          "text": [
            "\n",
            "\n",
            "\n",
            "[Succeeded / Failed / Skipped / Total] 73 / 0 / 1 / 74:  75%|███████▌  | 75/100 [1:37:37<32:32, 78.10s/it]\u001b[A\u001b[A\u001b[A\n",
            "\n",
            "\n",
            "[Succeeded / Failed / Skipped / Total] 74 / 0 / 1 / 75:  75%|███████▌  | 75/100 [1:37:37<32:32, 78.10s/it]\u001b[A\u001b[A\u001b[A\n",
            "\n",
            "\n",
            "[Succeeded / Failed / Skipped / Total] 74 / 0 / 1 / 75:  76%|███████▌  | 76/100 [1:38:35<31:08, 77.84s/it]\u001b[A\u001b[A\u001b[A\n",
            "\n",
            "\n",
            "[Succeeded / Failed / Skipped / Total] 75 / 0 / 1 / 76:  76%|███████▌  | 76/100 [1:38:35<31:08, 77.84s/it]\u001b[A\u001b[A\u001b[Atextattack: Saving checkpoint under \"checkpoints/1687341404136.ta.chkpt\" at 2023-06-21 09:56:44 after 76 attacks.\n"
          ]
        },
        {
          "metadata": {
            "tags": null
          },
          "name": "stdout",
          "output_type": "stream",
          "text": [
            "\n",
            "\n",
            "=============================================================================================================================\n",
            "=============================================================================================================================\n",
            "\n"
          ]
        },
        {
          "metadata": {
            "tags": null
          },
          "name": "stderr",
          "output_type": "stream",
          "text": [
            "\n",
            "\n",
            "\n",
            "[Succeeded / Failed / Skipped / Total] 75 / 0 / 1 / 76:  77%|███████▋  | 77/100 [1:38:40<29:28, 76.89s/it]\u001b[A\u001b[A\u001b[A\n",
            "\n",
            "\n",
            "[Succeeded / Failed / Skipped / Total] 76 / 0 / 1 / 77:  77%|███████▋  | 77/100 [1:38:40<29:28, 76.89s/it]\u001b[A\u001b[A\u001b[A\n",
            "\n",
            "\n",
            "[Succeeded / Failed / Skipped / Total] 76 / 0 / 1 / 77:  78%|███████▊  | 78/100 [1:38:45<27:51, 75.97s/it]\u001b[A\u001b[A\u001b[A\n",
            "\n",
            "\n",
            "[Succeeded / Failed / Skipped / Total] 77 / 0 / 1 / 78:  78%|███████▊  | 78/100 [1:38:45<27:51, 75.97s/it]\u001b[A\u001b[A\u001b[Atextattack: Saving checkpoint under \"checkpoints/1687341413731.ta.chkpt\" at 2023-06-21 09:56:53 after 78 attacks.\n"
          ]
        },
        {
          "metadata": {
            "tags": null
          },
          "name": "stdout",
          "output_type": "stream",
          "text": [
            "\n",
            "\n",
            "=============================================================================================================================\n",
            "=============================================================================================================================\n",
            "\n"
          ]
        },
        {
          "metadata": {
            "tags": null
          },
          "name": "stderr",
          "output_type": "stream",
          "text": [
            "\n",
            "\n",
            "\n",
            "[Succeeded / Failed / Skipped / Total] 77 / 0 / 1 / 78:  79%|███████▉  | 79/100 [1:39:35<26:28, 75.64s/it]\u001b[A\u001b[A\u001b[A\n",
            "\n",
            "\n",
            "[Succeeded / Failed / Skipped / Total] 78 / 0 / 1 / 79:  79%|███████▉  | 79/100 [1:39:35<26:28, 75.64s/it]\u001b[A\u001b[A\u001b[A\n",
            "\n",
            "\n",
            "[Succeeded / Failed / Skipped / Total] 78 / 0 / 1 / 79:  80%|████████  | 80/100 [1:44:58<26:14, 78.73s/it]\u001b[A\u001b[A\u001b[A\n",
            "\n",
            "\n",
            "[Succeeded / Failed / Skipped / Total] 79 / 0 / 1 / 80:  80%|████████  | 80/100 [1:44:58<26:14, 78.73s/it]\u001b[A\u001b[A\u001b[Atextattack: Saving checkpoint under \"checkpoints/1687341786680.ta.chkpt\" at 2023-06-21 10:03:06 after 80 attacks.\n"
          ]
        },
        {
          "metadata": {
            "tags": null
          },
          "name": "stdout",
          "output_type": "stream",
          "text": [
            "\n",
            "\n",
            "=============================================================================================================================\n",
            "=============================================================================================================================\n",
            "\n"
          ]
        },
        {
          "metadata": {
            "tags": null
          },
          "name": "stderr",
          "output_type": "stream",
          "text": [
            "\n",
            "\n",
            "\n",
            "[Succeeded / Failed / Skipped / Total] 79 / 0 / 1 / 80:  81%|████████  | 81/100 [1:46:52<25:04, 79.17s/it]\u001b[A\u001b[A\u001b[A\n",
            "\n",
            "\n",
            "[Succeeded / Failed / Skipped / Total] 80 / 0 / 1 / 81:  81%|████████  | 81/100 [1:46:52<25:04, 79.17s/it]\u001b[A\u001b[A\u001b[A\n",
            "\n",
            "\n",
            "[Succeeded / Failed / Skipped / Total] 80 / 0 / 1 / 81:  82%|████████▏ | 82/100 [1:48:32<23:49, 79.42s/it]\u001b[A\u001b[A\u001b[A\n",
            "\n",
            "\n",
            "[Succeeded / Failed / Skipped / Total] 81 / 0 / 1 / 82:  82%|████████▏ | 82/100 [1:48:32<23:49, 79.42s/it]\u001b[A\u001b[A\u001b[Atextattack: Saving checkpoint under \"checkpoints/1687342000424.ta.chkpt\" at 2023-06-21 10:06:40 after 82 attacks.\n"
          ]
        },
        {
          "metadata": {
            "tags": null
          },
          "name": "stdout",
          "output_type": "stream",
          "text": [
            "\n",
            "\n",
            "=============================================================================================================================\n",
            "=============================================================================================================================\n",
            "\n"
          ]
        },
        {
          "metadata": {
            "tags": null
          },
          "name": "stderr",
          "output_type": "stream",
          "text": [
            "\n",
            "\n",
            "\n",
            "[Succeeded / Failed / Skipped / Total] 81 / 0 / 1 / 82:  83%|████████▎ | 83/100 [1:53:36<23:16, 82.13s/it]\u001b[A\u001b[A\u001b[A\n",
            "\n",
            "\n",
            "[Succeeded / Failed / Skipped / Total] 82 / 0 / 1 / 83:  83%|████████▎ | 83/100 [1:53:36<23:16, 82.13s/it]\u001b[A\u001b[A\u001b[A\n",
            "\n",
            "\n",
            "[Succeeded / Failed / Skipped / Total] 82 / 0 / 1 / 83:  84%|████████▍ | 84/100 [2:02:20<23:18, 87.39s/it]\u001b[A\u001b[A\u001b[A\n",
            "\n",
            "\n",
            "[Succeeded / Failed / Skipped / Total] 82 / 1 / 1 / 84:  84%|████████▍ | 84/100 [2:02:20<23:18, 87.39s/it]\u001b[A\u001b[A\u001b[Atextattack: Saving checkpoint under \"checkpoints/1687342828849.ta.chkpt\" at 2023-06-21 10:20:28 after 84 attacks.\n"
          ]
        },
        {
          "metadata": {
            "tags": null
          },
          "name": "stdout",
          "output_type": "stream",
          "text": [
            "\n",
            "\n",
            "=============================================================================================================================\n",
            "=============================================================================================================================\n",
            "\n"
          ]
        },
        {
          "metadata": {
            "tags": null
          },
          "name": "stderr",
          "output_type": "stream",
          "text": [
            "\n",
            "\n",
            "\n",
            "[Succeeded / Failed / Skipped / Total] 82 / 1 / 1 / 84:  85%|████████▌ | 85/100 [2:05:17<22:06, 88.44s/it]\u001b[A\u001b[A\u001b[A\n",
            "\n",
            "\n",
            "[Succeeded / Failed / Skipped / Total] 83 / 1 / 1 / 85:  85%|████████▌ | 85/100 [2:05:17<22:06, 88.44s/it]\u001b[A\u001b[A\u001b[A\n",
            "\n",
            "\n",
            "[Succeeded / Failed / Skipped / Total] 83 / 1 / 1 / 85:  86%|████████▌ | 86/100 [2:06:03<20:31, 87.94s/it]\u001b[A\u001b[A\u001b[A\n",
            "\n",
            "\n",
            "[Succeeded / Failed / Skipped / Total] 84 / 1 / 1 / 86:  86%|████████▌ | 86/100 [2:06:03<20:31, 87.94s/it]\u001b[A\u001b[A\u001b[Atextattack: Saving checkpoint under \"checkpoints/1687343051409.ta.chkpt\" at 2023-06-21 10:24:11 after 86 attacks.\n"
          ]
        },
        {
          "metadata": {
            "tags": null
          },
          "name": "stdout",
          "output_type": "stream",
          "text": [
            "\n",
            "\n",
            "=============================================================================================================================\n",
            "=============================================================================================================================\n",
            "\n"
          ]
        },
        {
          "metadata": {
            "tags": null
          },
          "name": "stderr",
          "output_type": "stream",
          "text": [
            "\n",
            "\n",
            "\n",
            "[Succeeded / Failed / Skipped / Total] 84 / 1 / 1 / 86:  87%|████████▋ | 87/100 [2:08:48<19:14, 88.83s/it]\u001b[A\u001b[A\u001b[A\n",
            "\n",
            "\n",
            "[Succeeded / Failed / Skipped / Total] 85 / 1 / 1 / 87:  87%|████████▋ | 87/100 [2:08:48<19:14, 88.83s/it]\u001b[A\u001b[A\u001b[A\n",
            "\n",
            "\n",
            "[Succeeded / Failed / Skipped / Total] 85 / 1 / 1 / 87:  88%|████████▊ | 88/100 [2:12:11<18:01, 90.13s/it]\u001b[A\u001b[A\u001b[A\n",
            "\n",
            "\n",
            "[Succeeded / Failed / Skipped / Total] 85 / 2 / 1 / 88:  88%|████████▊ | 88/100 [2:12:11<18:01, 90.13s/it]\u001b[A\u001b[A\u001b[Atextattack: Saving checkpoint under \"checkpoints/1687343419963.ta.chkpt\" at 2023-06-21 10:30:19 after 88 attacks.\n"
          ]
        },
        {
          "metadata": {
            "tags": null
          },
          "name": "stdout",
          "output_type": "stream",
          "text": [
            "\n",
            "\n",
            "=============================================================================================================================\n",
            "=============================================================================================================================\n",
            "\n"
          ]
        },
        {
          "metadata": {
            "tags": null
          },
          "name": "stderr",
          "output_type": "stream",
          "text": [
            "\n",
            "\n",
            "\n",
            "[Succeeded / Failed / Skipped / Total] 85 / 2 / 1 / 88:  89%|████████▉ | 89/100 [2:15:06<16:41, 91.08s/it]\u001b[A\u001b[A\u001b[A\n",
            "\n",
            "\n",
            "[Succeeded / Failed / Skipped / Total] 86 / 2 / 1 / 89:  89%|████████▉ | 89/100 [2:15:06<16:41, 91.08s/it]\u001b[A\u001b[A\u001b[A\n",
            "\n",
            "\n",
            "[Succeeded / Failed / Skipped / Total] 86 / 2 / 1 / 89:  90%|█████████ | 90/100 [2:15:54<15:06, 90.61s/it]\u001b[A\u001b[A\u001b[A\n",
            "\n",
            "\n",
            "[Succeeded / Failed / Skipped / Total] 87 / 2 / 1 / 90:  90%|█████████ | 90/100 [2:15:54<15:06, 90.61s/it]\u001b[A\u001b[A\u001b[Atextattack: Saving checkpoint under \"checkpoints/1687343643132.ta.chkpt\" at 2023-06-21 10:34:03 after 90 attacks.\n"
          ]
        },
        {
          "metadata": {
            "tags": null
          },
          "name": "stdout",
          "output_type": "stream",
          "text": [
            "\n",
            "\n",
            "=============================================================================================================================\n",
            "=============================================================================================================================\n",
            "\n"
          ]
        },
        {
          "metadata": {
            "tags": null
          },
          "name": "stderr",
          "output_type": "stream",
          "text": [
            "\n",
            "\n",
            "\n",
            "[Succeeded / Failed / Skipped / Total] 87 / 2 / 1 / 90:  91%|█████████ | 91/100 [2:17:42<13:37, 90.79s/it]\u001b[A\u001b[A\u001b[A\n",
            "\n",
            "\n",
            "[Succeeded / Failed / Skipped / Total] 88 / 2 / 1 / 91:  91%|█████████ | 91/100 [2:17:42<13:37, 90.79s/it]\u001b[A\u001b[A\u001b[A\n",
            "\n",
            "\n",
            "[Succeeded / Failed / Skipped / Total] 88 / 2 / 1 / 91:  92%|█████████▏| 92/100 [2:20:53<12:15, 91.89s/it]\u001b[A\u001b[A\u001b[A\n",
            "\n",
            "\n",
            "[Succeeded / Failed / Skipped / Total] 89 / 2 / 1 / 92:  92%|█████████▏| 92/100 [2:20:53<12:15, 91.89s/it]\u001b[A\u001b[A\u001b[Atextattack: Saving checkpoint under \"checkpoints/1687343941763.ta.chkpt\" at 2023-06-21 10:39:01 after 92 attacks.\n"
          ]
        },
        {
          "metadata": {
            "tags": null
          },
          "name": "stdout",
          "output_type": "stream",
          "text": [
            "\n",
            "\n",
            "=============================================================================================================================\n",
            "=============================================================================================================================\n",
            "\n"
          ]
        },
        {
          "metadata": {
            "tags": null
          },
          "name": "stderr",
          "output_type": "stream",
          "text": [
            "\n",
            "\n",
            "\n",
            "[Succeeded / Failed / Skipped / Total] 89 / 2 / 1 / 92:  93%|█████████▎| 93/100 [2:22:17<10:42, 91.80s/it]\u001b[A\u001b[A\u001b[A\n",
            "\n",
            "\n",
            "[Succeeded / Failed / Skipped / Total] 90 / 2 / 1 / 93:  93%|█████████▎| 93/100 [2:22:17<10:42, 91.80s/it]\u001b[A\u001b[A\u001b[A\n",
            "\n",
            "\n",
            "[Succeeded / Failed / Skipped / Total] 90 / 2 / 1 / 93:  94%|█████████▍| 94/100 [2:22:57<09:07, 91.25s/it]\u001b[A\u001b[A\u001b[A\n",
            "\n",
            "\n",
            "[Succeeded / Failed / Skipped / Total] 91 / 2 / 1 / 94:  94%|█████████▍| 94/100 [2:22:57<09:07, 91.25s/it]\u001b[A\u001b[A\u001b[Atextattack: Saving checkpoint under \"checkpoints/1687344066106.ta.chkpt\" at 2023-06-21 10:41:06 after 94 attacks.\n"
          ]
        },
        {
          "metadata": {
            "tags": null
          },
          "name": "stdout",
          "output_type": "stream",
          "text": [
            "\n",
            "\n",
            "=============================================================================================================================\n",
            "=============================================================================================================================\n",
            "\n"
          ]
        },
        {
          "output_type": "stream",
          "name": "stderr",
          "text": [
            "\n",
            "\n",
            "\n",
            "[Succeeded / Failed / Skipped / Total] 91 / 2 / 1 / 94:  95%|█████████▌| 95/100 [2:35:35<08:11, 98.27s/it]\u001b[A\u001b[A\u001b[A\n",
            "\n",
            "\n",
            "[Succeeded / Failed / Skipped / Total] 91 / 3 / 1 / 95:  95%|█████████▌| 95/100 [2:35:35<08:11, 98.27s/it]\u001b[A\u001b[A\u001b[A\n",
            "\n",
            "\n",
            "[Succeeded / Failed / Skipped / Total] 91 / 3 / 1 / 95:  96%|█████████▌| 96/100 [2:40:31<06:41, 100.32s/it]\u001b[A\u001b[A\u001b[A\n",
            "\n",
            "\n",
            "[Succeeded / Failed / Skipped / Total] 92 / 3 / 1 / 96:  96%|█████████▌| 96/100 [2:40:31<06:41, 100.32s/it]\u001b[A\u001b[A\u001b[Atextattack: Saving checkpoint under \"checkpoints/1687345119254.ta.chkpt\" at 2023-06-21 10:58:39 after 96 attacks.\n"
          ]
        },
        {
          "output_type": "stream",
          "name": "stdout",
          "text": [
            "\n",
            "\n",
            "=============================================================================================================================\n",
            "=============================================================================================================================\n",
            "\n"
          ]
        },
        {
          "output_type": "stream",
          "name": "stderr",
          "text": [
            "\n",
            "\n",
            "\n",
            "[Succeeded / Failed / Skipped / Total] 92 / 3 / 1 / 96:  97%|█████████▋| 97/100 [2:40:52<04:58, 99.51s/it] \u001b[A\u001b[A\u001b[A\n",
            "\n",
            "\n",
            "[Succeeded / Failed / Skipped / Total] 93 / 3 / 1 / 97:  97%|█████████▋| 97/100 [2:40:52<04:58, 99.51s/it]\u001b[A\u001b[A\u001b[A\n",
            "\n",
            "\n",
            "[Succeeded / Failed / Skipped / Total] 93 / 3 / 1 / 97:  98%|█████████▊| 98/100 [2:41:53<03:18, 99.12s/it]\u001b[A\u001b[A\u001b[A\n",
            "\n",
            "\n",
            "[Succeeded / Failed / Skipped / Total] 94 / 3 / 1 / 98:  98%|█████████▊| 98/100 [2:41:53<03:18, 99.12s/it]\u001b[A\u001b[A\u001b[Atextattack: Saving checkpoint under \"checkpoints/1687345201734.ta.chkpt\" at 2023-06-21 11:00:01 after 98 attacks.\n"
          ]
        },
        {
          "output_type": "stream",
          "name": "stdout",
          "text": [
            "\n",
            "\n",
            "=============================================================================================================================\n",
            "=============================================================================================================================\n",
            "\n"
          ]
        },
        {
          "output_type": "stream",
          "name": "stderr",
          "text": [
            "\n",
            "\n",
            "\n",
            "[Succeeded / Failed / Skipped / Total] 94 / 3 / 1 / 98:  99%|█████████▉| 99/100 [2:48:07<01:41, 101.90s/it]\u001b[A\u001b[A\u001b[A\n",
            "\n",
            "\n",
            "[Succeeded / Failed / Skipped / Total] 95 / 3 / 1 / 99:  99%|█████████▉| 99/100 [2:48:07<01:41, 101.90s/it]\u001b[A\u001b[A\u001b[A\n",
            "\n",
            "\n",
            "[Succeeded / Failed / Skipped / Total] 95 / 3 / 1 / 99: 100%|██████████| 100/100 [3:00:26<00:00, 108.26s/it]\u001b[A\u001b[A\u001b[A\n",
            "\n",
            "\n",
            "[Succeeded / Failed / Skipped / Total] 96 / 3 / 1 / 100: 100%|██████████| 100/100 [3:00:26<00:00, 108.26s/it]\u001b[A\u001b[A\u001b[Atextattack: Saving checkpoint under \"checkpoints/1687346314387.ta.chkpt\" at 2023-06-21 11:18:34 after 100 attacks.\n",
            "[Succeeded / Failed / Skipped / Total] 96 / 3 / 1 / 100: 100%|██████████| 100/100 [3:00:26<00:00, 108.26s/it]"
          ]
        },
        {
          "output_type": "stream",
          "name": "stdout",
          "text": [
            "\n",
            "\n",
            "=============================================================================================================================\n",
            "=============================================================================================================================\n",
            "\n",
            "\n",
            "+-------------------------------+---------+\n",
            "| Attack Results                |         |\n",
            "+-------------------------------+---------+\n",
            "| Number of successful attacks: | 96      |\n",
            "| Number of failed attacks:     | 3       |\n",
            "| Number of skipped attacks:    | 1       |\n",
            "| Original accuracy:            | 99.0%   |\n",
            "| Accuracy under attack:        | 3.0%    |\n",
            "| Attack success rate:          | 96.97%  |\n",
            "| Average perturbed word %:     | 10.76%  |\n",
            "| Average num. words per input: | 37.75   |\n",
            "| Avg num queries:              | 3153.25 |\n",
            "+-------------------------------+---------+\n"
          ]
        },
        {
          "output_type": "stream",
          "name": "stderr",
          "text": [
            "\n"
          ]
        },
        {
          "output_type": "execute_result",
          "data": {
            "text/plain": [
              "[<textattack.attack_results.successful_attack_result.SuccessfulAttackResult at 0x7f8cd66b72e0>,\n",
              " <textattack.attack_results.successful_attack_result.SuccessfulAttackResult at 0x7f8ca9ccbfd0>,\n",
              " <textattack.attack_results.successful_attack_result.SuccessfulAttackResult at 0x7f8cd0183be0>,\n",
              " <textattack.attack_results.successful_attack_result.SuccessfulAttackResult at 0x7f8ccc78a6e0>,\n",
              " <textattack.attack_results.successful_attack_result.SuccessfulAttackResult at 0x7f8cd690dc00>,\n",
              " <textattack.attack_results.successful_attack_result.SuccessfulAttackResult at 0x7f8cccc460e0>,\n",
              " <textattack.attack_results.successful_attack_result.SuccessfulAttackResult at 0x7f8cd690fc40>,\n",
              " <textattack.attack_results.successful_attack_result.SuccessfulAttackResult at 0x7f8ccc4ee6e0>,\n",
              " <textattack.attack_results.successful_attack_result.SuccessfulAttackResult at 0x7f8cccf98670>,\n",
              " <textattack.attack_results.successful_attack_result.SuccessfulAttackResult at 0x7f8ccb5b0100>,\n",
              " <textattack.attack_results.successful_attack_result.SuccessfulAttackResult at 0x7f8ccc13c070>,\n",
              " <textattack.attack_results.successful_attack_result.SuccessfulAttackResult at 0x7f8c8df0bfd0>,\n",
              " <textattack.attack_results.successful_attack_result.SuccessfulAttackResult at 0x7f8cd7c9f430>,\n",
              " <textattack.attack_results.successful_attack_result.SuccessfulAttackResult at 0x7f8ccc5f9d80>,\n",
              " <textattack.attack_results.successful_attack_result.SuccessfulAttackResult at 0x7f8ca2773fd0>,\n",
              " <textattack.attack_results.successful_attack_result.SuccessfulAttackResult at 0x7f8cd00ee620>,\n",
              " <textattack.attack_results.successful_attack_result.SuccessfulAttackResult at 0x7f8c8df0bf10>,\n",
              " <textattack.attack_results.successful_attack_result.SuccessfulAttackResult at 0x7f8ca91d60e0>,\n",
              " <textattack.attack_results.successful_attack_result.SuccessfulAttackResult at 0x7f8ca27732e0>,\n",
              " <textattack.attack_results.successful_attack_result.SuccessfulAttackResult at 0x7f8ca27722f0>,\n",
              " <textattack.attack_results.successful_attack_result.SuccessfulAttackResult at 0x7f8ccb39a740>,\n",
              " <textattack.attack_results.successful_attack_result.SuccessfulAttackResult at 0x7f8ca9bb7010>,\n",
              " <textattack.attack_results.successful_attack_result.SuccessfulAttackResult at 0x7f8ca9bb5720>,\n",
              " <textattack.attack_results.successful_attack_result.SuccessfulAttackResult at 0x7f8cd028c850>,\n",
              " <textattack.attack_results.successful_attack_result.SuccessfulAttackResult at 0x7f8cccd06f80>,\n",
              " <textattack.attack_results.successful_attack_result.SuccessfulAttackResult at 0x7f8cd0217790>,\n",
              " <textattack.attack_results.successful_attack_result.SuccessfulAttackResult at 0x7f8cd028ca00>,\n",
              " <textattack.attack_results.successful_attack_result.SuccessfulAttackResult at 0x7f8ccbb9bd30>,\n",
              " <textattack.attack_results.successful_attack_result.SuccessfulAttackResult at 0x7f8ca88aa050>,\n",
              " <textattack.attack_results.successful_attack_result.SuccessfulAttackResult at 0x7f8cd00eea70>,\n",
              " <textattack.attack_results.successful_attack_result.SuccessfulAttackResult at 0x7f8cccb6bdc0>,\n",
              " <textattack.attack_results.successful_attack_result.SuccessfulAttackResult at 0x7f8ca27713c0>,\n",
              " <textattack.attack_results.successful_attack_result.SuccessfulAttackResult at 0x7f8ccbb1fa60>,\n",
              " <textattack.attack_results.successful_attack_result.SuccessfulAttackResult at 0x7f8ca6bcdba0>,\n",
              " <textattack.attack_results.successful_attack_result.SuccessfulAttackResult at 0x7f8cd03eb610>,\n",
              " <textattack.attack_results.successful_attack_result.SuccessfulAttackResult at 0x7f8cc6cdeb90>,\n",
              " <textattack.attack_results.successful_attack_result.SuccessfulAttackResult at 0x7f8ca8a18820>,\n",
              " <textattack.attack_results.successful_attack_result.SuccessfulAttackResult at 0x7f8cd680ad70>,\n",
              " <textattack.attack_results.successful_attack_result.SuccessfulAttackResult at 0x7f8cd683f730>,\n",
              " <textattack.attack_results.successful_attack_result.SuccessfulAttackResult at 0x7f8ccc474eb0>,\n",
              " <textattack.attack_results.successful_attack_result.SuccessfulAttackResult at 0x7f8cd669f850>,\n",
              " <textattack.attack_results.successful_attack_result.SuccessfulAttackResult at 0x7f8ca6bcd3c0>,\n",
              " <textattack.attack_results.successful_attack_result.SuccessfulAttackResult at 0x7f8cd028edd0>,\n",
              " <textattack.attack_results.successful_attack_result.SuccessfulAttackResult at 0x7f8cd66b5d50>,\n",
              " <textattack.attack_results.successful_attack_result.SuccessfulAttackResult at 0x7f8cc78e0ee0>,\n",
              " <textattack.attack_results.successful_attack_result.SuccessfulAttackResult at 0x7f8cd00efcd0>,\n",
              " <textattack.attack_results.successful_attack_result.SuccessfulAttackResult at 0x7f8cd00ef460>,\n",
              " <textattack.attack_results.successful_attack_result.SuccessfulAttackResult at 0x7f8ccb6b6a70>,\n",
              " <textattack.attack_results.successful_attack_result.SuccessfulAttackResult at 0x7f8cd00ef0d0>,\n",
              " <textattack.attack_results.successful_attack_result.SuccessfulAttackResult at 0x7f8cd00ef310>,\n",
              " <textattack.attack_results.successful_attack_result.SuccessfulAttackResult at 0x7f8cd62c8d00>,\n",
              " <textattack.attack_results.successful_attack_result.SuccessfulAttackResult at 0x7f8cd62c8fd0>,\n",
              " <textattack.attack_results.successful_attack_result.SuccessfulAttackResult at 0x7f8cd62ca710>,\n",
              " <textattack.attack_results.successful_attack_result.SuccessfulAttackResult at 0x7f8cd62c8640>,\n",
              " <textattack.attack_results.successful_attack_result.SuccessfulAttackResult at 0x7f8ccb45cdc0>,\n",
              " <textattack.attack_results.successful_attack_result.SuccessfulAttackResult at 0x7f8cd683ff40>,\n",
              " <textattack.attack_results.successful_attack_result.SuccessfulAttackResult at 0x7f8ccb45e6e0>,\n",
              " <textattack.attack_results.successful_attack_result.SuccessfulAttackResult at 0x7f8ccbb6be80>,\n",
              " <textattack.attack_results.successful_attack_result.SuccessfulAttackResult at 0x7f8ccbb1cee0>,\n",
              " <textattack.attack_results.successful_attack_result.SuccessfulAttackResult at 0x7f8ca970ba60>,\n",
              " <textattack.attack_results.successful_attack_result.SuccessfulAttackResult at 0x7f8ccb91c4f0>,\n",
              " <textattack.attack_results.successful_attack_result.SuccessfulAttackResult at 0x7f8cd667a4d0>,\n",
              " <textattack.attack_results.successful_attack_result.SuccessfulAttackResult at 0x7f8ccc1877c0>,\n",
              " <textattack.attack_results.successful_attack_result.SuccessfulAttackResult at 0x7f8ccc187100>,\n",
              " <textattack.attack_results.successful_attack_result.SuccessfulAttackResult at 0x7f8ccc475750>,\n",
              " <textattack.attack_results.successful_attack_result.SuccessfulAttackResult at 0x7f8ccbff2f80>,\n",
              " <textattack.attack_results.successful_attack_result.SuccessfulAttackResult at 0x7f8ccb45e080>,\n",
              " <textattack.attack_results.successful_attack_result.SuccessfulAttackResult at 0x7f8cd62cb5b0>,\n",
              " <textattack.attack_results.skipped_attack_result.SkippedAttackResult at 0x7f8cd62c9cc0>,\n",
              " <textattack.attack_results.successful_attack_result.SuccessfulAttackResult at 0x7f8ccaedfaf0>,\n",
              " <textattack.attack_results.successful_attack_result.SuccessfulAttackResult at 0x7f8cd6900f10>,\n",
              " <textattack.attack_results.successful_attack_result.SuccessfulAttackResult at 0x7f8cd69027d0>,\n",
              " <textattack.attack_results.successful_attack_result.SuccessfulAttackResult at 0x7f8cd66b6da0>,\n",
              " <textattack.attack_results.successful_attack_result.SuccessfulAttackResult at 0x7f8ca27731f0>,\n",
              " <textattack.attack_results.successful_attack_result.SuccessfulAttackResult at 0x7f8cc6dd1540>,\n",
              " <textattack.attack_results.successful_attack_result.SuccessfulAttackResult at 0x7f8cd683f070>,\n",
              " <textattack.attack_results.successful_attack_result.SuccessfulAttackResult at 0x7f8cccd1ab30>,\n",
              " <textattack.attack_results.successful_attack_result.SuccessfulAttackResult at 0x7f8cccd18a00>,\n",
              " <textattack.attack_results.successful_attack_result.SuccessfulAttackResult at 0x7f8ca8a18550>,\n",
              " <textattack.attack_results.successful_attack_result.SuccessfulAttackResult at 0x7f8ccbb99e40>,\n",
              " <textattack.attack_results.successful_attack_result.SuccessfulAttackResult at 0x7f8cd66b5a20>,\n",
              " <textattack.attack_results.successful_attack_result.SuccessfulAttackResult at 0x7f8cd6282dd0>,\n",
              " <textattack.attack_results.successful_attack_result.SuccessfulAttackResult at 0x7f8cd0204910>,\n",
              " <textattack.attack_results.failed_attack_result.FailedAttackResult at 0x7f8c472f3fd0>,\n",
              " <textattack.attack_results.successful_attack_result.SuccessfulAttackResult at 0x7f8cccf5b8e0>,\n",
              " <textattack.attack_results.successful_attack_result.SuccessfulAttackResult at 0x7f8e8693ed40>,\n",
              " <textattack.attack_results.successful_attack_result.SuccessfulAttackResult at 0x7f8ccc5cabc0>,\n",
              " <textattack.attack_results.failed_attack_result.FailedAttackResult at 0x7f8ca80a59f0>,\n",
              " <textattack.attack_results.successful_attack_result.SuccessfulAttackResult at 0x7f8ccc910400>,\n",
              " <textattack.attack_results.successful_attack_result.SuccessfulAttackResult at 0x7f8ca7560f40>,\n",
              " <textattack.attack_results.successful_attack_result.SuccessfulAttackResult at 0x7f8ca80a5f30>,\n",
              " <textattack.attack_results.successful_attack_result.SuccessfulAttackResult at 0x7f8ca9ccabf0>,\n",
              " <textattack.attack_results.successful_attack_result.SuccessfulAttackResult at 0x7f8ccc1308b0>,\n",
              " <textattack.attack_results.successful_attack_result.SuccessfulAttackResult at 0x7f8cc7996c80>,\n",
              " <textattack.attack_results.failed_attack_result.FailedAttackResult at 0x7f8c43a586a0>,\n",
              " <textattack.attack_results.successful_attack_result.SuccessfulAttackResult at 0x7f8ccc1a5960>,\n",
              " <textattack.attack_results.successful_attack_result.SuccessfulAttackResult at 0x7f8ccb205ab0>,\n",
              " <textattack.attack_results.successful_attack_result.SuccessfulAttackResult at 0x7f8ccc78b520>,\n",
              " <textattack.attack_results.successful_attack_result.SuccessfulAttackResult at 0x7f8ccc2c84f0>,\n",
              " <textattack.attack_results.successful_attack_result.SuccessfulAttackResult at 0x7f8cc7997130>]"
            ]
          },
          "metadata": {},
          "execution_count": 14
        }
      ],
      "source": [
        "\n",
        "attack_args = textattack.AttackArgs(\n",
        "\n",
        "    num_examples=100,\n",
        "\n",
        "    log_to_csv=\"TAagnews.csv\",\n",
        "\n",
        "    checkpoint_interval=2,\n",
        "\n",
        "    checkpoint_dir=\"checkpoints\",\n",
        "\n",
        "    disable_stdout=True\n",
        "\n",
        ")\n",
        "\n",
        "attacker = textattack.Attacker(attack, dataset, attack_args)\n",
        "\n",
        "attacker.attack_dataset()"
      ]
    },
    {
      "cell_type": "code",
      "execution_count": 15,
      "metadata": {
        "id": "rtv0rtBwX6DM",
        "colab": {
          "base_uri": "https://localhost:8080/"
        },
        "outputId": "6bec5418-16a3-441d-81a6-6e9969c0d24e"
      },
      "outputs": [
        {
          "output_type": "stream",
          "name": "stdout",
          "text": [
            "Attack(\n",
            "  (search_method): BeamSearch(\n",
            "    (beam_width):  8\n",
            "  )\n",
            "  (goal_function):  UntargetedClassification\n",
            "  (transformation):  WordSwapHomoglyphSwap\n",
            "  (constraints): \n",
            "    (0): WordEmbeddingDistance(\n",
            "        (embedding):  WordEmbedding\n",
            "        (min_cos_sim):  0.7\n",
            "        (cased):  False\n",
            "        (include_unknown_words):  True\n",
            "        (compare_against_original):  True\n",
            "      )\n",
            "    (1): RepeatModification\n",
            "    (2): StopwordModification\n",
            "  (is_black_box):  True\n",
            ") \n",
            "\n"
          ]
        },
        {
          "output_type": "stream",
          "name": "stderr",
          "text": [
            "[Succeeded / Failed / Skipped / Total] 1 / 0 / 0 / 1:  10%|█         | 1/10 [00:24<03:44, 24.94s/it]"
          ]
        },
        {
          "output_type": "stream",
          "name": "stdout",
          "text": [
            "--------------------------------------------- Result 1 ---------------------------------------------\n",
            "[[Business (96%)]] --> [[World (93%)]]\n",
            "\n",
            "Wall St. Bears Claw Back Into the Black (Reuters) Reuters - [[Short-sellers]], [[Wall]] Street's dwindling\\band of ultra-cynics, are seeing green again.\n",
            "\n",
            "Wall St. Bears Claw Back Into the Black (Reuters) Reuters - [[Short˗sellers]], [[Wɑll]] Street's dwindling\\band of ultra-cynics, are seeing green again.\n",
            "\n",
            "\n"
          ]
        },
        {
          "output_type": "stream",
          "name": "stderr",
          "text": [
            "[Succeeded / Failed / Skipped / Total] 2 / 0 / 0 / 2:  20%|██        | 2/10 [04:07<16:29, 123.69s/it]"
          ]
        },
        {
          "output_type": "stream",
          "name": "stdout",
          "text": [
            "--------------------------------------------- Result 2 ---------------------------------------------\n",
            "[[Business (100%)]] --> [[Sports (50%)]]\n",
            "\n",
            "[[Carlyle]] Looks Toward Commercial Aerospace (Reuters) Reuters - [[Private]] [[investment]] firm [[Carlyle]] Group,\\which has a reputation for making well-timed and occasionally\\controversial plays in the defense [[industry]], has quietly placed\\its bets on another part of the [[market]].\n",
            "\n",
            "[[Carⅼyle]] Looks Toward Commercial Aerospace (Reuters) Reuters - [[Prіvate]] [[іnvestment]] firm [[Carlyⅼe]] Group,\\which has a reputation for making well-timed and occasionally\\controversial plays in the defense [[іndustry]], has quietly placed\\its bets on another part of the [[marke𝚝]].\n",
            "\n",
            "\n"
          ]
        },
        {
          "output_type": "stream",
          "name": "stderr",
          "text": [
            "[Succeeded / Failed / Skipped / Total] 3 / 0 / 0 / 3:  30%|███       | 3/10 [05:55<13:48, 118.35s/it]"
          ]
        },
        {
          "output_type": "stream",
          "name": "stdout",
          "text": [
            "--------------------------------------------- Result 3 ---------------------------------------------\n",
            "[[Business (100%)]] --> [[Sci/tech (83%)]]\n",
            "\n",
            "Oil and [[Economy]] Cloud Stocks' Outlook (Reuters) Reuters - [[Soaring]] crude prices plus worries\\about the [[economy]] and the outlook for [[earnings]] are expected to\\hang over the stock market next week during the depth of the\\summer doldrums.\n",
            "\n",
            "Oil and [[Economу]] Cloud Stocks' Outlook (Reuters) Reuters - [[Soarіng]] crude prices plus worries\\about the [[ecoոomy]] and the outlook for [[earոings]] are expected to\\hang over the stock market next week during the depth of the\\summer doldrums.\n",
            "\n",
            "\n"
          ]
        },
        {
          "output_type": "stream",
          "name": "stderr",
          "text": [
            "[Succeeded / Failed / Skipped / Total] 4 / 0 / 0 / 4:  40%|████      | 4/10 [06:47<10:11, 101.96s/it]"
          ]
        },
        {
          "output_type": "stream",
          "name": "stdout",
          "text": [
            "--------------------------------------------- Result 4 ---------------------------------------------\n",
            "[[Business (78%)]] --> [[World (55%)]]\n",
            "\n",
            "Iraq Halts Oil Exports from Main Southern Pipeline (Reuters) Reuters - Authorities have halted oil export\\[[flows]] from the main pipeline in southern [[Iraq]] after\\intelligence showed a rebel militia could strike\\infrastructure, an oil official said on Saturday.\n",
            "\n",
            "Iraq Halts Oil Exports from Main Southern Pipeline (Reuters) Reuters - Authorities have halted oil export\\[[flоws]] from the main pipeline in southern [[Irɑq]] after\\intelligence showed a rebel militia could strike\\infrastructure, an oil official said on Saturday.\n",
            "\n",
            "\n"
          ]
        },
        {
          "output_type": "stream",
          "name": "stderr",
          "text": [
            "[Succeeded / Failed / Skipped / Total] 5 / 0 / 0 / 5:  50%|█████     | 5/10 [07:36<07:36, 91.35s/it]"
          ]
        },
        {
          "output_type": "stream",
          "name": "stdout",
          "text": [
            "--------------------------------------------- Result 5 ---------------------------------------------\n",
            "[[Business (99%)]] --> [[World (50%)]]\n",
            "\n",
            "Oil prices soar to all-time record, posing new menace to US [[economy]] (AFP) AFP - Tearaway world oil prices, toppling records and straining wallets, present a new economic menace [[barely]] three months before the US presidential elections.\n",
            "\n",
            "Oil prices soar to all-time record, posing new menace to US [[econoｍy]] (AFP) AFP - Tearaway world oil prices, toppling records and straining wallets, present a new economic menace [[barelу]] three months before the US presidential elections.\n",
            "\n",
            "\n"
          ]
        },
        {
          "output_type": "stream",
          "name": "stderr",
          "text": [
            "[Succeeded / Failed / Skipped / Total] 6 / 0 / 0 / 6:  60%|██████    | 6/10 [10:16<06:50, 102.67s/it]"
          ]
        },
        {
          "output_type": "stream",
          "name": "stdout",
          "text": [
            "--------------------------------------------- Result 6 ---------------------------------------------\n",
            "[[Business (100%)]] --> [[Sci/tech (57%)]]\n",
            "\n",
            "[[Stocks]] End Up, But Near Year Lows (Reuters) Reuters - [[Stocks]] ended slightly higher on Friday\\but stayed near lows for the year as [[oil]] [[prices]] surged past  #36;46\\a [[barrel]], offsetting a positive outlook from computer maker\\Dell Inc. (DELL.O)\n",
            "\n",
            "[[Stoϲks]] End Up, But Near Year Lows (Reuters) Reuters - [[S𝚝ocks]] ended slightly higher on Friday\\but stayed near lows for the year as [[oiⅼ]] [[priϲes]] surged past  #36;46\\a [[barreⅼ]], offsetting a positive outlook from computer maker\\Dell Inc. (DELL.O)\n",
            "\n",
            "\n"
          ]
        },
        {
          "output_type": "stream",
          "name": "stderr",
          "text": [
            "[Succeeded / Failed / Skipped / Total] 7 / 0 / 0 / 7:  70%|███████   | 7/10 [12:01<05:09, 103.09s/it]"
          ]
        },
        {
          "output_type": "stream",
          "name": "stdout",
          "text": [
            "--------------------------------------------- Result 7 ---------------------------------------------\n",
            "[[Business (100%)]] --> [[World (95%)]]\n",
            "\n",
            "Money Funds Fell in Latest Week (AP) AP - Assets of the nation's [[retail]] money market [[mutual]] funds fell by  #36;1.17 [[billion]] in the latest week to  #36;849.98 trillion, the [[Investment]] Company Institute said Thursday.\n",
            "\n",
            "Money Funds Fell in Latest Week (AP) AP - Assets of the nation's [[retaіl]] money market [[mu𝚝ual]] funds fell by  #36;1.17 [[billіon]] in the latest week to  #36;849.98 trillion, the [[Investmen𝚝]] Company Institute said Thursday.\n",
            "\n",
            "\n"
          ]
        },
        {
          "output_type": "stream",
          "name": "stderr",
          "text": [
            "[Succeeded / Failed / Skipped / Total] 8 / 0 / 0 / 8:  80%|████████  | 8/10 [14:10<03:32, 106.35s/it]"
          ]
        },
        {
          "output_type": "stream",
          "name": "stdout",
          "text": [
            "--------------------------------------------- Result 8 ---------------------------------------------\n",
            "[[Business (100%)]] --> [[World (53%)]]\n",
            "\n",
            "[[Fed]] [[minutes]] show dissent over inflation (USATODAY.com) USATODAY.com - [[Retail]] [[sales]] bounced back a bit in July, and new claims for jobless benefits fell last week, the government said Thursday, indicating the economy is improving from a midsummer slump.\n",
            "\n",
            "[[Feԁ]] [[mіnutes]] show dissent over inflation (USATODAY.com) USATODAY.com - [[Retaіl]] [[saleѕ]] bounced back a bit in July, and new claims for jobless benefits fell last week, the government said Thursday, indicating the economy is improving from a midsummer slump.\n",
            "\n",
            "\n"
          ]
        },
        {
          "output_type": "stream",
          "name": "stderr",
          "text": [
            "[Succeeded / Failed / Skipped / Total] 9 / 0 / 0 / 9:  90%|█████████ | 9/10 [15:27<01:43, 103.08s/it]"
          ]
        },
        {
          "output_type": "stream",
          "name": "stdout",
          "text": [
            "--------------------------------------------- Result 9 ---------------------------------------------\n",
            "[[Business (100%)]] --> [[Sci/tech (95%)]]\n",
            "\n",
            "Safety Net ([[Forbes]].com) [[Forbes]].com - After earning a PH.D. in Sociology, Danny Bazil Riley started to work as the general manager at a commercial real estate firm at an annual base salary of  #36;70,000. Soon after, a financial planner stopped by his desk to drop off brochures about insurance benefits available through his employer. But, at 32, \"buying insurance was the furthest thing from my mind,\" says Riley.\n",
            "\n",
            "Safety Net ([[ForЬes]].com) [[Fоrbes]].com - After earning a PH.D. in Sociology, Danny Bazil Riley started to work as the general manager at a commercial real estate firm at an annual base salary of  #36;70,000. Soon after, a financial planner stopped by his desk to drop off brochures about insurance benefits available through his employer. But, at 32, \"buying insurance was the furthest thing from my mind,\" says Riley.\n",
            "\n",
            "\n"
          ]
        },
        {
          "output_type": "stream",
          "name": "stderr",
          "text": [
            "[Succeeded / Failed / Skipped / Total] 10 / 0 / 0 / 10: 100%|██████████| 10/10 [16:09<00:00, 96.91s/it]"
          ]
        },
        {
          "output_type": "stream",
          "name": "stdout",
          "text": [
            "--------------------------------------------- Result 10 ---------------------------------------------\n",
            "[[Business (100%)]] --> [[World (99%)]]\n",
            "\n",
            "Wall [[St]]. Bears Claw Back Into the Black  NEW YORK (Reuters) - [[Short-sellers]], Wall [[Street's]] dwindling  band of ultra-cynics, are seeing green again.\n",
            "\n",
            "Wall [[S𝚝]]. Bears Claw Back Into the Black  NEW YORK (Reuters) - [[Short˗sellers]], Wall [[S𝚝reet's]] dwindling  band of ultra-cynics, are seeing green again.\n",
            "\n",
            "\n",
            "\n",
            "+-------------------------------+--------+\n",
            "| Attack Results                |        |\n",
            "+-------------------------------+--------+\n",
            "| Number of successful attacks: | 10     |\n",
            "| Number of failed attacks:     | 0      |\n",
            "| Number of skipped attacks:    | 0      |\n",
            "| Original accuracy:            | 100.0% |\n",
            "| Accuracy under attack:        | 0.0%   |\n",
            "| Attack success rate:          | 100.0% |\n",
            "| Average perturbed word %:     | 9.55%  |\n",
            "| Average num. words per input: | 38.5   |\n",
            "| Avg num queries:              | 2804.4 |\n",
            "+-------------------------------+--------+\n"
          ]
        },
        {
          "output_type": "stream",
          "name": "stderr",
          "text": [
            "\n"
          ]
        }
      ],
      "source": [
        "from textattack import Attacker\n",
        "\n",
        "attacker = Attacker(attack, dataset)\n",
        "attack_results=attacker.attack_dataset()"
      ]
    },
    {
      "cell_type": "code",
      "source": [],
      "metadata": {
        "id": "GsE1QYBJMNBB"
      },
      "execution_count": null,
      "outputs": []
    }
  ],
  "metadata": {
    "accelerator": "GPU",
    "colab": {
      "provenance": [],
      "gpuType": "T4",
      "include_colab_link": true
    },
    "kernelspec": {
      "display_name": "Python 3",
      "name": "python3"
    },
    "language_info": {
      "name": "python"
    },
    "widgets": {
      "application/vnd.jupyter.widget-state+json": {
        "78d21ddbaf0e45c48a707fa40a4388cb": {
          "model_module": "@jupyter-widgets/controls",
          "model_name": "HBoxModel",
          "model_module_version": "1.5.0",
          "state": {
            "_dom_classes": [],
            "_model_module": "@jupyter-widgets/controls",
            "_model_module_version": "1.5.0",
            "_model_name": "HBoxModel",
            "_view_count": null,
            "_view_module": "@jupyter-widgets/controls",
            "_view_module_version": "1.5.0",
            "_view_name": "HBoxView",
            "box_style": "",
            "children": [
              "IPY_MODEL_691dbf5ce5a2406bbd83b256afeeca51",
              "IPY_MODEL_cb72345bbc984e9280163dfa10e777fd",
              "IPY_MODEL_ee3dc7aabcc0496c81ff53f4849b5b50"
            ],
            "layout": "IPY_MODEL_e7e12b81974c4080b39cc2c7153847c5"
          }
        },
        "691dbf5ce5a2406bbd83b256afeeca51": {
          "model_module": "@jupyter-widgets/controls",
          "model_name": "HTMLModel",
          "model_module_version": "1.5.0",
          "state": {
            "_dom_classes": [],
            "_model_module": "@jupyter-widgets/controls",
            "_model_module_version": "1.5.0",
            "_model_name": "HTMLModel",
            "_view_count": null,
            "_view_module": "@jupyter-widgets/controls",
            "_view_module_version": "1.5.0",
            "_view_name": "HTMLView",
            "description": "",
            "description_tooltip": null,
            "layout": "IPY_MODEL_3b6fed0097474c58b818a9b755494095",
            "placeholder": "​",
            "style": "IPY_MODEL_c3d3b76fe56d4635a9e2d4843d38d9c9",
            "value": "Downloading (…)solve/main/vocab.txt: 100%"
          }
        },
        "cb72345bbc984e9280163dfa10e777fd": {
          "model_module": "@jupyter-widgets/controls",
          "model_name": "FloatProgressModel",
          "model_module_version": "1.5.0",
          "state": {
            "_dom_classes": [],
            "_model_module": "@jupyter-widgets/controls",
            "_model_module_version": "1.5.0",
            "_model_name": "FloatProgressModel",
            "_view_count": null,
            "_view_module": "@jupyter-widgets/controls",
            "_view_module_version": "1.5.0",
            "_view_name": "ProgressView",
            "bar_style": "success",
            "description": "",
            "description_tooltip": null,
            "layout": "IPY_MODEL_7713c899006c40ab97634ac5fac6fa4b",
            "max": 231508,
            "min": 0,
            "orientation": "horizontal",
            "style": "IPY_MODEL_6f8d7cfeb9f2452d8f9a89155b151f97",
            "value": 231508
          }
        },
        "ee3dc7aabcc0496c81ff53f4849b5b50": {
          "model_module": "@jupyter-widgets/controls",
          "model_name": "HTMLModel",
          "model_module_version": "1.5.0",
          "state": {
            "_dom_classes": [],
            "_model_module": "@jupyter-widgets/controls",
            "_model_module_version": "1.5.0",
            "_model_name": "HTMLModel",
            "_view_count": null,
            "_view_module": "@jupyter-widgets/controls",
            "_view_module_version": "1.5.0",
            "_view_name": "HTMLView",
            "description": "",
            "description_tooltip": null,
            "layout": "IPY_MODEL_da53d5b1aeb54889ad03858fbf6cf54e",
            "placeholder": "​",
            "style": "IPY_MODEL_f1d3f841d47244ea956db59436c38940",
            "value": " 232k/232k [00:00&lt;00:00, 1.18MB/s]"
          }
        },
        "e7e12b81974c4080b39cc2c7153847c5": {
          "model_module": "@jupyter-widgets/base",
          "model_name": "LayoutModel",
          "model_module_version": "1.2.0",
          "state": {
            "_model_module": "@jupyter-widgets/base",
            "_model_module_version": "1.2.0",
            "_model_name": "LayoutModel",
            "_view_count": null,
            "_view_module": "@jupyter-widgets/base",
            "_view_module_version": "1.2.0",
            "_view_name": "LayoutView",
            "align_content": null,
            "align_items": null,
            "align_self": null,
            "border": null,
            "bottom": null,
            "display": null,
            "flex": null,
            "flex_flow": null,
            "grid_area": null,
            "grid_auto_columns": null,
            "grid_auto_flow": null,
            "grid_auto_rows": null,
            "grid_column": null,
            "grid_gap": null,
            "grid_row": null,
            "grid_template_areas": null,
            "grid_template_columns": null,
            "grid_template_rows": null,
            "height": null,
            "justify_content": null,
            "justify_items": null,
            "left": null,
            "margin": null,
            "max_height": null,
            "max_width": null,
            "min_height": null,
            "min_width": null,
            "object_fit": null,
            "object_position": null,
            "order": null,
            "overflow": null,
            "overflow_x": null,
            "overflow_y": null,
            "padding": null,
            "right": null,
            "top": null,
            "visibility": null,
            "width": null
          }
        },
        "3b6fed0097474c58b818a9b755494095": {
          "model_module": "@jupyter-widgets/base",
          "model_name": "LayoutModel",
          "model_module_version": "1.2.0",
          "state": {
            "_model_module": "@jupyter-widgets/base",
            "_model_module_version": "1.2.0",
            "_model_name": "LayoutModel",
            "_view_count": null,
            "_view_module": "@jupyter-widgets/base",
            "_view_module_version": "1.2.0",
            "_view_name": "LayoutView",
            "align_content": null,
            "align_items": null,
            "align_self": null,
            "border": null,
            "bottom": null,
            "display": null,
            "flex": null,
            "flex_flow": null,
            "grid_area": null,
            "grid_auto_columns": null,
            "grid_auto_flow": null,
            "grid_auto_rows": null,
            "grid_column": null,
            "grid_gap": null,
            "grid_row": null,
            "grid_template_areas": null,
            "grid_template_columns": null,
            "grid_template_rows": null,
            "height": null,
            "justify_content": null,
            "justify_items": null,
            "left": null,
            "margin": null,
            "max_height": null,
            "max_width": null,
            "min_height": null,
            "min_width": null,
            "object_fit": null,
            "object_position": null,
            "order": null,
            "overflow": null,
            "overflow_x": null,
            "overflow_y": null,
            "padding": null,
            "right": null,
            "top": null,
            "visibility": null,
            "width": null
          }
        },
        "c3d3b76fe56d4635a9e2d4843d38d9c9": {
          "model_module": "@jupyter-widgets/controls",
          "model_name": "DescriptionStyleModel",
          "model_module_version": "1.5.0",
          "state": {
            "_model_module": "@jupyter-widgets/controls",
            "_model_module_version": "1.5.0",
            "_model_name": "DescriptionStyleModel",
            "_view_count": null,
            "_view_module": "@jupyter-widgets/base",
            "_view_module_version": "1.2.0",
            "_view_name": "StyleView",
            "description_width": ""
          }
        },
        "7713c899006c40ab97634ac5fac6fa4b": {
          "model_module": "@jupyter-widgets/base",
          "model_name": "LayoutModel",
          "model_module_version": "1.2.0",
          "state": {
            "_model_module": "@jupyter-widgets/base",
            "_model_module_version": "1.2.0",
            "_model_name": "LayoutModel",
            "_view_count": null,
            "_view_module": "@jupyter-widgets/base",
            "_view_module_version": "1.2.0",
            "_view_name": "LayoutView",
            "align_content": null,
            "align_items": null,
            "align_self": null,
            "border": null,
            "bottom": null,
            "display": null,
            "flex": null,
            "flex_flow": null,
            "grid_area": null,
            "grid_auto_columns": null,
            "grid_auto_flow": null,
            "grid_auto_rows": null,
            "grid_column": null,
            "grid_gap": null,
            "grid_row": null,
            "grid_template_areas": null,
            "grid_template_columns": null,
            "grid_template_rows": null,
            "height": null,
            "justify_content": null,
            "justify_items": null,
            "left": null,
            "margin": null,
            "max_height": null,
            "max_width": null,
            "min_height": null,
            "min_width": null,
            "object_fit": null,
            "object_position": null,
            "order": null,
            "overflow": null,
            "overflow_x": null,
            "overflow_y": null,
            "padding": null,
            "right": null,
            "top": null,
            "visibility": null,
            "width": null
          }
        },
        "6f8d7cfeb9f2452d8f9a89155b151f97": {
          "model_module": "@jupyter-widgets/controls",
          "model_name": "ProgressStyleModel",
          "model_module_version": "1.5.0",
          "state": {
            "_model_module": "@jupyter-widgets/controls",
            "_model_module_version": "1.5.0",
            "_model_name": "ProgressStyleModel",
            "_view_count": null,
            "_view_module": "@jupyter-widgets/base",
            "_view_module_version": "1.2.0",
            "_view_name": "StyleView",
            "bar_color": null,
            "description_width": ""
          }
        },
        "da53d5b1aeb54889ad03858fbf6cf54e": {
          "model_module": "@jupyter-widgets/base",
          "model_name": "LayoutModel",
          "model_module_version": "1.2.0",
          "state": {
            "_model_module": "@jupyter-widgets/base",
            "_model_module_version": "1.2.0",
            "_model_name": "LayoutModel",
            "_view_count": null,
            "_view_module": "@jupyter-widgets/base",
            "_view_module_version": "1.2.0",
            "_view_name": "LayoutView",
            "align_content": null,
            "align_items": null,
            "align_self": null,
            "border": null,
            "bottom": null,
            "display": null,
            "flex": null,
            "flex_flow": null,
            "grid_area": null,
            "grid_auto_columns": null,
            "grid_auto_flow": null,
            "grid_auto_rows": null,
            "grid_column": null,
            "grid_gap": null,
            "grid_row": null,
            "grid_template_areas": null,
            "grid_template_columns": null,
            "grid_template_rows": null,
            "height": null,
            "justify_content": null,
            "justify_items": null,
            "left": null,
            "margin": null,
            "max_height": null,
            "max_width": null,
            "min_height": null,
            "min_width": null,
            "object_fit": null,
            "object_position": null,
            "order": null,
            "overflow": null,
            "overflow_x": null,
            "overflow_y": null,
            "padding": null,
            "right": null,
            "top": null,
            "visibility": null,
            "width": null
          }
        },
        "f1d3f841d47244ea956db59436c38940": {
          "model_module": "@jupyter-widgets/controls",
          "model_name": "DescriptionStyleModel",
          "model_module_version": "1.5.0",
          "state": {
            "_model_module": "@jupyter-widgets/controls",
            "_model_module_version": "1.5.0",
            "_model_name": "DescriptionStyleModel",
            "_view_count": null,
            "_view_module": "@jupyter-widgets/base",
            "_view_module_version": "1.2.0",
            "_view_name": "StyleView",
            "description_width": ""
          }
        },
        "a88410b8673044ae92e24f223b710177": {
          "model_module": "@jupyter-widgets/controls",
          "model_name": "HBoxModel",
          "model_module_version": "1.5.0",
          "state": {
            "_dom_classes": [],
            "_model_module": "@jupyter-widgets/controls",
            "_model_module_version": "1.5.0",
            "_model_name": "HBoxModel",
            "_view_count": null,
            "_view_module": "@jupyter-widgets/controls",
            "_view_module_version": "1.5.0",
            "_view_name": "HBoxView",
            "box_style": "",
            "children": [
              "IPY_MODEL_ade820888f934fe9b2d2bc183d04a4de",
              "IPY_MODEL_55a1a34d6ad74b8b94ef0fb5a25bcca7",
              "IPY_MODEL_48a040a9791e46edaf796a7a5d654332"
            ],
            "layout": "IPY_MODEL_311fdc977d4944f9a76f613a8f65abc6"
          }
        },
        "ade820888f934fe9b2d2bc183d04a4de": {
          "model_module": "@jupyter-widgets/controls",
          "model_name": "HTMLModel",
          "model_module_version": "1.5.0",
          "state": {
            "_dom_classes": [],
            "_model_module": "@jupyter-widgets/controls",
            "_model_module_version": "1.5.0",
            "_model_name": "HTMLModel",
            "_view_count": null,
            "_view_module": "@jupyter-widgets/controls",
            "_view_module_version": "1.5.0",
            "_view_name": "HTMLView",
            "description": "",
            "description_tooltip": null,
            "layout": "IPY_MODEL_15c2238ad72f4d06ac4f027dcc52be02",
            "placeholder": "​",
            "style": "IPY_MODEL_9a4018acce3543f3b293fd1250e8c10f",
            "value": "Downloading (…)cial_tokens_map.json: 100%"
          }
        },
        "55a1a34d6ad74b8b94ef0fb5a25bcca7": {
          "model_module": "@jupyter-widgets/controls",
          "model_name": "FloatProgressModel",
          "model_module_version": "1.5.0",
          "state": {
            "_dom_classes": [],
            "_model_module": "@jupyter-widgets/controls",
            "_model_module_version": "1.5.0",
            "_model_name": "FloatProgressModel",
            "_view_count": null,
            "_view_module": "@jupyter-widgets/controls",
            "_view_module_version": "1.5.0",
            "_view_name": "ProgressView",
            "bar_style": "success",
            "description": "",
            "description_tooltip": null,
            "layout": "IPY_MODEL_fdfb9924f5b54b2896e444513d98347e",
            "max": 112,
            "min": 0,
            "orientation": "horizontal",
            "style": "IPY_MODEL_7e61b63614c94c2189869ee326dce32c",
            "value": 112
          }
        },
        "48a040a9791e46edaf796a7a5d654332": {
          "model_module": "@jupyter-widgets/controls",
          "model_name": "HTMLModel",
          "model_module_version": "1.5.0",
          "state": {
            "_dom_classes": [],
            "_model_module": "@jupyter-widgets/controls",
            "_model_module_version": "1.5.0",
            "_model_name": "HTMLModel",
            "_view_count": null,
            "_view_module": "@jupyter-widgets/controls",
            "_view_module_version": "1.5.0",
            "_view_name": "HTMLView",
            "description": "",
            "description_tooltip": null,
            "layout": "IPY_MODEL_7f611322fb844c91b84c417763821ea7",
            "placeholder": "​",
            "style": "IPY_MODEL_0d2ec0687f5c44108a068004f8b53aac",
            "value": " 112/112 [00:00&lt;00:00, 8.30kB/s]"
          }
        },
        "311fdc977d4944f9a76f613a8f65abc6": {
          "model_module": "@jupyter-widgets/base",
          "model_name": "LayoutModel",
          "model_module_version": "1.2.0",
          "state": {
            "_model_module": "@jupyter-widgets/base",
            "_model_module_version": "1.2.0",
            "_model_name": "LayoutModel",
            "_view_count": null,
            "_view_module": "@jupyter-widgets/base",
            "_view_module_version": "1.2.0",
            "_view_name": "LayoutView",
            "align_content": null,
            "align_items": null,
            "align_self": null,
            "border": null,
            "bottom": null,
            "display": null,
            "flex": null,
            "flex_flow": null,
            "grid_area": null,
            "grid_auto_columns": null,
            "grid_auto_flow": null,
            "grid_auto_rows": null,
            "grid_column": null,
            "grid_gap": null,
            "grid_row": null,
            "grid_template_areas": null,
            "grid_template_columns": null,
            "grid_template_rows": null,
            "height": null,
            "justify_content": null,
            "justify_items": null,
            "left": null,
            "margin": null,
            "max_height": null,
            "max_width": null,
            "min_height": null,
            "min_width": null,
            "object_fit": null,
            "object_position": null,
            "order": null,
            "overflow": null,
            "overflow_x": null,
            "overflow_y": null,
            "padding": null,
            "right": null,
            "top": null,
            "visibility": null,
            "width": null
          }
        },
        "15c2238ad72f4d06ac4f027dcc52be02": {
          "model_module": "@jupyter-widgets/base",
          "model_name": "LayoutModel",
          "model_module_version": "1.2.0",
          "state": {
            "_model_module": "@jupyter-widgets/base",
            "_model_module_version": "1.2.0",
            "_model_name": "LayoutModel",
            "_view_count": null,
            "_view_module": "@jupyter-widgets/base",
            "_view_module_version": "1.2.0",
            "_view_name": "LayoutView",
            "align_content": null,
            "align_items": null,
            "align_self": null,
            "border": null,
            "bottom": null,
            "display": null,
            "flex": null,
            "flex_flow": null,
            "grid_area": null,
            "grid_auto_columns": null,
            "grid_auto_flow": null,
            "grid_auto_rows": null,
            "grid_column": null,
            "grid_gap": null,
            "grid_row": null,
            "grid_template_areas": null,
            "grid_template_columns": null,
            "grid_template_rows": null,
            "height": null,
            "justify_content": null,
            "justify_items": null,
            "left": null,
            "margin": null,
            "max_height": null,
            "max_width": null,
            "min_height": null,
            "min_width": null,
            "object_fit": null,
            "object_position": null,
            "order": null,
            "overflow": null,
            "overflow_x": null,
            "overflow_y": null,
            "padding": null,
            "right": null,
            "top": null,
            "visibility": null,
            "width": null
          }
        },
        "9a4018acce3543f3b293fd1250e8c10f": {
          "model_module": "@jupyter-widgets/controls",
          "model_name": "DescriptionStyleModel",
          "model_module_version": "1.5.0",
          "state": {
            "_model_module": "@jupyter-widgets/controls",
            "_model_module_version": "1.5.0",
            "_model_name": "DescriptionStyleModel",
            "_view_count": null,
            "_view_module": "@jupyter-widgets/base",
            "_view_module_version": "1.2.0",
            "_view_name": "StyleView",
            "description_width": ""
          }
        },
        "fdfb9924f5b54b2896e444513d98347e": {
          "model_module": "@jupyter-widgets/base",
          "model_name": "LayoutModel",
          "model_module_version": "1.2.0",
          "state": {
            "_model_module": "@jupyter-widgets/base",
            "_model_module_version": "1.2.0",
            "_model_name": "LayoutModel",
            "_view_count": null,
            "_view_module": "@jupyter-widgets/base",
            "_view_module_version": "1.2.0",
            "_view_name": "LayoutView",
            "align_content": null,
            "align_items": null,
            "align_self": null,
            "border": null,
            "bottom": null,
            "display": null,
            "flex": null,
            "flex_flow": null,
            "grid_area": null,
            "grid_auto_columns": null,
            "grid_auto_flow": null,
            "grid_auto_rows": null,
            "grid_column": null,
            "grid_gap": null,
            "grid_row": null,
            "grid_template_areas": null,
            "grid_template_columns": null,
            "grid_template_rows": null,
            "height": null,
            "justify_content": null,
            "justify_items": null,
            "left": null,
            "margin": null,
            "max_height": null,
            "max_width": null,
            "min_height": null,
            "min_width": null,
            "object_fit": null,
            "object_position": null,
            "order": null,
            "overflow": null,
            "overflow_x": null,
            "overflow_y": null,
            "padding": null,
            "right": null,
            "top": null,
            "visibility": null,
            "width": null
          }
        },
        "7e61b63614c94c2189869ee326dce32c": {
          "model_module": "@jupyter-widgets/controls",
          "model_name": "ProgressStyleModel",
          "model_module_version": "1.5.0",
          "state": {
            "_model_module": "@jupyter-widgets/controls",
            "_model_module_version": "1.5.0",
            "_model_name": "ProgressStyleModel",
            "_view_count": null,
            "_view_module": "@jupyter-widgets/base",
            "_view_module_version": "1.2.0",
            "_view_name": "StyleView",
            "bar_color": null,
            "description_width": ""
          }
        },
        "7f611322fb844c91b84c417763821ea7": {
          "model_module": "@jupyter-widgets/base",
          "model_name": "LayoutModel",
          "model_module_version": "1.2.0",
          "state": {
            "_model_module": "@jupyter-widgets/base",
            "_model_module_version": "1.2.0",
            "_model_name": "LayoutModel",
            "_view_count": null,
            "_view_module": "@jupyter-widgets/base",
            "_view_module_version": "1.2.0",
            "_view_name": "LayoutView",
            "align_content": null,
            "align_items": null,
            "align_self": null,
            "border": null,
            "bottom": null,
            "display": null,
            "flex": null,
            "flex_flow": null,
            "grid_area": null,
            "grid_auto_columns": null,
            "grid_auto_flow": null,
            "grid_auto_rows": null,
            "grid_column": null,
            "grid_gap": null,
            "grid_row": null,
            "grid_template_areas": null,
            "grid_template_columns": null,
            "grid_template_rows": null,
            "height": null,
            "justify_content": null,
            "justify_items": null,
            "left": null,
            "margin": null,
            "max_height": null,
            "max_width": null,
            "min_height": null,
            "min_width": null,
            "object_fit": null,
            "object_position": null,
            "order": null,
            "overflow": null,
            "overflow_x": null,
            "overflow_y": null,
            "padding": null,
            "right": null,
            "top": null,
            "visibility": null,
            "width": null
          }
        },
        "0d2ec0687f5c44108a068004f8b53aac": {
          "model_module": "@jupyter-widgets/controls",
          "model_name": "DescriptionStyleModel",
          "model_module_version": "1.5.0",
          "state": {
            "_model_module": "@jupyter-widgets/controls",
            "_model_module_version": "1.5.0",
            "_model_name": "DescriptionStyleModel",
            "_view_count": null,
            "_view_module": "@jupyter-widgets/base",
            "_view_module_version": "1.2.0",
            "_view_name": "StyleView",
            "description_width": ""
          }
        },
        "b9a296425f194a1aaade95caf30f2a2a": {
          "model_module": "@jupyter-widgets/controls",
          "model_name": "HBoxModel",
          "model_module_version": "1.5.0",
          "state": {
            "_dom_classes": [],
            "_model_module": "@jupyter-widgets/controls",
            "_model_module_version": "1.5.0",
            "_model_name": "HBoxModel",
            "_view_count": null,
            "_view_module": "@jupyter-widgets/controls",
            "_view_module_version": "1.5.0",
            "_view_name": "HBoxView",
            "box_style": "",
            "children": [
              "IPY_MODEL_ad0bbe4c3d6e424085378e0be924b73f",
              "IPY_MODEL_5928cc7752464375babff379a1703d9c",
              "IPY_MODEL_ef88022a2e7843fd870f1d5772f2bf44"
            ],
            "layout": "IPY_MODEL_57bdd13e4454403583b1799d35e17ab4"
          }
        },
        "ad0bbe4c3d6e424085378e0be924b73f": {
          "model_module": "@jupyter-widgets/controls",
          "model_name": "HTMLModel",
          "model_module_version": "1.5.0",
          "state": {
            "_dom_classes": [],
            "_model_module": "@jupyter-widgets/controls",
            "_model_module_version": "1.5.0",
            "_model_name": "HTMLModel",
            "_view_count": null,
            "_view_module": "@jupyter-widgets/controls",
            "_view_module_version": "1.5.0",
            "_view_name": "HTMLView",
            "description": "",
            "description_tooltip": null,
            "layout": "IPY_MODEL_363c0ece7ad1481cb48d4fe84cefbeba",
            "placeholder": "​",
            "style": "IPY_MODEL_40e258f296754fa6aedf439dbabd3ee7",
            "value": "Downloading builder script: "
          }
        },
        "5928cc7752464375babff379a1703d9c": {
          "model_module": "@jupyter-widgets/controls",
          "model_name": "FloatProgressModel",
          "model_module_version": "1.5.0",
          "state": {
            "_dom_classes": [],
            "_model_module": "@jupyter-widgets/controls",
            "_model_module_version": "1.5.0",
            "_model_name": "FloatProgressModel",
            "_view_count": null,
            "_view_module": "@jupyter-widgets/controls",
            "_view_module_version": "1.5.0",
            "_view_name": "ProgressView",
            "bar_style": "success",
            "description": "",
            "description_tooltip": null,
            "layout": "IPY_MODEL_75ef3930efac49aabd976c6296832593",
            "max": 1831,
            "min": 0,
            "orientation": "horizontal",
            "style": "IPY_MODEL_3a12fc9909d748dca2097d6c934a5df6",
            "value": 1831
          }
        },
        "ef88022a2e7843fd870f1d5772f2bf44": {
          "model_module": "@jupyter-widgets/controls",
          "model_name": "HTMLModel",
          "model_module_version": "1.5.0",
          "state": {
            "_dom_classes": [],
            "_model_module": "@jupyter-widgets/controls",
            "_model_module_version": "1.5.0",
            "_model_name": "HTMLModel",
            "_view_count": null,
            "_view_module": "@jupyter-widgets/controls",
            "_view_module_version": "1.5.0",
            "_view_name": "HTMLView",
            "description": "",
            "description_tooltip": null,
            "layout": "IPY_MODEL_4a6ecee58b634869a8eecb2379cc80b2",
            "placeholder": "​",
            "style": "IPY_MODEL_f0bb6672021f409fb66f24999582deda",
            "value": " 4.06k/? [00:00&lt;00:00, 123kB/s]"
          }
        },
        "57bdd13e4454403583b1799d35e17ab4": {
          "model_module": "@jupyter-widgets/base",
          "model_name": "LayoutModel",
          "model_module_version": "1.2.0",
          "state": {
            "_model_module": "@jupyter-widgets/base",
            "_model_module_version": "1.2.0",
            "_model_name": "LayoutModel",
            "_view_count": null,
            "_view_module": "@jupyter-widgets/base",
            "_view_module_version": "1.2.0",
            "_view_name": "LayoutView",
            "align_content": null,
            "align_items": null,
            "align_self": null,
            "border": null,
            "bottom": null,
            "display": null,
            "flex": null,
            "flex_flow": null,
            "grid_area": null,
            "grid_auto_columns": null,
            "grid_auto_flow": null,
            "grid_auto_rows": null,
            "grid_column": null,
            "grid_gap": null,
            "grid_row": null,
            "grid_template_areas": null,
            "grid_template_columns": null,
            "grid_template_rows": null,
            "height": null,
            "justify_content": null,
            "justify_items": null,
            "left": null,
            "margin": null,
            "max_height": null,
            "max_width": null,
            "min_height": null,
            "min_width": null,
            "object_fit": null,
            "object_position": null,
            "order": null,
            "overflow": null,
            "overflow_x": null,
            "overflow_y": null,
            "padding": null,
            "right": null,
            "top": null,
            "visibility": null,
            "width": null
          }
        },
        "363c0ece7ad1481cb48d4fe84cefbeba": {
          "model_module": "@jupyter-widgets/base",
          "model_name": "LayoutModel",
          "model_module_version": "1.2.0",
          "state": {
            "_model_module": "@jupyter-widgets/base",
            "_model_module_version": "1.2.0",
            "_model_name": "LayoutModel",
            "_view_count": null,
            "_view_module": "@jupyter-widgets/base",
            "_view_module_version": "1.2.0",
            "_view_name": "LayoutView",
            "align_content": null,
            "align_items": null,
            "align_self": null,
            "border": null,
            "bottom": null,
            "display": null,
            "flex": null,
            "flex_flow": null,
            "grid_area": null,
            "grid_auto_columns": null,
            "grid_auto_flow": null,
            "grid_auto_rows": null,
            "grid_column": null,
            "grid_gap": null,
            "grid_row": null,
            "grid_template_areas": null,
            "grid_template_columns": null,
            "grid_template_rows": null,
            "height": null,
            "justify_content": null,
            "justify_items": null,
            "left": null,
            "margin": null,
            "max_height": null,
            "max_width": null,
            "min_height": null,
            "min_width": null,
            "object_fit": null,
            "object_position": null,
            "order": null,
            "overflow": null,
            "overflow_x": null,
            "overflow_y": null,
            "padding": null,
            "right": null,
            "top": null,
            "visibility": null,
            "width": null
          }
        },
        "40e258f296754fa6aedf439dbabd3ee7": {
          "model_module": "@jupyter-widgets/controls",
          "model_name": "DescriptionStyleModel",
          "model_module_version": "1.5.0",
          "state": {
            "_model_module": "@jupyter-widgets/controls",
            "_model_module_version": "1.5.0",
            "_model_name": "DescriptionStyleModel",
            "_view_count": null,
            "_view_module": "@jupyter-widgets/base",
            "_view_module_version": "1.2.0",
            "_view_name": "StyleView",
            "description_width": ""
          }
        },
        "75ef3930efac49aabd976c6296832593": {
          "model_module": "@jupyter-widgets/base",
          "model_name": "LayoutModel",
          "model_module_version": "1.2.0",
          "state": {
            "_model_module": "@jupyter-widgets/base",
            "_model_module_version": "1.2.0",
            "_model_name": "LayoutModel",
            "_view_count": null,
            "_view_module": "@jupyter-widgets/base",
            "_view_module_version": "1.2.0",
            "_view_name": "LayoutView",
            "align_content": null,
            "align_items": null,
            "align_self": null,
            "border": null,
            "bottom": null,
            "display": null,
            "flex": null,
            "flex_flow": null,
            "grid_area": null,
            "grid_auto_columns": null,
            "grid_auto_flow": null,
            "grid_auto_rows": null,
            "grid_column": null,
            "grid_gap": null,
            "grid_row": null,
            "grid_template_areas": null,
            "grid_template_columns": null,
            "grid_template_rows": null,
            "height": null,
            "justify_content": null,
            "justify_items": null,
            "left": null,
            "margin": null,
            "max_height": null,
            "max_width": null,
            "min_height": null,
            "min_width": null,
            "object_fit": null,
            "object_position": null,
            "order": null,
            "overflow": null,
            "overflow_x": null,
            "overflow_y": null,
            "padding": null,
            "right": null,
            "top": null,
            "visibility": null,
            "width": null
          }
        },
        "3a12fc9909d748dca2097d6c934a5df6": {
          "model_module": "@jupyter-widgets/controls",
          "model_name": "ProgressStyleModel",
          "model_module_version": "1.5.0",
          "state": {
            "_model_module": "@jupyter-widgets/controls",
            "_model_module_version": "1.5.0",
            "_model_name": "ProgressStyleModel",
            "_view_count": null,
            "_view_module": "@jupyter-widgets/base",
            "_view_module_version": "1.2.0",
            "_view_name": "StyleView",
            "bar_color": null,
            "description_width": ""
          }
        },
        "4a6ecee58b634869a8eecb2379cc80b2": {
          "model_module": "@jupyter-widgets/base",
          "model_name": "LayoutModel",
          "model_module_version": "1.2.0",
          "state": {
            "_model_module": "@jupyter-widgets/base",
            "_model_module_version": "1.2.0",
            "_model_name": "LayoutModel",
            "_view_count": null,
            "_view_module": "@jupyter-widgets/base",
            "_view_module_version": "1.2.0",
            "_view_name": "LayoutView",
            "align_content": null,
            "align_items": null,
            "align_self": null,
            "border": null,
            "bottom": null,
            "display": null,
            "flex": null,
            "flex_flow": null,
            "grid_area": null,
            "grid_auto_columns": null,
            "grid_auto_flow": null,
            "grid_auto_rows": null,
            "grid_column": null,
            "grid_gap": null,
            "grid_row": null,
            "grid_template_areas": null,
            "grid_template_columns": null,
            "grid_template_rows": null,
            "height": null,
            "justify_content": null,
            "justify_items": null,
            "left": null,
            "margin": null,
            "max_height": null,
            "max_width": null,
            "min_height": null,
            "min_width": null,
            "object_fit": null,
            "object_position": null,
            "order": null,
            "overflow": null,
            "overflow_x": null,
            "overflow_y": null,
            "padding": null,
            "right": null,
            "top": null,
            "visibility": null,
            "width": null
          }
        },
        "f0bb6672021f409fb66f24999582deda": {
          "model_module": "@jupyter-widgets/controls",
          "model_name": "DescriptionStyleModel",
          "model_module_version": "1.5.0",
          "state": {
            "_model_module": "@jupyter-widgets/controls",
            "_model_module_version": "1.5.0",
            "_model_name": "DescriptionStyleModel",
            "_view_count": null,
            "_view_module": "@jupyter-widgets/base",
            "_view_module_version": "1.2.0",
            "_view_name": "StyleView",
            "description_width": ""
          }
        },
        "201f1907d7474ba0b10bcb15c960ddc9": {
          "model_module": "@jupyter-widgets/controls",
          "model_name": "HBoxModel",
          "model_module_version": "1.5.0",
          "state": {
            "_dom_classes": [],
            "_model_module": "@jupyter-widgets/controls",
            "_model_module_version": "1.5.0",
            "_model_name": "HBoxModel",
            "_view_count": null,
            "_view_module": "@jupyter-widgets/controls",
            "_view_module_version": "1.5.0",
            "_view_name": "HBoxView",
            "box_style": "",
            "children": [
              "IPY_MODEL_ba3842c181704167bb50db9d873fa18b",
              "IPY_MODEL_ab674b274cb5456eb04d3165bb5d3096",
              "IPY_MODEL_57d690a58646480ea193eca448195a84"
            ],
            "layout": "IPY_MODEL_6053ebec02ad464ba9f77180b80af722"
          }
        },
        "ba3842c181704167bb50db9d873fa18b": {
          "model_module": "@jupyter-widgets/controls",
          "model_name": "HTMLModel",
          "model_module_version": "1.5.0",
          "state": {
            "_dom_classes": [],
            "_model_module": "@jupyter-widgets/controls",
            "_model_module_version": "1.5.0",
            "_model_name": "HTMLModel",
            "_view_count": null,
            "_view_module": "@jupyter-widgets/controls",
            "_view_module_version": "1.5.0",
            "_view_name": "HTMLView",
            "description": "",
            "description_tooltip": null,
            "layout": "IPY_MODEL_0d2ffb9c93fd43098d4fe06cf7e95c6f",
            "placeholder": "​",
            "style": "IPY_MODEL_0c825a29e80c499aa764016e516ac95d",
            "value": "Downloading metadata: "
          }
        },
        "ab674b274cb5456eb04d3165bb5d3096": {
          "model_module": "@jupyter-widgets/controls",
          "model_name": "FloatProgressModel",
          "model_module_version": "1.5.0",
          "state": {
            "_dom_classes": [],
            "_model_module": "@jupyter-widgets/controls",
            "_model_module_version": "1.5.0",
            "_model_name": "FloatProgressModel",
            "_view_count": null,
            "_view_module": "@jupyter-widgets/controls",
            "_view_module_version": "1.5.0",
            "_view_name": "ProgressView",
            "bar_style": "success",
            "description": "",
            "description_tooltip": null,
            "layout": "IPY_MODEL_1676e7fc49624a51aa647c378fea6f8d",
            "max": 1285,
            "min": 0,
            "orientation": "horizontal",
            "style": "IPY_MODEL_48c8b99c6fa84714b6dad62df41a33af",
            "value": 1285
          }
        },
        "57d690a58646480ea193eca448195a84": {
          "model_module": "@jupyter-widgets/controls",
          "model_name": "HTMLModel",
          "model_module_version": "1.5.0",
          "state": {
            "_dom_classes": [],
            "_model_module": "@jupyter-widgets/controls",
            "_model_module_version": "1.5.0",
            "_model_name": "HTMLModel",
            "_view_count": null,
            "_view_module": "@jupyter-widgets/controls",
            "_view_module_version": "1.5.0",
            "_view_name": "HTMLView",
            "description": "",
            "description_tooltip": null,
            "layout": "IPY_MODEL_ce91b329044947c2a9dc99f24b2728a2",
            "placeholder": "​",
            "style": "IPY_MODEL_25dd7419bc74441895aeb18859fea883",
            "value": " 2.65k/? [00:00&lt;00:00, 47.7kB/s]"
          }
        },
        "6053ebec02ad464ba9f77180b80af722": {
          "model_module": "@jupyter-widgets/base",
          "model_name": "LayoutModel",
          "model_module_version": "1.2.0",
          "state": {
            "_model_module": "@jupyter-widgets/base",
            "_model_module_version": "1.2.0",
            "_model_name": "LayoutModel",
            "_view_count": null,
            "_view_module": "@jupyter-widgets/base",
            "_view_module_version": "1.2.0",
            "_view_name": "LayoutView",
            "align_content": null,
            "align_items": null,
            "align_self": null,
            "border": null,
            "bottom": null,
            "display": null,
            "flex": null,
            "flex_flow": null,
            "grid_area": null,
            "grid_auto_columns": null,
            "grid_auto_flow": null,
            "grid_auto_rows": null,
            "grid_column": null,
            "grid_gap": null,
            "grid_row": null,
            "grid_template_areas": null,
            "grid_template_columns": null,
            "grid_template_rows": null,
            "height": null,
            "justify_content": null,
            "justify_items": null,
            "left": null,
            "margin": null,
            "max_height": null,
            "max_width": null,
            "min_height": null,
            "min_width": null,
            "object_fit": null,
            "object_position": null,
            "order": null,
            "overflow": null,
            "overflow_x": null,
            "overflow_y": null,
            "padding": null,
            "right": null,
            "top": null,
            "visibility": null,
            "width": null
          }
        },
        "0d2ffb9c93fd43098d4fe06cf7e95c6f": {
          "model_module": "@jupyter-widgets/base",
          "model_name": "LayoutModel",
          "model_module_version": "1.2.0",
          "state": {
            "_model_module": "@jupyter-widgets/base",
            "_model_module_version": "1.2.0",
            "_model_name": "LayoutModel",
            "_view_count": null,
            "_view_module": "@jupyter-widgets/base",
            "_view_module_version": "1.2.0",
            "_view_name": "LayoutView",
            "align_content": null,
            "align_items": null,
            "align_self": null,
            "border": null,
            "bottom": null,
            "display": null,
            "flex": null,
            "flex_flow": null,
            "grid_area": null,
            "grid_auto_columns": null,
            "grid_auto_flow": null,
            "grid_auto_rows": null,
            "grid_column": null,
            "grid_gap": null,
            "grid_row": null,
            "grid_template_areas": null,
            "grid_template_columns": null,
            "grid_template_rows": null,
            "height": null,
            "justify_content": null,
            "justify_items": null,
            "left": null,
            "margin": null,
            "max_height": null,
            "max_width": null,
            "min_height": null,
            "min_width": null,
            "object_fit": null,
            "object_position": null,
            "order": null,
            "overflow": null,
            "overflow_x": null,
            "overflow_y": null,
            "padding": null,
            "right": null,
            "top": null,
            "visibility": null,
            "width": null
          }
        },
        "0c825a29e80c499aa764016e516ac95d": {
          "model_module": "@jupyter-widgets/controls",
          "model_name": "DescriptionStyleModel",
          "model_module_version": "1.5.0",
          "state": {
            "_model_module": "@jupyter-widgets/controls",
            "_model_module_version": "1.5.0",
            "_model_name": "DescriptionStyleModel",
            "_view_count": null,
            "_view_module": "@jupyter-widgets/base",
            "_view_module_version": "1.2.0",
            "_view_name": "StyleView",
            "description_width": ""
          }
        },
        "1676e7fc49624a51aa647c378fea6f8d": {
          "model_module": "@jupyter-widgets/base",
          "model_name": "LayoutModel",
          "model_module_version": "1.2.0",
          "state": {
            "_model_module": "@jupyter-widgets/base",
            "_model_module_version": "1.2.0",
            "_model_name": "LayoutModel",
            "_view_count": null,
            "_view_module": "@jupyter-widgets/base",
            "_view_module_version": "1.2.0",
            "_view_name": "LayoutView",
            "align_content": null,
            "align_items": null,
            "align_self": null,
            "border": null,
            "bottom": null,
            "display": null,
            "flex": null,
            "flex_flow": null,
            "grid_area": null,
            "grid_auto_columns": null,
            "grid_auto_flow": null,
            "grid_auto_rows": null,
            "grid_column": null,
            "grid_gap": null,
            "grid_row": null,
            "grid_template_areas": null,
            "grid_template_columns": null,
            "grid_template_rows": null,
            "height": null,
            "justify_content": null,
            "justify_items": null,
            "left": null,
            "margin": null,
            "max_height": null,
            "max_width": null,
            "min_height": null,
            "min_width": null,
            "object_fit": null,
            "object_position": null,
            "order": null,
            "overflow": null,
            "overflow_x": null,
            "overflow_y": null,
            "padding": null,
            "right": null,
            "top": null,
            "visibility": null,
            "width": null
          }
        },
        "48c8b99c6fa84714b6dad62df41a33af": {
          "model_module": "@jupyter-widgets/controls",
          "model_name": "ProgressStyleModel",
          "model_module_version": "1.5.0",
          "state": {
            "_model_module": "@jupyter-widgets/controls",
            "_model_module_version": "1.5.0",
            "_model_name": "ProgressStyleModel",
            "_view_count": null,
            "_view_module": "@jupyter-widgets/base",
            "_view_module_version": "1.2.0",
            "_view_name": "StyleView",
            "bar_color": null,
            "description_width": ""
          }
        },
        "ce91b329044947c2a9dc99f24b2728a2": {
          "model_module": "@jupyter-widgets/base",
          "model_name": "LayoutModel",
          "model_module_version": "1.2.0",
          "state": {
            "_model_module": "@jupyter-widgets/base",
            "_model_module_version": "1.2.0",
            "_model_name": "LayoutModel",
            "_view_count": null,
            "_view_module": "@jupyter-widgets/base",
            "_view_module_version": "1.2.0",
            "_view_name": "LayoutView",
            "align_content": null,
            "align_items": null,
            "align_self": null,
            "border": null,
            "bottom": null,
            "display": null,
            "flex": null,
            "flex_flow": null,
            "grid_area": null,
            "grid_auto_columns": null,
            "grid_auto_flow": null,
            "grid_auto_rows": null,
            "grid_column": null,
            "grid_gap": null,
            "grid_row": null,
            "grid_template_areas": null,
            "grid_template_columns": null,
            "grid_template_rows": null,
            "height": null,
            "justify_content": null,
            "justify_items": null,
            "left": null,
            "margin": null,
            "max_height": null,
            "max_width": null,
            "min_height": null,
            "min_width": null,
            "object_fit": null,
            "object_position": null,
            "order": null,
            "overflow": null,
            "overflow_x": null,
            "overflow_y": null,
            "padding": null,
            "right": null,
            "top": null,
            "visibility": null,
            "width": null
          }
        },
        "25dd7419bc74441895aeb18859fea883": {
          "model_module": "@jupyter-widgets/controls",
          "model_name": "DescriptionStyleModel",
          "model_module_version": "1.5.0",
          "state": {
            "_model_module": "@jupyter-widgets/controls",
            "_model_module_version": "1.5.0",
            "_model_name": "DescriptionStyleModel",
            "_view_count": null,
            "_view_module": "@jupyter-widgets/base",
            "_view_module_version": "1.2.0",
            "_view_name": "StyleView",
            "description_width": ""
          }
        },
        "d69828772a2e441c8920c3102d791952": {
          "model_module": "@jupyter-widgets/controls",
          "model_name": "HBoxModel",
          "model_module_version": "1.5.0",
          "state": {
            "_dom_classes": [],
            "_model_module": "@jupyter-widgets/controls",
            "_model_module_version": "1.5.0",
            "_model_name": "HBoxModel",
            "_view_count": null,
            "_view_module": "@jupyter-widgets/controls",
            "_view_module_version": "1.5.0",
            "_view_name": "HBoxView",
            "box_style": "",
            "children": [
              "IPY_MODEL_27802f38d9c24268bc610548b4d8b9d6",
              "IPY_MODEL_349948f79eea4d6da1841909b972322f",
              "IPY_MODEL_623b169666f847d4965760430567fe47"
            ],
            "layout": "IPY_MODEL_4d9d0ded8a1a4f5c9872d348b8aa65e7"
          }
        },
        "27802f38d9c24268bc610548b4d8b9d6": {
          "model_module": "@jupyter-widgets/controls",
          "model_name": "HTMLModel",
          "model_module_version": "1.5.0",
          "state": {
            "_dom_classes": [],
            "_model_module": "@jupyter-widgets/controls",
            "_model_module_version": "1.5.0",
            "_model_name": "HTMLModel",
            "_view_count": null,
            "_view_module": "@jupyter-widgets/controls",
            "_view_module_version": "1.5.0",
            "_view_name": "HTMLView",
            "description": "",
            "description_tooltip": null,
            "layout": "IPY_MODEL_478ae1cf12c944659388995c7226a1f3",
            "placeholder": "​",
            "style": "IPY_MODEL_62958fab88ed4745a49f31f8010b8771",
            "value": "Downloading data: "
          }
        },
        "349948f79eea4d6da1841909b972322f": {
          "model_module": "@jupyter-widgets/controls",
          "model_name": "FloatProgressModel",
          "model_module_version": "1.5.0",
          "state": {
            "_dom_classes": [],
            "_model_module": "@jupyter-widgets/controls",
            "_model_module_version": "1.5.0",
            "_model_name": "FloatProgressModel",
            "_view_count": null,
            "_view_module": "@jupyter-widgets/controls",
            "_view_module_version": "1.5.0",
            "_view_name": "ProgressView",
            "bar_style": "success",
            "description": "",
            "description_tooltip": null,
            "layout": "IPY_MODEL_fecdb566d94e4be898afbd75eca6d127",
            "max": 11045148,
            "min": 0,
            "orientation": "horizontal",
            "style": "IPY_MODEL_2c5a1102767c405083b7b52d334ec903",
            "value": 11045148
          }
        },
        "623b169666f847d4965760430567fe47": {
          "model_module": "@jupyter-widgets/controls",
          "model_name": "HTMLModel",
          "model_module_version": "1.5.0",
          "state": {
            "_dom_classes": [],
            "_model_module": "@jupyter-widgets/controls",
            "_model_module_version": "1.5.0",
            "_model_name": "HTMLModel",
            "_view_count": null,
            "_view_module": "@jupyter-widgets/controls",
            "_view_module_version": "1.5.0",
            "_view_name": "HTMLView",
            "description": "",
            "description_tooltip": null,
            "layout": "IPY_MODEL_4679fbe5a057495fab3099bc154c0e0c",
            "placeholder": "​",
            "style": "IPY_MODEL_28841dfdacfb443b819c267c412257b0",
            "value": " 29.5M/? [00:00&lt;00:00, 51.9MB/s]"
          }
        },
        "4d9d0ded8a1a4f5c9872d348b8aa65e7": {
          "model_module": "@jupyter-widgets/base",
          "model_name": "LayoutModel",
          "model_module_version": "1.2.0",
          "state": {
            "_model_module": "@jupyter-widgets/base",
            "_model_module_version": "1.2.0",
            "_model_name": "LayoutModel",
            "_view_count": null,
            "_view_module": "@jupyter-widgets/base",
            "_view_module_version": "1.2.0",
            "_view_name": "LayoutView",
            "align_content": null,
            "align_items": null,
            "align_self": null,
            "border": null,
            "bottom": null,
            "display": null,
            "flex": null,
            "flex_flow": null,
            "grid_area": null,
            "grid_auto_columns": null,
            "grid_auto_flow": null,
            "grid_auto_rows": null,
            "grid_column": null,
            "grid_gap": null,
            "grid_row": null,
            "grid_template_areas": null,
            "grid_template_columns": null,
            "grid_template_rows": null,
            "height": null,
            "justify_content": null,
            "justify_items": null,
            "left": null,
            "margin": null,
            "max_height": null,
            "max_width": null,
            "min_height": null,
            "min_width": null,
            "object_fit": null,
            "object_position": null,
            "order": null,
            "overflow": null,
            "overflow_x": null,
            "overflow_y": null,
            "padding": null,
            "right": null,
            "top": null,
            "visibility": null,
            "width": null
          }
        },
        "478ae1cf12c944659388995c7226a1f3": {
          "model_module": "@jupyter-widgets/base",
          "model_name": "LayoutModel",
          "model_module_version": "1.2.0",
          "state": {
            "_model_module": "@jupyter-widgets/base",
            "_model_module_version": "1.2.0",
            "_model_name": "LayoutModel",
            "_view_count": null,
            "_view_module": "@jupyter-widgets/base",
            "_view_module_version": "1.2.0",
            "_view_name": "LayoutView",
            "align_content": null,
            "align_items": null,
            "align_self": null,
            "border": null,
            "bottom": null,
            "display": null,
            "flex": null,
            "flex_flow": null,
            "grid_area": null,
            "grid_auto_columns": null,
            "grid_auto_flow": null,
            "grid_auto_rows": null,
            "grid_column": null,
            "grid_gap": null,
            "grid_row": null,
            "grid_template_areas": null,
            "grid_template_columns": null,
            "grid_template_rows": null,
            "height": null,
            "justify_content": null,
            "justify_items": null,
            "left": null,
            "margin": null,
            "max_height": null,
            "max_width": null,
            "min_height": null,
            "min_width": null,
            "object_fit": null,
            "object_position": null,
            "order": null,
            "overflow": null,
            "overflow_x": null,
            "overflow_y": null,
            "padding": null,
            "right": null,
            "top": null,
            "visibility": null,
            "width": null
          }
        },
        "62958fab88ed4745a49f31f8010b8771": {
          "model_module": "@jupyter-widgets/controls",
          "model_name": "DescriptionStyleModel",
          "model_module_version": "1.5.0",
          "state": {
            "_model_module": "@jupyter-widgets/controls",
            "_model_module_version": "1.5.0",
            "_model_name": "DescriptionStyleModel",
            "_view_count": null,
            "_view_module": "@jupyter-widgets/base",
            "_view_module_version": "1.2.0",
            "_view_name": "StyleView",
            "description_width": ""
          }
        },
        "fecdb566d94e4be898afbd75eca6d127": {
          "model_module": "@jupyter-widgets/base",
          "model_name": "LayoutModel",
          "model_module_version": "1.2.0",
          "state": {
            "_model_module": "@jupyter-widgets/base",
            "_model_module_version": "1.2.0",
            "_model_name": "LayoutModel",
            "_view_count": null,
            "_view_module": "@jupyter-widgets/base",
            "_view_module_version": "1.2.0",
            "_view_name": "LayoutView",
            "align_content": null,
            "align_items": null,
            "align_self": null,
            "border": null,
            "bottom": null,
            "display": null,
            "flex": null,
            "flex_flow": null,
            "grid_area": null,
            "grid_auto_columns": null,
            "grid_auto_flow": null,
            "grid_auto_rows": null,
            "grid_column": null,
            "grid_gap": null,
            "grid_row": null,
            "grid_template_areas": null,
            "grid_template_columns": null,
            "grid_template_rows": null,
            "height": null,
            "justify_content": null,
            "justify_items": null,
            "left": null,
            "margin": null,
            "max_height": null,
            "max_width": null,
            "min_height": null,
            "min_width": null,
            "object_fit": null,
            "object_position": null,
            "order": null,
            "overflow": null,
            "overflow_x": null,
            "overflow_y": null,
            "padding": null,
            "right": null,
            "top": null,
            "visibility": null,
            "width": null
          }
        },
        "2c5a1102767c405083b7b52d334ec903": {
          "model_module": "@jupyter-widgets/controls",
          "model_name": "ProgressStyleModel",
          "model_module_version": "1.5.0",
          "state": {
            "_model_module": "@jupyter-widgets/controls",
            "_model_module_version": "1.5.0",
            "_model_name": "ProgressStyleModel",
            "_view_count": null,
            "_view_module": "@jupyter-widgets/base",
            "_view_module_version": "1.2.0",
            "_view_name": "StyleView",
            "bar_color": null,
            "description_width": ""
          }
        },
        "4679fbe5a057495fab3099bc154c0e0c": {
          "model_module": "@jupyter-widgets/base",
          "model_name": "LayoutModel",
          "model_module_version": "1.2.0",
          "state": {
            "_model_module": "@jupyter-widgets/base",
            "_model_module_version": "1.2.0",
            "_model_name": "LayoutModel",
            "_view_count": null,
            "_view_module": "@jupyter-widgets/base",
            "_view_module_version": "1.2.0",
            "_view_name": "LayoutView",
            "align_content": null,
            "align_items": null,
            "align_self": null,
            "border": null,
            "bottom": null,
            "display": null,
            "flex": null,
            "flex_flow": null,
            "grid_area": null,
            "grid_auto_columns": null,
            "grid_auto_flow": null,
            "grid_auto_rows": null,
            "grid_column": null,
            "grid_gap": null,
            "grid_row": null,
            "grid_template_areas": null,
            "grid_template_columns": null,
            "grid_template_rows": null,
            "height": null,
            "justify_content": null,
            "justify_items": null,
            "left": null,
            "margin": null,
            "max_height": null,
            "max_width": null,
            "min_height": null,
            "min_width": null,
            "object_fit": null,
            "object_position": null,
            "order": null,
            "overflow": null,
            "overflow_x": null,
            "overflow_y": null,
            "padding": null,
            "right": null,
            "top": null,
            "visibility": null,
            "width": null
          }
        },
        "28841dfdacfb443b819c267c412257b0": {
          "model_module": "@jupyter-widgets/controls",
          "model_name": "DescriptionStyleModel",
          "model_module_version": "1.5.0",
          "state": {
            "_model_module": "@jupyter-widgets/controls",
            "_model_module_version": "1.5.0",
            "_model_name": "DescriptionStyleModel",
            "_view_count": null,
            "_view_module": "@jupyter-widgets/base",
            "_view_module_version": "1.2.0",
            "_view_name": "StyleView",
            "description_width": ""
          }
        },
        "4cb9cd19b9d74b2f9bcfd2e4c8952ece": {
          "model_module": "@jupyter-widgets/controls",
          "model_name": "HBoxModel",
          "model_module_version": "1.5.0",
          "state": {
            "_dom_classes": [],
            "_model_module": "@jupyter-widgets/controls",
            "_model_module_version": "1.5.0",
            "_model_name": "HBoxModel",
            "_view_count": null,
            "_view_module": "@jupyter-widgets/controls",
            "_view_module_version": "1.5.0",
            "_view_name": "HBoxView",
            "box_style": "",
            "children": [
              "IPY_MODEL_549b867070bf492dbae92b37132e170d",
              "IPY_MODEL_0a43ec45c8574734bb976cabf760a380",
              "IPY_MODEL_d23d94cc9247424eb72cbc36bab78140"
            ],
            "layout": "IPY_MODEL_17f667ce5cb54c98997001fcdd6c0b6b"
          }
        },
        "549b867070bf492dbae92b37132e170d": {
          "model_module": "@jupyter-widgets/controls",
          "model_name": "HTMLModel",
          "model_module_version": "1.5.0",
          "state": {
            "_dom_classes": [],
            "_model_module": "@jupyter-widgets/controls",
            "_model_module_version": "1.5.0",
            "_model_name": "HTMLModel",
            "_view_count": null,
            "_view_module": "@jupyter-widgets/controls",
            "_view_module_version": "1.5.0",
            "_view_name": "HTMLView",
            "description": "",
            "description_tooltip": null,
            "layout": "IPY_MODEL_f81ade64aa574222834e965a2336356d",
            "placeholder": "​",
            "style": "IPY_MODEL_d6358e402c9e47c2b467c34a38af689e",
            "value": "Downloading data: "
          }
        },
        "0a43ec45c8574734bb976cabf760a380": {
          "model_module": "@jupyter-widgets/controls",
          "model_name": "FloatProgressModel",
          "model_module_version": "1.5.0",
          "state": {
            "_dom_classes": [],
            "_model_module": "@jupyter-widgets/controls",
            "_model_module_version": "1.5.0",
            "_model_name": "FloatProgressModel",
            "_view_count": null,
            "_view_module": "@jupyter-widgets/controls",
            "_view_module_version": "1.5.0",
            "_view_name": "ProgressView",
            "bar_style": "success",
            "description": "",
            "description_tooltip": null,
            "layout": "IPY_MODEL_c838484f3840495c81b660f7893ec512",
            "max": 751209,
            "min": 0,
            "orientation": "horizontal",
            "style": "IPY_MODEL_bb86f1c58e6f47ab906cab5c5f78ed3b",
            "value": 751209
          }
        },
        "d23d94cc9247424eb72cbc36bab78140": {
          "model_module": "@jupyter-widgets/controls",
          "model_name": "HTMLModel",
          "model_module_version": "1.5.0",
          "state": {
            "_dom_classes": [],
            "_model_module": "@jupyter-widgets/controls",
            "_model_module_version": "1.5.0",
            "_model_name": "HTMLModel",
            "_view_count": null,
            "_view_module": "@jupyter-widgets/controls",
            "_view_module_version": "1.5.0",
            "_view_name": "HTMLView",
            "description": "",
            "description_tooltip": null,
            "layout": "IPY_MODEL_f4dd77a77cdc42468353ca8982870b02",
            "placeholder": "​",
            "style": "IPY_MODEL_5c27b82a35bf4be2911ffdb490f80297",
            "value": " 1.86M/? [00:00&lt;00:00, 22.5MB/s]"
          }
        },
        "17f667ce5cb54c98997001fcdd6c0b6b": {
          "model_module": "@jupyter-widgets/base",
          "model_name": "LayoutModel",
          "model_module_version": "1.2.0",
          "state": {
            "_model_module": "@jupyter-widgets/base",
            "_model_module_version": "1.2.0",
            "_model_name": "LayoutModel",
            "_view_count": null,
            "_view_module": "@jupyter-widgets/base",
            "_view_module_version": "1.2.0",
            "_view_name": "LayoutView",
            "align_content": null,
            "align_items": null,
            "align_self": null,
            "border": null,
            "bottom": null,
            "display": null,
            "flex": null,
            "flex_flow": null,
            "grid_area": null,
            "grid_auto_columns": null,
            "grid_auto_flow": null,
            "grid_auto_rows": null,
            "grid_column": null,
            "grid_gap": null,
            "grid_row": null,
            "grid_template_areas": null,
            "grid_template_columns": null,
            "grid_template_rows": null,
            "height": null,
            "justify_content": null,
            "justify_items": null,
            "left": null,
            "margin": null,
            "max_height": null,
            "max_width": null,
            "min_height": null,
            "min_width": null,
            "object_fit": null,
            "object_position": null,
            "order": null,
            "overflow": null,
            "overflow_x": null,
            "overflow_y": null,
            "padding": null,
            "right": null,
            "top": null,
            "visibility": null,
            "width": null
          }
        },
        "f81ade64aa574222834e965a2336356d": {
          "model_module": "@jupyter-widgets/base",
          "model_name": "LayoutModel",
          "model_module_version": "1.2.0",
          "state": {
            "_model_module": "@jupyter-widgets/base",
            "_model_module_version": "1.2.0",
            "_model_name": "LayoutModel",
            "_view_count": null,
            "_view_module": "@jupyter-widgets/base",
            "_view_module_version": "1.2.0",
            "_view_name": "LayoutView",
            "align_content": null,
            "align_items": null,
            "align_self": null,
            "border": null,
            "bottom": null,
            "display": null,
            "flex": null,
            "flex_flow": null,
            "grid_area": null,
            "grid_auto_columns": null,
            "grid_auto_flow": null,
            "grid_auto_rows": null,
            "grid_column": null,
            "grid_gap": null,
            "grid_row": null,
            "grid_template_areas": null,
            "grid_template_columns": null,
            "grid_template_rows": null,
            "height": null,
            "justify_content": null,
            "justify_items": null,
            "left": null,
            "margin": null,
            "max_height": null,
            "max_width": null,
            "min_height": null,
            "min_width": null,
            "object_fit": null,
            "object_position": null,
            "order": null,
            "overflow": null,
            "overflow_x": null,
            "overflow_y": null,
            "padding": null,
            "right": null,
            "top": null,
            "visibility": null,
            "width": null
          }
        },
        "d6358e402c9e47c2b467c34a38af689e": {
          "model_module": "@jupyter-widgets/controls",
          "model_name": "DescriptionStyleModel",
          "model_module_version": "1.5.0",
          "state": {
            "_model_module": "@jupyter-widgets/controls",
            "_model_module_version": "1.5.0",
            "_model_name": "DescriptionStyleModel",
            "_view_count": null,
            "_view_module": "@jupyter-widgets/base",
            "_view_module_version": "1.2.0",
            "_view_name": "StyleView",
            "description_width": ""
          }
        },
        "c838484f3840495c81b660f7893ec512": {
          "model_module": "@jupyter-widgets/base",
          "model_name": "LayoutModel",
          "model_module_version": "1.2.0",
          "state": {
            "_model_module": "@jupyter-widgets/base",
            "_model_module_version": "1.2.0",
            "_model_name": "LayoutModel",
            "_view_count": null,
            "_view_module": "@jupyter-widgets/base",
            "_view_module_version": "1.2.0",
            "_view_name": "LayoutView",
            "align_content": null,
            "align_items": null,
            "align_self": null,
            "border": null,
            "bottom": null,
            "display": null,
            "flex": null,
            "flex_flow": null,
            "grid_area": null,
            "grid_auto_columns": null,
            "grid_auto_flow": null,
            "grid_auto_rows": null,
            "grid_column": null,
            "grid_gap": null,
            "grid_row": null,
            "grid_template_areas": null,
            "grid_template_columns": null,
            "grid_template_rows": null,
            "height": null,
            "justify_content": null,
            "justify_items": null,
            "left": null,
            "margin": null,
            "max_height": null,
            "max_width": null,
            "min_height": null,
            "min_width": null,
            "object_fit": null,
            "object_position": null,
            "order": null,
            "overflow": null,
            "overflow_x": null,
            "overflow_y": null,
            "padding": null,
            "right": null,
            "top": null,
            "visibility": null,
            "width": null
          }
        },
        "bb86f1c58e6f47ab906cab5c5f78ed3b": {
          "model_module": "@jupyter-widgets/controls",
          "model_name": "ProgressStyleModel",
          "model_module_version": "1.5.0",
          "state": {
            "_model_module": "@jupyter-widgets/controls",
            "_model_module_version": "1.5.0",
            "_model_name": "ProgressStyleModel",
            "_view_count": null,
            "_view_module": "@jupyter-widgets/base",
            "_view_module_version": "1.2.0",
            "_view_name": "StyleView",
            "bar_color": null,
            "description_width": ""
          }
        },
        "f4dd77a77cdc42468353ca8982870b02": {
          "model_module": "@jupyter-widgets/base",
          "model_name": "LayoutModel",
          "model_module_version": "1.2.0",
          "state": {
            "_model_module": "@jupyter-widgets/base",
            "_model_module_version": "1.2.0",
            "_model_name": "LayoutModel",
            "_view_count": null,
            "_view_module": "@jupyter-widgets/base",
            "_view_module_version": "1.2.0",
            "_view_name": "LayoutView",
            "align_content": null,
            "align_items": null,
            "align_self": null,
            "border": null,
            "bottom": null,
            "display": null,
            "flex": null,
            "flex_flow": null,
            "grid_area": null,
            "grid_auto_columns": null,
            "grid_auto_flow": null,
            "grid_auto_rows": null,
            "grid_column": null,
            "grid_gap": null,
            "grid_row": null,
            "grid_template_areas": null,
            "grid_template_columns": null,
            "grid_template_rows": null,
            "height": null,
            "justify_content": null,
            "justify_items": null,
            "left": null,
            "margin": null,
            "max_height": null,
            "max_width": null,
            "min_height": null,
            "min_width": null,
            "object_fit": null,
            "object_position": null,
            "order": null,
            "overflow": null,
            "overflow_x": null,
            "overflow_y": null,
            "padding": null,
            "right": null,
            "top": null,
            "visibility": null,
            "width": null
          }
        },
        "5c27b82a35bf4be2911ffdb490f80297": {
          "model_module": "@jupyter-widgets/controls",
          "model_name": "DescriptionStyleModel",
          "model_module_version": "1.5.0",
          "state": {
            "_model_module": "@jupyter-widgets/controls",
            "_model_module_version": "1.5.0",
            "_model_name": "DescriptionStyleModel",
            "_view_count": null,
            "_view_module": "@jupyter-widgets/base",
            "_view_module_version": "1.2.0",
            "_view_name": "StyleView",
            "description_width": ""
          }
        },
        "2d68d3d9fe224388adb54d643067077d": {
          "model_module": "@jupyter-widgets/controls",
          "model_name": "HBoxModel",
          "model_module_version": "1.5.0",
          "state": {
            "_dom_classes": [],
            "_model_module": "@jupyter-widgets/controls",
            "_model_module_version": "1.5.0",
            "_model_name": "HBoxModel",
            "_view_count": null,
            "_view_module": "@jupyter-widgets/controls",
            "_view_module_version": "1.5.0",
            "_view_name": "HBoxView",
            "box_style": "",
            "children": [
              "IPY_MODEL_77e6da88951e42489944f6724d15f91b",
              "IPY_MODEL_9b21b7f07623467abb5995972e52571a",
              "IPY_MODEL_93d464fc81c1456a8d2473c6ae61eb9f"
            ],
            "layout": "IPY_MODEL_f2486618b01e4d55a14b911b85d958a7"
          }
        },
        "77e6da88951e42489944f6724d15f91b": {
          "model_module": "@jupyter-widgets/controls",
          "model_name": "HTMLModel",
          "model_module_version": "1.5.0",
          "state": {
            "_dom_classes": [],
            "_model_module": "@jupyter-widgets/controls",
            "_model_module_version": "1.5.0",
            "_model_name": "HTMLModel",
            "_view_count": null,
            "_view_module": "@jupyter-widgets/controls",
            "_view_module_version": "1.5.0",
            "_view_name": "HTMLView",
            "description": "",
            "description_tooltip": null,
            "layout": "IPY_MODEL_c3b463b19dce42ac8024a52936800557",
            "placeholder": "​",
            "style": "IPY_MODEL_46e0cb69b6cd413d97878992a5c154fc",
            "value": "Generating train split:  98%"
          }
        },
        "9b21b7f07623467abb5995972e52571a": {
          "model_module": "@jupyter-widgets/controls",
          "model_name": "FloatProgressModel",
          "model_module_version": "1.5.0",
          "state": {
            "_dom_classes": [],
            "_model_module": "@jupyter-widgets/controls",
            "_model_module_version": "1.5.0",
            "_model_name": "FloatProgressModel",
            "_view_count": null,
            "_view_module": "@jupyter-widgets/controls",
            "_view_module_version": "1.5.0",
            "_view_name": "ProgressView",
            "bar_style": "",
            "description": "",
            "description_tooltip": null,
            "layout": "IPY_MODEL_06075e1972044f369d8ddf6b382c214b",
            "max": 120000,
            "min": 0,
            "orientation": "horizontal",
            "style": "IPY_MODEL_2e583d7c8546421ea8cf06cb1239cbca",
            "value": 120000
          }
        },
        "93d464fc81c1456a8d2473c6ae61eb9f": {
          "model_module": "@jupyter-widgets/controls",
          "model_name": "HTMLModel",
          "model_module_version": "1.5.0",
          "state": {
            "_dom_classes": [],
            "_model_module": "@jupyter-widgets/controls",
            "_model_module_version": "1.5.0",
            "_model_name": "HTMLModel",
            "_view_count": null,
            "_view_module": "@jupyter-widgets/controls",
            "_view_module_version": "1.5.0",
            "_view_name": "HTMLView",
            "description": "",
            "description_tooltip": null,
            "layout": "IPY_MODEL_78e6639590c84d369f8897c7ee16504f",
            "placeholder": "​",
            "style": "IPY_MODEL_9b43443c13a34ef39b7745d671aee554",
            "value": " 117501/120000 [00:04&lt;00:00, 37006.93 examples/s]"
          }
        },
        "f2486618b01e4d55a14b911b85d958a7": {
          "model_module": "@jupyter-widgets/base",
          "model_name": "LayoutModel",
          "model_module_version": "1.2.0",
          "state": {
            "_model_module": "@jupyter-widgets/base",
            "_model_module_version": "1.2.0",
            "_model_name": "LayoutModel",
            "_view_count": null,
            "_view_module": "@jupyter-widgets/base",
            "_view_module_version": "1.2.0",
            "_view_name": "LayoutView",
            "align_content": null,
            "align_items": null,
            "align_self": null,
            "border": null,
            "bottom": null,
            "display": null,
            "flex": null,
            "flex_flow": null,
            "grid_area": null,
            "grid_auto_columns": null,
            "grid_auto_flow": null,
            "grid_auto_rows": null,
            "grid_column": null,
            "grid_gap": null,
            "grid_row": null,
            "grid_template_areas": null,
            "grid_template_columns": null,
            "grid_template_rows": null,
            "height": null,
            "justify_content": null,
            "justify_items": null,
            "left": null,
            "margin": null,
            "max_height": null,
            "max_width": null,
            "min_height": null,
            "min_width": null,
            "object_fit": null,
            "object_position": null,
            "order": null,
            "overflow": null,
            "overflow_x": null,
            "overflow_y": null,
            "padding": null,
            "right": null,
            "top": null,
            "visibility": "hidden",
            "width": null
          }
        },
        "c3b463b19dce42ac8024a52936800557": {
          "model_module": "@jupyter-widgets/base",
          "model_name": "LayoutModel",
          "model_module_version": "1.2.0",
          "state": {
            "_model_module": "@jupyter-widgets/base",
            "_model_module_version": "1.2.0",
            "_model_name": "LayoutModel",
            "_view_count": null,
            "_view_module": "@jupyter-widgets/base",
            "_view_module_version": "1.2.0",
            "_view_name": "LayoutView",
            "align_content": null,
            "align_items": null,
            "align_self": null,
            "border": null,
            "bottom": null,
            "display": null,
            "flex": null,
            "flex_flow": null,
            "grid_area": null,
            "grid_auto_columns": null,
            "grid_auto_flow": null,
            "grid_auto_rows": null,
            "grid_column": null,
            "grid_gap": null,
            "grid_row": null,
            "grid_template_areas": null,
            "grid_template_columns": null,
            "grid_template_rows": null,
            "height": null,
            "justify_content": null,
            "justify_items": null,
            "left": null,
            "margin": null,
            "max_height": null,
            "max_width": null,
            "min_height": null,
            "min_width": null,
            "object_fit": null,
            "object_position": null,
            "order": null,
            "overflow": null,
            "overflow_x": null,
            "overflow_y": null,
            "padding": null,
            "right": null,
            "top": null,
            "visibility": null,
            "width": null
          }
        },
        "46e0cb69b6cd413d97878992a5c154fc": {
          "model_module": "@jupyter-widgets/controls",
          "model_name": "DescriptionStyleModel",
          "model_module_version": "1.5.0",
          "state": {
            "_model_module": "@jupyter-widgets/controls",
            "_model_module_version": "1.5.0",
            "_model_name": "DescriptionStyleModel",
            "_view_count": null,
            "_view_module": "@jupyter-widgets/base",
            "_view_module_version": "1.2.0",
            "_view_name": "StyleView",
            "description_width": ""
          }
        },
        "06075e1972044f369d8ddf6b382c214b": {
          "model_module": "@jupyter-widgets/base",
          "model_name": "LayoutModel",
          "model_module_version": "1.2.0",
          "state": {
            "_model_module": "@jupyter-widgets/base",
            "_model_module_version": "1.2.0",
            "_model_name": "LayoutModel",
            "_view_count": null,
            "_view_module": "@jupyter-widgets/base",
            "_view_module_version": "1.2.0",
            "_view_name": "LayoutView",
            "align_content": null,
            "align_items": null,
            "align_self": null,
            "border": null,
            "bottom": null,
            "display": null,
            "flex": null,
            "flex_flow": null,
            "grid_area": null,
            "grid_auto_columns": null,
            "grid_auto_flow": null,
            "grid_auto_rows": null,
            "grid_column": null,
            "grid_gap": null,
            "grid_row": null,
            "grid_template_areas": null,
            "grid_template_columns": null,
            "grid_template_rows": null,
            "height": null,
            "justify_content": null,
            "justify_items": null,
            "left": null,
            "margin": null,
            "max_height": null,
            "max_width": null,
            "min_height": null,
            "min_width": null,
            "object_fit": null,
            "object_position": null,
            "order": null,
            "overflow": null,
            "overflow_x": null,
            "overflow_y": null,
            "padding": null,
            "right": null,
            "top": null,
            "visibility": null,
            "width": null
          }
        },
        "2e583d7c8546421ea8cf06cb1239cbca": {
          "model_module": "@jupyter-widgets/controls",
          "model_name": "ProgressStyleModel",
          "model_module_version": "1.5.0",
          "state": {
            "_model_module": "@jupyter-widgets/controls",
            "_model_module_version": "1.5.0",
            "_model_name": "ProgressStyleModel",
            "_view_count": null,
            "_view_module": "@jupyter-widgets/base",
            "_view_module_version": "1.2.0",
            "_view_name": "StyleView",
            "bar_color": null,
            "description_width": ""
          }
        },
        "78e6639590c84d369f8897c7ee16504f": {
          "model_module": "@jupyter-widgets/base",
          "model_name": "LayoutModel",
          "model_module_version": "1.2.0",
          "state": {
            "_model_module": "@jupyter-widgets/base",
            "_model_module_version": "1.2.0",
            "_model_name": "LayoutModel",
            "_view_count": null,
            "_view_module": "@jupyter-widgets/base",
            "_view_module_version": "1.2.0",
            "_view_name": "LayoutView",
            "align_content": null,
            "align_items": null,
            "align_self": null,
            "border": null,
            "bottom": null,
            "display": null,
            "flex": null,
            "flex_flow": null,
            "grid_area": null,
            "grid_auto_columns": null,
            "grid_auto_flow": null,
            "grid_auto_rows": null,
            "grid_column": null,
            "grid_gap": null,
            "grid_row": null,
            "grid_template_areas": null,
            "grid_template_columns": null,
            "grid_template_rows": null,
            "height": null,
            "justify_content": null,
            "justify_items": null,
            "left": null,
            "margin": null,
            "max_height": null,
            "max_width": null,
            "min_height": null,
            "min_width": null,
            "object_fit": null,
            "object_position": null,
            "order": null,
            "overflow": null,
            "overflow_x": null,
            "overflow_y": null,
            "padding": null,
            "right": null,
            "top": null,
            "visibility": null,
            "width": null
          }
        },
        "9b43443c13a34ef39b7745d671aee554": {
          "model_module": "@jupyter-widgets/controls",
          "model_name": "DescriptionStyleModel",
          "model_module_version": "1.5.0",
          "state": {
            "_model_module": "@jupyter-widgets/controls",
            "_model_module_version": "1.5.0",
            "_model_name": "DescriptionStyleModel",
            "_view_count": null,
            "_view_module": "@jupyter-widgets/base",
            "_view_module_version": "1.2.0",
            "_view_name": "StyleView",
            "description_width": ""
          }
        },
        "94af9a1b8bd14f25b95977d6b54a4987": {
          "model_module": "@jupyter-widgets/controls",
          "model_name": "HBoxModel",
          "model_module_version": "1.5.0",
          "state": {
            "_dom_classes": [],
            "_model_module": "@jupyter-widgets/controls",
            "_model_module_version": "1.5.0",
            "_model_name": "HBoxModel",
            "_view_count": null,
            "_view_module": "@jupyter-widgets/controls",
            "_view_module_version": "1.5.0",
            "_view_name": "HBoxView",
            "box_style": "",
            "children": [
              "IPY_MODEL_2e09dd5163514d07886218da8168f820",
              "IPY_MODEL_cf0aeb915ef14bd5ad398241a85e81f8",
              "IPY_MODEL_fab4affe1b5c4882bcef7c374e10428a"
            ],
            "layout": "IPY_MODEL_ebe2e5ec38424004b4e6840aacd4fc19"
          }
        },
        "2e09dd5163514d07886218da8168f820": {
          "model_module": "@jupyter-widgets/controls",
          "model_name": "HTMLModel",
          "model_module_version": "1.5.0",
          "state": {
            "_dom_classes": [],
            "_model_module": "@jupyter-widgets/controls",
            "_model_module_version": "1.5.0",
            "_model_name": "HTMLModel",
            "_view_count": null,
            "_view_module": "@jupyter-widgets/controls",
            "_view_module_version": "1.5.0",
            "_view_name": "HTMLView",
            "description": "",
            "description_tooltip": null,
            "layout": "IPY_MODEL_c76869604e7040dd8f52f8959683b5ae",
            "placeholder": "​",
            "style": "IPY_MODEL_76d0137b77a64318959014c562186229",
            "value": "Generating test split:  89%"
          }
        },
        "cf0aeb915ef14bd5ad398241a85e81f8": {
          "model_module": "@jupyter-widgets/controls",
          "model_name": "FloatProgressModel",
          "model_module_version": "1.5.0",
          "state": {
            "_dom_classes": [],
            "_model_module": "@jupyter-widgets/controls",
            "_model_module_version": "1.5.0",
            "_model_name": "FloatProgressModel",
            "_view_count": null,
            "_view_module": "@jupyter-widgets/controls",
            "_view_module_version": "1.5.0",
            "_view_name": "ProgressView",
            "bar_style": "",
            "description": "",
            "description_tooltip": null,
            "layout": "IPY_MODEL_1945233ebec7402bac18abb4ca3b8b93",
            "max": 7600,
            "min": 0,
            "orientation": "horizontal",
            "style": "IPY_MODEL_6b9a95f5bdb44500a566cbb1727cd95a",
            "value": 7600
          }
        },
        "fab4affe1b5c4882bcef7c374e10428a": {
          "model_module": "@jupyter-widgets/controls",
          "model_name": "HTMLModel",
          "model_module_version": "1.5.0",
          "state": {
            "_dom_classes": [],
            "_model_module": "@jupyter-widgets/controls",
            "_model_module_version": "1.5.0",
            "_model_name": "HTMLModel",
            "_view_count": null,
            "_view_module": "@jupyter-widgets/controls",
            "_view_module_version": "1.5.0",
            "_view_name": "HTMLView",
            "description": "",
            "description_tooltip": null,
            "layout": "IPY_MODEL_689ea0190e4047b3af37b4d80ef437b5",
            "placeholder": "​",
            "style": "IPY_MODEL_ebbbf652bc0448f998e7fb3355bfe9b0",
            "value": " 6751/7600 [00:00&lt;00:00, 34876.46 examples/s]"
          }
        },
        "ebe2e5ec38424004b4e6840aacd4fc19": {
          "model_module": "@jupyter-widgets/base",
          "model_name": "LayoutModel",
          "model_module_version": "1.2.0",
          "state": {
            "_model_module": "@jupyter-widgets/base",
            "_model_module_version": "1.2.0",
            "_model_name": "LayoutModel",
            "_view_count": null,
            "_view_module": "@jupyter-widgets/base",
            "_view_module_version": "1.2.0",
            "_view_name": "LayoutView",
            "align_content": null,
            "align_items": null,
            "align_self": null,
            "border": null,
            "bottom": null,
            "display": null,
            "flex": null,
            "flex_flow": null,
            "grid_area": null,
            "grid_auto_columns": null,
            "grid_auto_flow": null,
            "grid_auto_rows": null,
            "grid_column": null,
            "grid_gap": null,
            "grid_row": null,
            "grid_template_areas": null,
            "grid_template_columns": null,
            "grid_template_rows": null,
            "height": null,
            "justify_content": null,
            "justify_items": null,
            "left": null,
            "margin": null,
            "max_height": null,
            "max_width": null,
            "min_height": null,
            "min_width": null,
            "object_fit": null,
            "object_position": null,
            "order": null,
            "overflow": null,
            "overflow_x": null,
            "overflow_y": null,
            "padding": null,
            "right": null,
            "top": null,
            "visibility": "hidden",
            "width": null
          }
        },
        "c76869604e7040dd8f52f8959683b5ae": {
          "model_module": "@jupyter-widgets/base",
          "model_name": "LayoutModel",
          "model_module_version": "1.2.0",
          "state": {
            "_model_module": "@jupyter-widgets/base",
            "_model_module_version": "1.2.0",
            "_model_name": "LayoutModel",
            "_view_count": null,
            "_view_module": "@jupyter-widgets/base",
            "_view_module_version": "1.2.0",
            "_view_name": "LayoutView",
            "align_content": null,
            "align_items": null,
            "align_self": null,
            "border": null,
            "bottom": null,
            "display": null,
            "flex": null,
            "flex_flow": null,
            "grid_area": null,
            "grid_auto_columns": null,
            "grid_auto_flow": null,
            "grid_auto_rows": null,
            "grid_column": null,
            "grid_gap": null,
            "grid_row": null,
            "grid_template_areas": null,
            "grid_template_columns": null,
            "grid_template_rows": null,
            "height": null,
            "justify_content": null,
            "justify_items": null,
            "left": null,
            "margin": null,
            "max_height": null,
            "max_width": null,
            "min_height": null,
            "min_width": null,
            "object_fit": null,
            "object_position": null,
            "order": null,
            "overflow": null,
            "overflow_x": null,
            "overflow_y": null,
            "padding": null,
            "right": null,
            "top": null,
            "visibility": null,
            "width": null
          }
        },
        "76d0137b77a64318959014c562186229": {
          "model_module": "@jupyter-widgets/controls",
          "model_name": "DescriptionStyleModel",
          "model_module_version": "1.5.0",
          "state": {
            "_model_module": "@jupyter-widgets/controls",
            "_model_module_version": "1.5.0",
            "_model_name": "DescriptionStyleModel",
            "_view_count": null,
            "_view_module": "@jupyter-widgets/base",
            "_view_module_version": "1.2.0",
            "_view_name": "StyleView",
            "description_width": ""
          }
        },
        "1945233ebec7402bac18abb4ca3b8b93": {
          "model_module": "@jupyter-widgets/base",
          "model_name": "LayoutModel",
          "model_module_version": "1.2.0",
          "state": {
            "_model_module": "@jupyter-widgets/base",
            "_model_module_version": "1.2.0",
            "_model_name": "LayoutModel",
            "_view_count": null,
            "_view_module": "@jupyter-widgets/base",
            "_view_module_version": "1.2.0",
            "_view_name": "LayoutView",
            "align_content": null,
            "align_items": null,
            "align_self": null,
            "border": null,
            "bottom": null,
            "display": null,
            "flex": null,
            "flex_flow": null,
            "grid_area": null,
            "grid_auto_columns": null,
            "grid_auto_flow": null,
            "grid_auto_rows": null,
            "grid_column": null,
            "grid_gap": null,
            "grid_row": null,
            "grid_template_areas": null,
            "grid_template_columns": null,
            "grid_template_rows": null,
            "height": null,
            "justify_content": null,
            "justify_items": null,
            "left": null,
            "margin": null,
            "max_height": null,
            "max_width": null,
            "min_height": null,
            "min_width": null,
            "object_fit": null,
            "object_position": null,
            "order": null,
            "overflow": null,
            "overflow_x": null,
            "overflow_y": null,
            "padding": null,
            "right": null,
            "top": null,
            "visibility": null,
            "width": null
          }
        },
        "6b9a95f5bdb44500a566cbb1727cd95a": {
          "model_module": "@jupyter-widgets/controls",
          "model_name": "ProgressStyleModel",
          "model_module_version": "1.5.0",
          "state": {
            "_model_module": "@jupyter-widgets/controls",
            "_model_module_version": "1.5.0",
            "_model_name": "ProgressStyleModel",
            "_view_count": null,
            "_view_module": "@jupyter-widgets/base",
            "_view_module_version": "1.2.0",
            "_view_name": "StyleView",
            "bar_color": null,
            "description_width": ""
          }
        },
        "689ea0190e4047b3af37b4d80ef437b5": {
          "model_module": "@jupyter-widgets/base",
          "model_name": "LayoutModel",
          "model_module_version": "1.2.0",
          "state": {
            "_model_module": "@jupyter-widgets/base",
            "_model_module_version": "1.2.0",
            "_model_name": "LayoutModel",
            "_view_count": null,
            "_view_module": "@jupyter-widgets/base",
            "_view_module_version": "1.2.0",
            "_view_name": "LayoutView",
            "align_content": null,
            "align_items": null,
            "align_self": null,
            "border": null,
            "bottom": null,
            "display": null,
            "flex": null,
            "flex_flow": null,
            "grid_area": null,
            "grid_auto_columns": null,
            "grid_auto_flow": null,
            "grid_auto_rows": null,
            "grid_column": null,
            "grid_gap": null,
            "grid_row": null,
            "grid_template_areas": null,
            "grid_template_columns": null,
            "grid_template_rows": null,
            "height": null,
            "justify_content": null,
            "justify_items": null,
            "left": null,
            "margin": null,
            "max_height": null,
            "max_width": null,
            "min_height": null,
            "min_width": null,
            "object_fit": null,
            "object_position": null,
            "order": null,
            "overflow": null,
            "overflow_x": null,
            "overflow_y": null,
            "padding": null,
            "right": null,
            "top": null,
            "visibility": null,
            "width": null
          }
        },
        "ebbbf652bc0448f998e7fb3355bfe9b0": {
          "model_module": "@jupyter-widgets/controls",
          "model_name": "DescriptionStyleModel",
          "model_module_version": "1.5.0",
          "state": {
            "_model_module": "@jupyter-widgets/controls",
            "_model_module_version": "1.5.0",
            "_model_name": "DescriptionStyleModel",
            "_view_count": null,
            "_view_module": "@jupyter-widgets/base",
            "_view_module_version": "1.2.0",
            "_view_name": "StyleView",
            "description_width": ""
          }
        },
        "c2c1eb711ff447858da0bbfd665947f9": {
          "model_module": "@jupyter-widgets/controls",
          "model_name": "HBoxModel",
          "model_module_version": "1.5.0",
          "state": {
            "_dom_classes": [],
            "_model_module": "@jupyter-widgets/controls",
            "_model_module_version": "1.5.0",
            "_model_name": "HBoxModel",
            "_view_count": null,
            "_view_module": "@jupyter-widgets/controls",
            "_view_module_version": "1.5.0",
            "_view_name": "HBoxView",
            "box_style": "",
            "children": [
              "IPY_MODEL_b9af4fce591a43329fab0402b285bfde",
              "IPY_MODEL_c6892be8f53b4566bf8ce574750b3673",
              "IPY_MODEL_add0ee1653eb4d65b400ee88109615d1"
            ],
            "layout": "IPY_MODEL_a55c62e28f8449e0858c939723d3aaeb"
          }
        },
        "b9af4fce591a43329fab0402b285bfde": {
          "model_module": "@jupyter-widgets/controls",
          "model_name": "HTMLModel",
          "model_module_version": "1.5.0",
          "state": {
            "_dom_classes": [],
            "_model_module": "@jupyter-widgets/controls",
            "_model_module_version": "1.5.0",
            "_model_name": "HTMLModel",
            "_view_count": null,
            "_view_module": "@jupyter-widgets/controls",
            "_view_module_version": "1.5.0",
            "_view_name": "HTMLView",
            "description": "",
            "description_tooltip": null,
            "layout": "IPY_MODEL_23a1df2e23aa42f48d8bb216fe5fdb34",
            "placeholder": "​",
            "style": "IPY_MODEL_f28a919a8de24091a5699e374e64f02e",
            "value": "100%"
          }
        },
        "c6892be8f53b4566bf8ce574750b3673": {
          "model_module": "@jupyter-widgets/controls",
          "model_name": "FloatProgressModel",
          "model_module_version": "1.5.0",
          "state": {
            "_dom_classes": [],
            "_model_module": "@jupyter-widgets/controls",
            "_model_module_version": "1.5.0",
            "_model_name": "FloatProgressModel",
            "_view_count": null,
            "_view_module": "@jupyter-widgets/controls",
            "_view_module_version": "1.5.0",
            "_view_name": "ProgressView",
            "bar_style": "success",
            "description": "",
            "description_tooltip": null,
            "layout": "IPY_MODEL_8f9fb7bda2954685a69be47edfc9712b",
            "max": 2,
            "min": 0,
            "orientation": "horizontal",
            "style": "IPY_MODEL_0bea24cda39c4a328f3333e3552424d2",
            "value": 2
          }
        },
        "add0ee1653eb4d65b400ee88109615d1": {
          "model_module": "@jupyter-widgets/controls",
          "model_name": "HTMLModel",
          "model_module_version": "1.5.0",
          "state": {
            "_dom_classes": [],
            "_model_module": "@jupyter-widgets/controls",
            "_model_module_version": "1.5.0",
            "_model_name": "HTMLModel",
            "_view_count": null,
            "_view_module": "@jupyter-widgets/controls",
            "_view_module_version": "1.5.0",
            "_view_name": "HTMLView",
            "description": "",
            "description_tooltip": null,
            "layout": "IPY_MODEL_61e4c4950d59428c963efaaac90c22f5",
            "placeholder": "​",
            "style": "IPY_MODEL_af0c0b93650340bb9b33075c7075303a",
            "value": " 2/2 [00:00&lt;00:00, 77.06it/s]"
          }
        },
        "a55c62e28f8449e0858c939723d3aaeb": {
          "model_module": "@jupyter-widgets/base",
          "model_name": "LayoutModel",
          "model_module_version": "1.2.0",
          "state": {
            "_model_module": "@jupyter-widgets/base",
            "_model_module_version": "1.2.0",
            "_model_name": "LayoutModel",
            "_view_count": null,
            "_view_module": "@jupyter-widgets/base",
            "_view_module_version": "1.2.0",
            "_view_name": "LayoutView",
            "align_content": null,
            "align_items": null,
            "align_self": null,
            "border": null,
            "bottom": null,
            "display": null,
            "flex": null,
            "flex_flow": null,
            "grid_area": null,
            "grid_auto_columns": null,
            "grid_auto_flow": null,
            "grid_auto_rows": null,
            "grid_column": null,
            "grid_gap": null,
            "grid_row": null,
            "grid_template_areas": null,
            "grid_template_columns": null,
            "grid_template_rows": null,
            "height": null,
            "justify_content": null,
            "justify_items": null,
            "left": null,
            "margin": null,
            "max_height": null,
            "max_width": null,
            "min_height": null,
            "min_width": null,
            "object_fit": null,
            "object_position": null,
            "order": null,
            "overflow": null,
            "overflow_x": null,
            "overflow_y": null,
            "padding": null,
            "right": null,
            "top": null,
            "visibility": null,
            "width": null
          }
        },
        "23a1df2e23aa42f48d8bb216fe5fdb34": {
          "model_module": "@jupyter-widgets/base",
          "model_name": "LayoutModel",
          "model_module_version": "1.2.0",
          "state": {
            "_model_module": "@jupyter-widgets/base",
            "_model_module_version": "1.2.0",
            "_model_name": "LayoutModel",
            "_view_count": null,
            "_view_module": "@jupyter-widgets/base",
            "_view_module_version": "1.2.0",
            "_view_name": "LayoutView",
            "align_content": null,
            "align_items": null,
            "align_self": null,
            "border": null,
            "bottom": null,
            "display": null,
            "flex": null,
            "flex_flow": null,
            "grid_area": null,
            "grid_auto_columns": null,
            "grid_auto_flow": null,
            "grid_auto_rows": null,
            "grid_column": null,
            "grid_gap": null,
            "grid_row": null,
            "grid_template_areas": null,
            "grid_template_columns": null,
            "grid_template_rows": null,
            "height": null,
            "justify_content": null,
            "justify_items": null,
            "left": null,
            "margin": null,
            "max_height": null,
            "max_width": null,
            "min_height": null,
            "min_width": null,
            "object_fit": null,
            "object_position": null,
            "order": null,
            "overflow": null,
            "overflow_x": null,
            "overflow_y": null,
            "padding": null,
            "right": null,
            "top": null,
            "visibility": null,
            "width": null
          }
        },
        "f28a919a8de24091a5699e374e64f02e": {
          "model_module": "@jupyter-widgets/controls",
          "model_name": "DescriptionStyleModel",
          "model_module_version": "1.5.0",
          "state": {
            "_model_module": "@jupyter-widgets/controls",
            "_model_module_version": "1.5.0",
            "_model_name": "DescriptionStyleModel",
            "_view_count": null,
            "_view_module": "@jupyter-widgets/base",
            "_view_module_version": "1.2.0",
            "_view_name": "StyleView",
            "description_width": ""
          }
        },
        "8f9fb7bda2954685a69be47edfc9712b": {
          "model_module": "@jupyter-widgets/base",
          "model_name": "LayoutModel",
          "model_module_version": "1.2.0",
          "state": {
            "_model_module": "@jupyter-widgets/base",
            "_model_module_version": "1.2.0",
            "_model_name": "LayoutModel",
            "_view_count": null,
            "_view_module": "@jupyter-widgets/base",
            "_view_module_version": "1.2.0",
            "_view_name": "LayoutView",
            "align_content": null,
            "align_items": null,
            "align_self": null,
            "border": null,
            "bottom": null,
            "display": null,
            "flex": null,
            "flex_flow": null,
            "grid_area": null,
            "grid_auto_columns": null,
            "grid_auto_flow": null,
            "grid_auto_rows": null,
            "grid_column": null,
            "grid_gap": null,
            "grid_row": null,
            "grid_template_areas": null,
            "grid_template_columns": null,
            "grid_template_rows": null,
            "height": null,
            "justify_content": null,
            "justify_items": null,
            "left": null,
            "margin": null,
            "max_height": null,
            "max_width": null,
            "min_height": null,
            "min_width": null,
            "object_fit": null,
            "object_position": null,
            "order": null,
            "overflow": null,
            "overflow_x": null,
            "overflow_y": null,
            "padding": null,
            "right": null,
            "top": null,
            "visibility": null,
            "width": null
          }
        },
        "0bea24cda39c4a328f3333e3552424d2": {
          "model_module": "@jupyter-widgets/controls",
          "model_name": "ProgressStyleModel",
          "model_module_version": "1.5.0",
          "state": {
            "_model_module": "@jupyter-widgets/controls",
            "_model_module_version": "1.5.0",
            "_model_name": "ProgressStyleModel",
            "_view_count": null,
            "_view_module": "@jupyter-widgets/base",
            "_view_module_version": "1.2.0",
            "_view_name": "StyleView",
            "bar_color": null,
            "description_width": ""
          }
        },
        "61e4c4950d59428c963efaaac90c22f5": {
          "model_module": "@jupyter-widgets/base",
          "model_name": "LayoutModel",
          "model_module_version": "1.2.0",
          "state": {
            "_model_module": "@jupyter-widgets/base",
            "_model_module_version": "1.2.0",
            "_model_name": "LayoutModel",
            "_view_count": null,
            "_view_module": "@jupyter-widgets/base",
            "_view_module_version": "1.2.0",
            "_view_name": "LayoutView",
            "align_content": null,
            "align_items": null,
            "align_self": null,
            "border": null,
            "bottom": null,
            "display": null,
            "flex": null,
            "flex_flow": null,
            "grid_area": null,
            "grid_auto_columns": null,
            "grid_auto_flow": null,
            "grid_auto_rows": null,
            "grid_column": null,
            "grid_gap": null,
            "grid_row": null,
            "grid_template_areas": null,
            "grid_template_columns": null,
            "grid_template_rows": null,
            "height": null,
            "justify_content": null,
            "justify_items": null,
            "left": null,
            "margin": null,
            "max_height": null,
            "max_width": null,
            "min_height": null,
            "min_width": null,
            "object_fit": null,
            "object_position": null,
            "order": null,
            "overflow": null,
            "overflow_x": null,
            "overflow_y": null,
            "padding": null,
            "right": null,
            "top": null,
            "visibility": null,
            "width": null
          }
        },
        "af0c0b93650340bb9b33075c7075303a": {
          "model_module": "@jupyter-widgets/controls",
          "model_name": "DescriptionStyleModel",
          "model_module_version": "1.5.0",
          "state": {
            "_model_module": "@jupyter-widgets/controls",
            "_model_module_version": "1.5.0",
            "_model_name": "DescriptionStyleModel",
            "_view_count": null,
            "_view_module": "@jupyter-widgets/base",
            "_view_module_version": "1.2.0",
            "_view_name": "StyleView",
            "description_width": ""
          }
        }
      }
    }
  },
  "nbformat": 4,
  "nbformat_minor": 0
}